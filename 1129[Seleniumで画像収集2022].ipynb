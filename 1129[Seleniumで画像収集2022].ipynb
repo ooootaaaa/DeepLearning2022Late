{
  "nbformat": 4,
  "nbformat_minor": 0,
  "metadata": {
    "colab": {
      "provenance": [],
      "authorship_tag": "ABX9TyOG0EvIl3QfP1BaXltUoRXI",
      "include_colab_link": true
    },
    "kernelspec": {
      "name": "python3",
      "display_name": "Python 3"
    },
    "language_info": {
      "name": "python"
    }
  },
  "cells": [
    {
      "cell_type": "markdown",
      "metadata": {
        "id": "view-in-github",
        "colab_type": "text"
      },
      "source": [
        "<a href=\"https://colab.research.google.com/github/ooootaaaa/DeepLearning2022Late/blob/main/1129%5BSelenium%E3%81%A7%E7%94%BB%E5%83%8F%E5%8F%8E%E9%9B%862022%5D.ipynb\" target=\"_parent\"><img src=\"https://colab.research.google.com/assets/colab-badge.svg\" alt=\"Open In Colab\"/></a>"
      ]
    },
    {
      "cell_type": "markdown",
      "source": [
        "##seleniumを使って自動で画像検索し、結果を収集する"
      ],
      "metadata": {
        "id": "usXTvz4u2Ka5"
      }
    },
    {
      "cell_type": "markdown",
      "source": [
        "##必要なアプリのインストール\n",
        "###Seleniumのインストール(バージョンを指定する)"
      ],
      "metadata": {
        "id": "JMjlfnRm2qb_"
      }
    },
    {
      "cell_type": "code",
      "execution_count": 1,
      "metadata": {
        "colab": {
          "base_uri": "https://localhost:8080/"
        },
        "id": "3Yc5LyoF1ROu",
        "outputId": "19cd1141-4964-4ed7-a19e-3f6f5c484477"
      },
      "outputs": [
        {
          "output_type": "stream",
          "name": "stdout",
          "text": [
            "Looking in indexes: https://pypi.org/simple, https://us-python.pkg.dev/colab-wheels/public/simple/\n",
            "Collecting selenium==4.1.0\n",
            "  Downloading selenium-4.1.0-py3-none-any.whl (958 kB)\n",
            "\u001b[K     |████████████████████████████████| 958 kB 6.6 MB/s \n",
            "\u001b[?25hCollecting trio-websocket~=0.9\n",
            "  Downloading trio_websocket-0.9.2-py3-none-any.whl (16 kB)\n",
            "Collecting urllib3[secure]~=1.26\n",
            "  Downloading urllib3-1.26.13-py2.py3-none-any.whl (140 kB)\n",
            "\u001b[K     |████████████████████████████████| 140 kB 31.5 MB/s \n",
            "\u001b[?25hCollecting trio~=0.17\n",
            "  Downloading trio-0.22.0-py3-none-any.whl (384 kB)\n",
            "\u001b[K     |████████████████████████████████| 384 kB 31.4 MB/s \n",
            "\u001b[?25hRequirement already satisfied: idna in /usr/local/lib/python3.7/dist-packages (from trio~=0.17->selenium==4.1.0) (2.10)\n",
            "Collecting async-generator>=1.9\n",
            "  Downloading async_generator-1.10-py3-none-any.whl (18 kB)\n",
            "Collecting exceptiongroup>=1.0.0rc9\n",
            "  Downloading exceptiongroup-1.0.4-py3-none-any.whl (14 kB)\n",
            "Requirement already satisfied: sortedcontainers in /usr/local/lib/python3.7/dist-packages (from trio~=0.17->selenium==4.1.0) (2.4.0)\n",
            "Collecting outcome\n",
            "  Downloading outcome-1.2.0-py2.py3-none-any.whl (9.7 kB)\n",
            "Requirement already satisfied: attrs>=19.2.0 in /usr/local/lib/python3.7/dist-packages (from trio~=0.17->selenium==4.1.0) (22.1.0)\n",
            "Collecting sniffio\n",
            "  Downloading sniffio-1.3.0-py3-none-any.whl (10 kB)\n",
            "Collecting wsproto>=0.14\n",
            "  Downloading wsproto-1.2.0-py3-none-any.whl (24 kB)\n",
            "Collecting urllib3-secure-extra\n",
            "  Downloading urllib3_secure_extra-0.1.0-py2.py3-none-any.whl (1.4 kB)\n",
            "Collecting pyOpenSSL>=0.14\n",
            "  Downloading pyOpenSSL-22.1.0-py3-none-any.whl (57 kB)\n",
            "\u001b[K     |████████████████████████████████| 57 kB 2.4 MB/s \n",
            "\u001b[?25hCollecting cryptography>=1.3.4\n",
            "  Downloading cryptography-38.0.4-cp36-abi3-manylinux_2_24_x86_64.whl (4.0 MB)\n",
            "\u001b[K     |████████████████████████████████| 4.0 MB 14.9 MB/s \n",
            "\u001b[?25hRequirement already satisfied: certifi in /usr/local/lib/python3.7/dist-packages (from urllib3[secure]~=1.26->selenium==4.1.0) (2022.9.24)\n",
            "Requirement already satisfied: cffi>=1.12 in /usr/local/lib/python3.7/dist-packages (from cryptography>=1.3.4->urllib3[secure]~=1.26->selenium==4.1.0) (1.15.1)\n",
            "Requirement already satisfied: pycparser in /usr/local/lib/python3.7/dist-packages (from cffi>=1.12->cryptography>=1.3.4->urllib3[secure]~=1.26->selenium==4.1.0) (2.21)\n",
            "Collecting h11<1,>=0.9.0\n",
            "  Downloading h11-0.14.0-py3-none-any.whl (58 kB)\n",
            "\u001b[K     |████████████████████████████████| 58 kB 2.3 MB/s \n",
            "\u001b[?25hRequirement already satisfied: typing-extensions in /usr/local/lib/python3.7/dist-packages (from h11<1,>=0.9.0->wsproto>=0.14->trio-websocket~=0.9->selenium==4.1.0) (4.1.1)\n",
            "Installing collected packages: sniffio, outcome, h11, exceptiongroup, cryptography, async-generator, wsproto, urllib3-secure-extra, urllib3, trio, pyOpenSSL, trio-websocket, selenium\n",
            "  Attempting uninstall: urllib3\n",
            "    Found existing installation: urllib3 1.24.3\n",
            "    Uninstalling urllib3-1.24.3:\n",
            "      Successfully uninstalled urllib3-1.24.3\n",
            "\u001b[31mERROR: pip's dependency resolver does not currently take into account all the packages that are installed. This behaviour is the source of the following dependency conflicts.\n",
            "requests 2.23.0 requires urllib3!=1.25.0,!=1.25.1,<1.26,>=1.21.1, but you have urllib3 1.26.13 which is incompatible.\u001b[0m\n",
            "Successfully installed async-generator-1.10 cryptography-38.0.4 exceptiongroup-1.0.4 h11-0.14.0 outcome-1.2.0 pyOpenSSL-22.1.0 selenium-4.1.0 sniffio-1.3.0 trio-0.22.0 trio-websocket-0.9.2 urllib3-1.26.13 urllib3-secure-extra-0.1.0 wsproto-1.2.0\n"
          ]
        }
      ],
      "source": [
        "!pip install selenium==4.1.0"
      ]
    },
    {
      "cell_type": "markdown",
      "source": [
        "###chromium-chromedriverのインストール"
      ],
      "metadata": {
        "id": "iUt32UAs3cXg"
      }
    },
    {
      "cell_type": "code",
      "source": [
        "!apt install chromium-chromedriver"
      ],
      "metadata": {
        "colab": {
          "base_uri": "https://localhost:8080/"
        },
        "id": "BeAtMD_S26WL",
        "outputId": "d2885264-87e0-4d0d-a779-5006468c1270"
      },
      "execution_count": 2,
      "outputs": [
        {
          "output_type": "stream",
          "name": "stdout",
          "text": [
            "Reading package lists... Done\n",
            "Building dependency tree       \n",
            "Reading state information... Done\n",
            "The following package was automatically installed and is no longer required:\n",
            "  libnvidia-common-460\n",
            "Use 'apt autoremove' to remove it.\n",
            "The following additional packages will be installed:\n",
            "  chromium-browser chromium-browser-l10n chromium-codecs-ffmpeg-extra\n",
            "Suggested packages:\n",
            "  webaccounts-chromium-extension unity-chromium-extension\n",
            "The following NEW packages will be installed:\n",
            "  chromium-browser chromium-browser-l10n chromium-chromedriver\n",
            "  chromium-codecs-ffmpeg-extra\n",
            "0 upgraded, 4 newly installed, 0 to remove and 5 not upgraded.\n",
            "Need to get 95.1 MB of archives.\n",
            "After this operation, 319 MB of additional disk space will be used.\n",
            "Get:1 http://archive.ubuntu.com/ubuntu bionic-updates/universe amd64 chromium-codecs-ffmpeg-extra amd64 107.0.5304.87-0ubuntu11.18.04.1 [1,158 kB]\n",
            "Get:2 http://archive.ubuntu.com/ubuntu bionic-updates/universe amd64 chromium-browser amd64 107.0.5304.87-0ubuntu11.18.04.1 [83.1 MB]\n",
            "Get:3 http://archive.ubuntu.com/ubuntu bionic-updates/universe amd64 chromium-browser-l10n all 107.0.5304.87-0ubuntu11.18.04.1 [5,260 kB]\n",
            "Get:4 http://archive.ubuntu.com/ubuntu bionic-updates/universe amd64 chromium-chromedriver amd64 107.0.5304.87-0ubuntu11.18.04.1 [5,570 kB]\n",
            "Fetched 95.1 MB in 4s (24.0 MB/s)\n",
            "Selecting previously unselected package chromium-codecs-ffmpeg-extra.\n",
            "(Reading database ... 123991 files and directories currently installed.)\n",
            "Preparing to unpack .../chromium-codecs-ffmpeg-extra_107.0.5304.87-0ubuntu11.18.04.1_amd64.deb ...\n",
            "Unpacking chromium-codecs-ffmpeg-extra (107.0.5304.87-0ubuntu11.18.04.1) ...\n",
            "Selecting previously unselected package chromium-browser.\n",
            "Preparing to unpack .../chromium-browser_107.0.5304.87-0ubuntu11.18.04.1_amd64.deb ...\n",
            "Unpacking chromium-browser (107.0.5304.87-0ubuntu11.18.04.1) ...\n",
            "Selecting previously unselected package chromium-browser-l10n.\n",
            "Preparing to unpack .../chromium-browser-l10n_107.0.5304.87-0ubuntu11.18.04.1_all.deb ...\n",
            "Unpacking chromium-browser-l10n (107.0.5304.87-0ubuntu11.18.04.1) ...\n",
            "Selecting previously unselected package chromium-chromedriver.\n",
            "Preparing to unpack .../chromium-chromedriver_107.0.5304.87-0ubuntu11.18.04.1_amd64.deb ...\n",
            "Unpacking chromium-chromedriver (107.0.5304.87-0ubuntu11.18.04.1) ...\n",
            "Setting up chromium-codecs-ffmpeg-extra (107.0.5304.87-0ubuntu11.18.04.1) ...\n",
            "Setting up chromium-browser (107.0.5304.87-0ubuntu11.18.04.1) ...\n",
            "update-alternatives: using /usr/bin/chromium-browser to provide /usr/bin/x-www-browser (x-www-browser) in auto mode\n",
            "update-alternatives: using /usr/bin/chromium-browser to provide /usr/bin/gnome-www-browser (gnome-www-browser) in auto mode\n",
            "Setting up chromium-chromedriver (107.0.5304.87-0ubuntu11.18.04.1) ...\n",
            "Setting up chromium-browser-l10n (107.0.5304.87-0ubuntu11.18.04.1) ...\n",
            "Processing triggers for man-db (2.8.3-2ubuntu0.1) ...\n",
            "Processing triggers for hicolor-icon-theme (0.17-2) ...\n",
            "Processing triggers for mime-support (3.60ubuntu1) ...\n",
            "Processing triggers for libc-bin (2.27-3ubuntu1.6) ...\n"
          ]
        }
      ]
    },
    {
      "cell_type": "markdown",
      "source": [
        "##seleniumを実行して操作する"
      ],
      "metadata": {
        "id": "KkJ9ihrS4uTa"
      }
    },
    {
      "cell_type": "markdown",
      "source": [
        "###その他のライブラリのimport"
      ],
      "metadata": {
        "id": "kt-sTZbm49sO"
      }
    },
    {
      "cell_type": "code",
      "source": [
        "import requests\n",
        "from selenium import  webdriver\n",
        "from selenium.webdriver.chrome.options import Options\n",
        "import os\n",
        "import time\n",
        "import datetime\n",
        "#エラー処理用\n",
        "from selenium.common.exceptions import NoSuchElementException\n",
        "from selenium.common.exceptions import ElementClickInterceptedException"
      ],
      "metadata": {
        "colab": {
          "base_uri": "https://localhost:8080/"
        },
        "id": "PCJNsTqH31AI",
        "outputId": "ca0b7d01-cbf5-4192-8556-11f10c17f936"
      },
      "execution_count": 3,
      "outputs": [
        {
          "output_type": "stream",
          "name": "stderr",
          "text": [
            "/usr/local/lib/python3.7/dist-packages/requests/__init__.py:91: RequestsDependencyWarning: urllib3 (1.26.13) or chardet (3.0.4) doesn't match a supported version!\n",
            "  RequestsDependencyWarning)\n"
          ]
        }
      ]
    },
    {
      "cell_type": "markdown",
      "source": [
        "##ログ用に時刻を取得"
      ],
      "metadata": {
        "id": "2WgyuJwC7CZp"
      }
    },
    {
      "cell_type": "code",
      "source": [
        "tm_start = time.time()#処理時間計測用\n",
        "dt_now = datetime.datetime.now()#現在時間\n",
        "dt_date_str = dt_now.strftime('%Y/%m/%d %H:%M')#書式指定\n",
        "print(dt_date_str)"
      ],
      "metadata": {
        "colab": {
          "base_uri": "https://localhost:8080/"
        },
        "id": "7aBjCpaZ6K5f",
        "outputId": "9aa5365d-bdb0-48b3-e928-6c9be506c0f7"
      },
      "execution_count": 4,
      "outputs": [
        {
          "output_type": "stream",
          "name": "stdout",
          "text": [
            "2022/11/29 03:15\n"
          ]
        }
      ]
    },
    {
      "cell_type": "markdown",
      "source": [
        "##検索に関する設定値を定義する"
      ],
      "metadata": {
        "id": "y0DJPynX9Hmo"
      }
    },
    {
      "cell_type": "code",
      "source": [
        "QUERY = '犬 フリー'#検索したいワード\n",
        "LIMIT_DL_NUM = 100#ダウンロード数の上限\n",
        "SAVE_DIR = 'img/dog_'#出力フォルダ(自動生成させる)\n",
        "FILE_NAME = 'dog_'#ファイル名(後ろに連番と拡張子をつけていく)\n",
        "TIMEOUT = 60 #検索のタイムアウト(秒)\n",
        "ACCESS_WAIT = 1 #アクセスする間隔(秒)←超重要\n",
        "RETRY_NUM = 3 #クリックやrequestのリトライ回数\n",
        "DRIVER_PATH = '/usr/bin/chromedriver'#chromedriver.exeへのパス"
      ],
      "metadata": {
        "id": "8mQqqy917Swt"
      },
      "execution_count": 5,
      "outputs": []
    },
    {
      "cell_type": "markdown",
      "source": [
        "##Chromeをヘッドレスモードで起動する\n",
        "ヘッドレスモード = ブラウザを画面に開かないで実行するモード"
      ],
      "metadata": {
        "id": "3sE9cARpAPwD"
      }
    },
    {
      "cell_type": "code",
      "source": [
        "# optionの指定を準備\n",
        "options = Options()\n",
        "options.add_argument('--headless')\n",
        "options.add_argument('--no-sandbox')\n",
        "options.add_argument('--disable-dev-shm-usage')\n",
        "options.add_argument('start-fullscreen')\n",
        "options.add_argument('--disable-plugins')\n",
        "options.add_argument('--disable-extensions')\n",
        "#起動する\n",
        "driver= webdriver.Chrome(DRIVER_PATH,options=options)\n",
        "driver.implicitly_wait(TIMEOUT)#タイムアウト指定\n",
        "#ログに処理時間を出力\n",
        "tm_driver = time.time()\n",
        "print('WebDriver起動完了',f'{tm_driver - tm_start}s')"
      ],
      "metadata": {
        "colab": {
          "base_uri": "https://localhost:8080/"
        },
        "id": "w2F9UiC4-BTD",
        "outputId": "d013228c-ed4b-45da-bf6c-a5c656691fc9"
      },
      "execution_count": 6,
      "outputs": [
        {
          "output_type": "stream",
          "name": "stderr",
          "text": [
            "/usr/local/lib/python3.7/dist-packages/ipykernel_launcher.py:10: DeprecationWarning: executable_path has been deprecated, please pass in a Service object\n",
            "  # Remove the CWD from sys.path while we load stuff.\n"
          ]
        },
        {
          "output_type": "stream",
          "name": "stdout",
          "text": [
            "WebDriver起動完了 0.892305850982666s\n"
          ]
        }
      ]
    },
    {
      "cell_type": "markdown",
      "source": [
        "##Googleの画像検索へアクセス"
      ],
      "metadata": {
        "id": "TZI7AW7eMmYu"
      }
    },
    {
      "cell_type": "code",
      "source": [
        "#QUERY条件付きでURLを定義する\n",
        "url = f'https://www.google.com/search?q={QUERY}&tbm=isch'\n",
        "#組み立てたURLでアクセスで検索\n",
        "driver.get(url)\n",
        "#時刻のログを取得\n",
        "tm_geturl = time.time()\n",
        "print('Google画像検索ページ取得',f'{tm_geturl - tm_driver:.1f}s')\n"
      ],
      "metadata": {
        "colab": {
          "base_uri": "https://localhost:8080/"
        },
        "id": "izqaq6JeMte0",
        "outputId": "7d8b15d4-a23f-48d4-ab19-b728575c5383"
      },
      "execution_count": 7,
      "outputs": [
        {
          "output_type": "stream",
          "name": "stdout",
          "text": [
            "Google画像検索ページ取得 2.0s\n"
          ]
        }
      ]
    },
    {
      "cell_type": "markdown",
      "source": [
        "##検索結果の要素を取得していく"
      ],
      "metadata": {
        "id": "seBrBsJnQCeU"
      }
    },
    {
      "cell_type": "code",
      "source": [
        "#ページのサムネイル画像の要素群を取得\n",
        "#(islmpクラスが指定されたimg=サムネイルを全て拾う)\n",
        "tmb_elems = driver.find_elements_by_css_selector('#islmp img')\n",
        "#サムネイルのリストから各サムネイルのalt属性を取得\n",
        "tmb_alts = [tmb.get_attribute('alt') for tmb in tmb_elems]\n",
        "#alt属性が空(小さいサムネイル)のものを差し引いて合計を算出\n",
        "count = len(tmb_alts) - tmb_alts.count('')\n",
        "print(count)"
      ],
      "metadata": {
        "id": "y_YyNle_OFld",
        "colab": {
          "base_uri": "https://localhost:8080/"
        },
        "outputId": "5d612af6-dc06-43d8-e604-6d40b499c4fa"
      },
      "execution_count": 8,
      "outputs": [
        {
          "output_type": "stream",
          "name": "stderr",
          "text": [
            "/usr/local/lib/python3.7/dist-packages/ipykernel_launcher.py:3: DeprecationWarning: find_elements_by_* commands are deprecated. Please use find_elements() instead\n",
            "  This is separate from the ipykernel package so we can avoid doing imports until\n"
          ]
        },
        {
          "output_type": "stream",
          "name": "stdout",
          "text": [
            "48\n"
          ]
        }
      ]
    },
    {
      "cell_type": "markdown",
      "source": [
        "##下にスクロールさせてさらに検索結果を表示させてまたカウント"
      ],
      "metadata": {
        "id": "GXfA_8llTPRD"
      }
    },
    {
      "cell_type": "code",
      "source": [
        "#定義したLIMIT_DL_NUM(ダウンロード数の上限)になるまでスクロールを繰り返す\n",
        "while count < LIMIT_DL_NUM:\n",
        "  #ページの一番下へスクロールして新しいサムネイル画像を表示させる\n",
        "  driver.execute_script('window.scrollTo(0, document.body.scrollHeight);')\n",
        "  time.sleep(1) #スリープを繰り返す間隔(秒)を入れる　←重要\n",
        "  #(islmpクラスが指定されたimg=サムネイルを全て拾う)\n",
        "  tmb_elems = driver.find_elements_by_css_selector('#islmp img')\n",
        "  #サムネイルのリストから各サムネイルのalt属性を取得\n",
        "  tmb_alts = [tmb.get_attribute('alt') for tmb in tmb_elems]\n",
        "  #alt属性が空(小さいサムネイル)のものを差し引いて合計を算出\n",
        "  count = len(tmb_alts) - tmb_alts.count('')\n",
        "  print(count)\n"
      ],
      "metadata": {
        "colab": {
          "base_uri": "https://localhost:8080/"
        },
        "id": "8GNGqnsqSs_I",
        "outputId": "f37a5229-3219-45bf-93ec-400ca7739ebc"
      },
      "execution_count": 9,
      "outputs": [
        {
          "output_type": "stream",
          "name": "stderr",
          "text": [
            "/usr/local/lib/python3.7/dist-packages/ipykernel_launcher.py:7: DeprecationWarning: find_elements_by_* commands are deprecated. Please use find_elements() instead\n",
            "  import sys\n"
          ]
        },
        {
          "output_type": "stream",
          "name": "stdout",
          "text": [
            "100\n"
          ]
        }
      ]
    },
    {
      "cell_type": "markdown",
      "source": [
        "##サムネイル画像をクリックすると右側に開かれる領域をオブジェクトに取得"
      ],
      "metadata": {
        "id": "SmDg_hXoZcRI"
      }
    },
    {
      "cell_type": "code",
      "source": [
        "imgframe_elem = driver.find_element_by_id(('islsp'))\n"
      ],
      "metadata": {
        "colab": {
          "base_uri": "https://localhost:8080/"
        },
        "id": "Gv9-D4CiUzO1",
        "outputId": "5f2974a7-fd70-4a07-c7cd-825196f5e7d4"
      },
      "execution_count": 10,
      "outputs": [
        {
          "output_type": "stream",
          "name": "stderr",
          "text": [
            "/usr/local/lib/python3.7/dist-packages/ipykernel_launcher.py:1: DeprecationWarning: find_element_by_* commands are deprecated. Please use find_element() instead\n",
            "  \"\"\"Entry point for launching an IPython kernel.\n"
          ]
        }
      ]
    },
    {
      "cell_type": "markdown",
      "source": [
        "##画像へURLアクセスした保存する準備をする"
      ],
      "metadata": {
        "id": "X5rkvLLtaJC2"
      }
    },
    {
      "cell_type": "code",
      "source": [
        "#画像の保存フォルダを作成\n",
        "os.makedirs(SAVE_DIR,exist_ok=True)\n",
        "#HTTPリクエスト用のヘッダーを作る\n",
        "HTTP_HEADERS = {'User-Aget':driver.execute_script('return navigator.userAgent;')}\n",
        "print(HTTP_HEADERS)\n",
        "#ダウンロードしたい対象のファイル拡張子\n",
        "IMG_EXTS = ('.jpg','.jpeg','.png','.gif')"
      ],
      "metadata": {
        "colab": {
          "base_uri": "https://localhost:8080/"
        },
        "id": "K1USj5UBZ_HT",
        "outputId": "7d225a10-8ca3-40e5-be8e-59518745143d"
      },
      "execution_count": 14,
      "outputs": [
        {
          "output_type": "stream",
          "name": "stdout",
          "text": [
            "{'User-Aget': 'Mozilla/5.0 (X11; Linux x86_64) AppleWebKit/537.36 (KHTML, like Gecko) HeadlessChrome/107.0.5304.87 Safari/537.36'}\n"
          ]
        }
      ]
    },
    {
      "cell_type": "markdown",
      "source": [
        "##ダウンロード中に利用する関数を定義\n",
        "###画像の拡張子を取得する関数"
      ],
      "metadata": {
        "id": "Qf3MpbDlcOmT"
      }
    },
    {
      "cell_type": "code",
      "source": [
        "#拡張子を取得する関数\n",
        "def get_exetension(url):\n",
        "  url_lower = url.lower()\n",
        "  for img_ext in IMG_EXTS:#拡張子のリストから1つずつ比較\n",
        "    if img_ext in url_lower:\n",
        "      extension = '.jpg' if img_ext == '.jpeg' else img_ext\n",
        "      break\n",
        "    #if終わり\n",
        "    else:\n",
        "      extension = ''\n",
        "    #for終わり\n",
        "  return extension\n",
        "#関数終わり"
      ],
      "metadata": {
        "id": "-F59o8NwbOtS"
      },
      "execution_count": 15,
      "outputs": []
    },
    {
      "cell_type": "code",
      "source": [],
      "metadata": {
        "id": "m_tCLgDCd9Bz"
      },
      "execution_count": null,
      "outputs": []
    }
  ]
}