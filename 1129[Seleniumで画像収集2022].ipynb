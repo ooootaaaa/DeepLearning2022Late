{
  "nbformat": 4,
  "nbformat_minor": 0,
  "metadata": {
    "colab": {
      "provenance": [],
      "authorship_tag": "ABX9TyNwUaLHQ3f0aYPjWSOTvexG",
      "include_colab_link": true
    },
    "kernelspec": {
      "name": "python3",
      "display_name": "Python 3"
    },
    "language_info": {
      "name": "python"
    }
  },
  "cells": [
    {
      "cell_type": "markdown",
      "metadata": {
        "id": "view-in-github",
        "colab_type": "text"
      },
      "source": [
        "<a href=\"https://colab.research.google.com/github/ooootaaaa/DeepLearning2022Late/blob/main/1129%5BSelenium%E3%81%A7%E7%94%BB%E5%83%8F%E5%8F%8E%E9%9B%862022%5D.ipynb\" target=\"_parent\"><img src=\"https://colab.research.google.com/assets/colab-badge.svg\" alt=\"Open In Colab\"/></a>"
      ]
    },
    {
      "cell_type": "markdown",
      "source": [
        "##seleniumを使って自動で画像検索し、結果を収集する"
      ],
      "metadata": {
        "id": "usXTvz4u2Ka5"
      }
    },
    {
      "cell_type": "markdown",
      "source": [
        "##必要なアプリのインストール\n",
        "###Seleniumのインストール(バージョンを指定する)"
      ],
      "metadata": {
        "id": "JMjlfnRm2qb_"
      }
    },
    {
      "cell_type": "code",
      "execution_count": 1,
      "metadata": {
        "colab": {
          "base_uri": "https://localhost:8080/"
        },
        "id": "3Yc5LyoF1ROu",
        "outputId": "55b01dc0-5788-4723-f4de-680af7a24b09"
      },
      "outputs": [
        {
          "output_type": "stream",
          "name": "stdout",
          "text": [
            "Looking in indexes: https://pypi.org/simple, https://us-python.pkg.dev/colab-wheels/public/simple/\n",
            "Requirement already satisfied: selenium==4.1.0 in /usr/local/lib/python3.8/dist-packages (4.1.0)\n",
            "Requirement already satisfied: urllib3[secure]~=1.26 in /usr/local/lib/python3.8/dist-packages (from selenium==4.1.0) (1.26.13)\n",
            "Requirement already satisfied: trio~=0.17 in /usr/local/lib/python3.8/dist-packages (from selenium==4.1.0) (0.22.0)\n",
            "Requirement already satisfied: trio-websocket~=0.9 in /usr/local/lib/python3.8/dist-packages (from selenium==4.1.0) (0.9.2)\n",
            "Requirement already satisfied: async-generator>=1.9 in /usr/local/lib/python3.8/dist-packages (from trio~=0.17->selenium==4.1.0) (1.10)\n",
            "Requirement already satisfied: exceptiongroup>=1.0.0rc9 in /usr/local/lib/python3.8/dist-packages (from trio~=0.17->selenium==4.1.0) (1.0.4)\n",
            "Requirement already satisfied: outcome in /usr/local/lib/python3.8/dist-packages (from trio~=0.17->selenium==4.1.0) (1.2.0)\n",
            "Requirement already satisfied: sortedcontainers in /usr/local/lib/python3.8/dist-packages (from trio~=0.17->selenium==4.1.0) (2.4.0)\n",
            "Requirement already satisfied: idna in /usr/local/lib/python3.8/dist-packages (from trio~=0.17->selenium==4.1.0) (2.10)\n",
            "Requirement already satisfied: attrs>=19.2.0 in /usr/local/lib/python3.8/dist-packages (from trio~=0.17->selenium==4.1.0) (22.1.0)\n",
            "Requirement already satisfied: sniffio in /usr/local/lib/python3.8/dist-packages (from trio~=0.17->selenium==4.1.0) (1.3.0)\n",
            "Requirement already satisfied: wsproto>=0.14 in /usr/local/lib/python3.8/dist-packages (from trio-websocket~=0.9->selenium==4.1.0) (1.2.0)\n",
            "Requirement already satisfied: pyOpenSSL>=0.14 in /usr/local/lib/python3.8/dist-packages (from urllib3[secure]~=1.26->selenium==4.1.0) (22.1.0)\n",
            "Requirement already satisfied: cryptography>=1.3.4 in /usr/local/lib/python3.8/dist-packages (from urllib3[secure]~=1.26->selenium==4.1.0) (38.0.4)\n",
            "Requirement already satisfied: urllib3-secure-extra in /usr/local/lib/python3.8/dist-packages (from urllib3[secure]~=1.26->selenium==4.1.0) (0.1.0)\n",
            "Requirement already satisfied: certifi in /usr/local/lib/python3.8/dist-packages (from urllib3[secure]~=1.26->selenium==4.1.0) (2022.9.24)\n",
            "Requirement already satisfied: cffi>=1.12 in /usr/local/lib/python3.8/dist-packages (from cryptography>=1.3.4->urllib3[secure]~=1.26->selenium==4.1.0) (1.15.1)\n",
            "Requirement already satisfied: pycparser in /usr/local/lib/python3.8/dist-packages (from cffi>=1.12->cryptography>=1.3.4->urllib3[secure]~=1.26->selenium==4.1.0) (2.21)\n",
            "Requirement already satisfied: h11<1,>=0.9.0 in /usr/local/lib/python3.8/dist-packages (from wsproto>=0.14->trio-websocket~=0.9->selenium==4.1.0) (0.14.0)\n"
          ]
        }
      ],
      "source": [
        "!pip install selenium==4.1.0"
      ]
    },
    {
      "cell_type": "markdown",
      "source": [
        "###chromium-chromedriverのインストール"
      ],
      "metadata": {
        "id": "iUt32UAs3cXg"
      }
    },
    {
      "cell_type": "code",
      "source": [
        "!apt install chromium-chromedriver"
      ],
      "metadata": {
        "colab": {
          "base_uri": "https://localhost:8080/"
        },
        "id": "BeAtMD_S26WL",
        "outputId": "0227e220-cbec-4f39-971d-6bb473450d2f"
      },
      "execution_count": 2,
      "outputs": [
        {
          "output_type": "stream",
          "name": "stdout",
          "text": [
            "Reading package lists... Done\n",
            "Building dependency tree       \n",
            "Reading state information... Done\n",
            "chromium-chromedriver is already the newest version (108.0.5359.71-0ubuntu0.18.04.5).\n",
            "The following package was automatically installed and is no longer required:\n",
            "  libnvidia-common-460\n",
            "Use 'apt autoremove' to remove it.\n",
            "0 upgraded, 0 newly installed, 0 to remove and 20 not upgraded.\n"
          ]
        }
      ]
    },
    {
      "cell_type": "markdown",
      "source": [
        "##seleniumを実行して操作する"
      ],
      "metadata": {
        "id": "KkJ9ihrS4uTa"
      }
    },
    {
      "cell_type": "markdown",
      "source": [
        "###その他のライブラリのimport"
      ],
      "metadata": {
        "id": "kt-sTZbm49sO"
      }
    },
    {
      "cell_type": "code",
      "source": [
        "import requests\n",
        "from selenium import  webdriver\n",
        "from selenium.webdriver.chrome.options import Options\n",
        "import os\n",
        "import time\n",
        "import datetime\n",
        "#エラー処理用\n",
        "from selenium.common.exceptions import NoSuchElementException\n",
        "from selenium.common.exceptions import ElementClickInterceptedException"
      ],
      "metadata": {
        "colab": {
          "base_uri": "https://localhost:8080/"
        },
        "id": "PCJNsTqH31AI",
        "outputId": "8daad85f-edce-4e7e-80b7-3d6cf5034883"
      },
      "execution_count": 3,
      "outputs": [
        {
          "output_type": "stream",
          "name": "stderr",
          "text": [
            "/usr/local/lib/python3.8/dist-packages/requests/__init__.py:89: RequestsDependencyWarning: urllib3 (1.26.13) or chardet (3.0.4) doesn't match a supported version!\n",
            "  warnings.warn(\"urllib3 ({}) or chardet ({}) doesn't match a supported \"\n"
          ]
        }
      ]
    },
    {
      "cell_type": "markdown",
      "source": [
        "##ログ用に時刻を取得"
      ],
      "metadata": {
        "id": "2WgyuJwC7CZp"
      }
    },
    {
      "cell_type": "code",
      "source": [
        "tm_start = time.time()#処理時間計測用\n",
        "dt_now = datetime.datetime.now()#現在時間\n",
        "dt_date_str = dt_now.strftime('%Y/%m/%d %H:%M')#書式指定\n",
        "print(dt_date_str)"
      ],
      "metadata": {
        "colab": {
          "base_uri": "https://localhost:8080/"
        },
        "id": "7aBjCpaZ6K5f",
        "outputId": "4e9fc91f-ed38-444b-e698-74beb31cd9ea"
      },
      "execution_count": 4,
      "outputs": [
        {
          "output_type": "stream",
          "name": "stdout",
          "text": [
            "2022/12/12 02:31\n"
          ]
        }
      ]
    },
    {
      "cell_type": "markdown",
      "source": [
        "##検索に関する設定値を定義する"
      ],
      "metadata": {
        "id": "y0DJPynX9Hmo"
      }
    },
    {
      "cell_type": "code",
      "source": [
        "QUERY = '犬 フリー'#検索したいワード\n",
        "LIMIT_DL_NUM = 100#ダウンロード数の上限\n",
        "SAVE_DIR = 'img/dog_'#出力フォルダ(自動生成させる)\n",
        "FILE_NAME = 'dog_'#ファイル名(後ろに連番と拡張子をつけていく)\n",
        "TIMEOUT = 60 #検索のタイムアウト(秒)\n",
        "ACCESS_WAIT = 1 #アクセスする間隔(秒)←超重要\n",
        "RETRY_NUM = 3 #クリックやrequestのリトライ回数\n",
        "DRIVER_PATH = '/usr/bin/chromedriver'#chromedriver.exeへのパス"
      ],
      "metadata": {
        "id": "8mQqqy917Swt"
      },
      "execution_count": 5,
      "outputs": []
    },
    {
      "cell_type": "markdown",
      "source": [
        "##Chromeをヘッドレスモードで起動する\n",
        "ヘッドレスモード = ブラウザを画面に開かないで実行するモード"
      ],
      "metadata": {
        "id": "3sE9cARpAPwD"
      }
    },
    {
      "cell_type": "code",
      "source": [
        "# optionの指定を準備\n",
        "options = Options()\n",
        "options.add_argument('--headless')\n",
        "options.add_argument('--no-sandbox')\n",
        "options.add_argument('--disable-dev-shm-usage')\n",
        "options.add_argument('start-fullscreen')\n",
        "options.add_argument('--disable-plugins')\n",
        "options.add_argument('--disable-extensions')\n",
        "#起動する\n",
        "driver= webdriver.Chrome(DRIVER_PATH,options=options)\n",
        "driver.implicitly_wait(TIMEOUT)#タイムアウト指定\n",
        "#ログに処理時間を出力\n",
        "tm_driver = time.time()\n",
        "print('WebDriver起動完了',f'{tm_driver - tm_start:.1f}s')"
      ],
      "metadata": {
        "colab": {
          "base_uri": "https://localhost:8080/"
        },
        "id": "w2F9UiC4-BTD",
        "outputId": "f05ae70d-167b-43fc-e592-1f87da8719bc"
      },
      "execution_count": 6,
      "outputs": [
        {
          "output_type": "stream",
          "name": "stderr",
          "text": [
            "<ipython-input-6-c7e25328e71c>:10: DeprecationWarning: executable_path has been deprecated, please pass in a Service object\n",
            "  driver= webdriver.Chrome(DRIVER_PATH,options=options)\n"
          ]
        },
        {
          "output_type": "stream",
          "name": "stdout",
          "text": [
            "WebDriver起動完了 0.9s\n"
          ]
        }
      ]
    },
    {
      "cell_type": "markdown",
      "source": [
        "##Googleの画像検索へアクセス"
      ],
      "metadata": {
        "id": "TZI7AW7eMmYu"
      }
    },
    {
      "cell_type": "code",
      "source": [
        "#QUERY条件付きでURLを定義する\n",
        "url = f'https://www.google.com/search?q={QUERY}&tbm=isch'\n",
        "#組み立てたURLでアクセスで検索\n",
        "driver.get(url)\n",
        "#時刻のログを取得\n",
        "tm_geturl = time.time()\n",
        "print('Google画像検索ページ取得',f'{tm_geturl - tm_driver:.1f}s')\n"
      ],
      "metadata": {
        "colab": {
          "base_uri": "https://localhost:8080/"
        },
        "id": "izqaq6JeMte0",
        "outputId": "e5c41c33-aaf2-4307-d39a-fe5e5d68f44c"
      },
      "execution_count": 7,
      "outputs": [
        {
          "output_type": "stream",
          "name": "stdout",
          "text": [
            "Google画像検索ページ取得 2.0s\n"
          ]
        }
      ]
    },
    {
      "cell_type": "markdown",
      "source": [
        "##検索結果の要素を取得していく"
      ],
      "metadata": {
        "id": "seBrBsJnQCeU"
      }
    },
    {
      "cell_type": "code",
      "source": [
        "#ページのサムネイル画像の要素群を取得\n",
        "#(islmpクラスが指定されたimg=サムネイルを全て拾う)\n",
        "tmb_elems = driver.find_elements_by_css_selector('#islmp img')\n",
        "#サムネイルのリストから各サムネイルのalt属性を取得\n",
        "tmb_alts = [tmb.get_attribute('alt') for tmb in tmb_elems]\n",
        "#alt属性が空(小さいサムネイル)のものを差し引いて合計を算出\n",
        "count = len(tmb_alts) - tmb_alts.count('')\n",
        "print(count)"
      ],
      "metadata": {
        "id": "y_YyNle_OFld",
        "colab": {
          "base_uri": "https://localhost:8080/"
        },
        "outputId": "5134f5ad-7acd-4b56-a8e4-1a6e64ca1bc8"
      },
      "execution_count": 8,
      "outputs": [
        {
          "output_type": "stream",
          "name": "stderr",
          "text": [
            "<ipython-input-8-9530cefa3356>:3: DeprecationWarning: find_elements_by_* commands are deprecated. Please use find_elements() instead\n",
            "  tmb_elems = driver.find_elements_by_css_selector('#islmp img')\n"
          ]
        },
        {
          "output_type": "stream",
          "name": "stdout",
          "text": [
            "48\n"
          ]
        }
      ]
    },
    {
      "cell_type": "markdown",
      "source": [
        "##下にスクロールさせてさらに検索結果を表示させてまたカウント"
      ],
      "metadata": {
        "id": "GXfA_8llTPRD"
      }
    },
    {
      "cell_type": "code",
      "source": [
        "\n",
        "#定義したLIMIT_DL_NUM(ダウンロード数の上限)になるまでスクロールを繰り返す\n",
        "while count < LIMIT_DL_NUM:\n",
        "  #ページの一番下へスクロールして新しいサムネイル画像を表示させる\n",
        "  driver.execute_script('window.scrollTo(0, document.body.scrollHeight);')\n",
        "  time.sleep(1) #スリープを繰り返す間隔(秒)を入れる　←重要\n",
        "  #(islmpクラスが指定されたimg=サムネイルを全て拾う)\n",
        "  tmb_elems = driver.find_elements_by_css_selector('#islmp img')\n",
        "  #サムネイルのリストから各サムネイルのalt属性を取得\n",
        "  tmb_alts = [tmb.get_attribute('alt') for tmb in tmb_elems]\n",
        "  #alt属性が空(小さいサムネイル)のものを差し引いて合計を算出\n",
        "  count = len(tmb_alts) - tmb_alts.count('')\n",
        "  print(count)\n"
      ],
      "metadata": {
        "colab": {
          "base_uri": "https://localhost:8080/"
        },
        "id": "8GNGqnsqSs_I",
        "outputId": "2e788d2f-c093-4125-907e-1c007cefb8c3"
      },
      "execution_count": 9,
      "outputs": [
        {
          "output_type": "stream",
          "name": "stderr",
          "text": [
            "<ipython-input-9-8a2fc6b3e78d>:7: DeprecationWarning: find_elements_by_* commands are deprecated. Please use find_elements() instead\n",
            "  tmb_elems = driver.find_elements_by_css_selector('#islmp img')\n"
          ]
        },
        {
          "output_type": "stream",
          "name": "stdout",
          "text": [
            "100\n"
          ]
        }
      ]
    },
    {
      "cell_type": "markdown",
      "source": [
        "##サムネイル画像をクリックすると右側に開かれる領域をオブジェクトに取得"
      ],
      "metadata": {
        "id": "SmDg_hXoZcRI"
      }
    },
    {
      "cell_type": "code",
      "source": [
        "imgframe_elem = driver.find_element_by_id(('islsp'))\n"
      ],
      "metadata": {
        "colab": {
          "base_uri": "https://localhost:8080/"
        },
        "id": "Gv9-D4CiUzO1",
        "outputId": "38c5d04d-76f0-466f-8868-9dfce3684c30"
      },
      "execution_count": 10,
      "outputs": [
        {
          "output_type": "stream",
          "name": "stderr",
          "text": [
            "<ipython-input-10-bccfe8b3b005>:1: DeprecationWarning: find_element_by_* commands are deprecated. Please use find_element() instead\n",
            "  imgframe_elem = driver.find_element_by_id(('islsp'))\n"
          ]
        }
      ]
    },
    {
      "cell_type": "markdown",
      "source": [
        "##画像へURLアクセスした保存する準備をする"
      ],
      "metadata": {
        "id": "X5rkvLLtaJC2"
      }
    },
    {
      "cell_type": "code",
      "source": [
        "#画像の保存フォルダを作成\n",
        "os.makedirs(SAVE_DIR,exist_ok=True)\n",
        "#HTTPリクエスト用のヘッダーを作る\n",
        "HTTP_HEADERS = {'User-Aget':driver.execute_script('return navigator.userAgent;')}\n",
        "print(HTTP_HEADERS)\n",
        "#ダウンロードしたい対象のファイル拡張子\n",
        "IMG_EXTS = ('.jpg','.jpeg','.png','.gif')"
      ],
      "metadata": {
        "colab": {
          "base_uri": "https://localhost:8080/"
        },
        "id": "K1USj5UBZ_HT",
        "outputId": "12c231a0-438a-420c-c849-6376f7db1c8c"
      },
      "execution_count": 11,
      "outputs": [
        {
          "output_type": "stream",
          "name": "stdout",
          "text": [
            "{'User-Aget': 'Mozilla/5.0 (X11; Linux x86_64) AppleWebKit/537.36 (KHTML, like Gecko) HeadlessChrome/108.0.5359.71 Safari/537.36'}\n"
          ]
        }
      ]
    },
    {
      "cell_type": "markdown",
      "source": [
        "##ダウンロード中に利用する関数を定義\n",
        "###画像の拡張子を取得する関数"
      ],
      "metadata": {
        "id": "Qf3MpbDlcOmT"
      }
    },
    {
      "cell_type": "code",
      "source": [
        "#拡張子を取得する関数\n",
        "def get_exetension(url):\n",
        "  url_lower = url.lower()\n",
        "  for img_ext in IMG_EXTS:#拡張子のリストから1つずつ比較\n",
        "    if img_ext in url_lower:\n",
        "      extension = '.jpg' if img_ext == '.jpeg' else img_ext\n",
        "      break\n",
        "    #if終わり\n",
        "    else:\n",
        "      extension = ''\n",
        "    #for終わり\n",
        "  return extension\n",
        "#関数終わり"
      ],
      "metadata": {
        "id": "-F59o8NwbOtS"
      },
      "execution_count": 12,
      "outputs": []
    },
    {
      "cell_type": "markdown",
      "source": [
        "###urlで指定した画像へアクセスし、フォルダ内のファイルとして書き込む"
      ],
      "metadata": {
        "id": "zckfPzKfN5te"
      }
    },
    {
      "cell_type": "code",
      "source": [
        "def download_image(url,path,loop):\n",
        "  result = False #戻り値の変数\n",
        "  for i in range(loop):\n",
        "    try:\n",
        "      r = requests.get(url,headers=HTTP_HEADERS, stream=True, timeout=10)\n",
        "      r.raise_for_status()\n",
        "      with open(path,'wb') as f:#バイナリ書き込むモードで開く\n",
        "        f.write(r.content)\n",
        "    except requests.exceptions.SSLError:\n",
        "      print('****** SSL エラー')\n",
        "      break #リトライしない\n",
        "    except requests.exceptions.RequestException as e:\n",
        "      print(f'***** requests エラー({e}): {i +1}/{RETRY_NUM}')\n",
        "      time.sleep(1)\n",
        "    else:\n",
        "      result = True\n",
        "      break #try成功\n",
        "    #ループ終わり\n",
        "  #関数終わり"
      ],
      "metadata": {
        "id": "m_tCLgDCd9Bz"
      },
      "execution_count": 13,
      "outputs": []
    },
    {
      "cell_type": "markdown",
      "source": [
        "###サムネイルを取得し、画像ダウンロードの準備ができたタイミング"
      ],
      "metadata": {
        "id": "DF-Nve86VJw9"
      }
    },
    {
      "cell_type": "code",
      "source": [
        "tm_thumbnails = time.time()\n",
        "print('サムネイル画像取得とDL準備完了',f'{tm_thumbnails - tm_geturl:.1f}s')"
      ],
      "metadata": {
        "colab": {
          "base_uri": "https://localhost:8080/"
        },
        "id": "T2GT0N2LRugK",
        "outputId": "ba8c9d54-5de5-4374-c408-d99e6651c9d4"
      },
      "execution_count": 14,
      "outputs": [
        {
          "output_type": "stream",
          "name": "stdout",
          "text": [
            "サムネイル画像取得とDL準備完了 6.1s\n"
          ]
        }
      ]
    },
    {
      "cell_type": "markdown",
      "source": [
        "###ダウンロード処理"
      ],
      "metadata": {
        "id": "3gouEdJ0WGTT"
      }
    },
    {
      "cell_type": "code",
      "source": [
        "EXCLUSION_URL = 'https//lh3.googleusercontent.com/'#除外対象URL\n",
        "count=0\n",
        "url_list=[]\n",
        "#サムネイルをクリック、画像リンクを取得、画像をDL＆保存を繰り返す\n",
        "for tmb_elem,tmb_alt in zip(tmb_elems,tmb_alts):\n",
        "  if tmb_alt == '': ##ALT属性が空==小さい\n",
        "    continue\n",
        "  print(f'{count}:{tmb_alt}')#カウンタとALT属性で表示\n",
        "  #リトライ回数分だけ試行\n",
        "  for i in range(RETRY_NUM):\n",
        "    #サムネイルをクリック\n",
        "    try:\n",
        "      tmb_elem.click()\n",
        "    except ElementClickInterceptedException:\n",
        "      print(f'***** click エラー: {i+1}/{RETRY_NUM}')\n",
        "      #フォーカスをあわせる\n",
        "      driver.execute_script('arguments[0].scrollIntoView(true);',tmb_elem)\n",
        "      time.sleep(1)\n",
        "    else:\n",
        "      break #try(クリック成功)\n",
        "  else:\n",
        "    print('***** キャンセル')\n",
        "    continue#リトライ失敗、次のアイコンにスキップ\n",
        "  #クリック成功したら、処理を続ける\n",
        "  time.sleep(ACCESS_WAIT)\n",
        "  #alt属性\n",
        "  alt = tmb_alt.replace(\"'\",\"\\\\\")\n",
        "  try:\n",
        "    #左側のalt属性を基に左側の大きな画像をalt属性を指定して取得\n",
        "    img_elem = imgframe_elem.find_element_by_css_selector(f'img[alt=\\'{alt}\\']')\n",
        "\n",
        "  except NoSuchElementException:\n",
        "    print('***** img要素検索エラー')\n",
        "    print('***** キャンセル')\n",
        "    continue #次のサムネイルへスキップ\n",
        "  #右の大きな画像オブジェクトが取得出来たら、その画像リンクを取得する\n",
        "  tmb_url = tmb_elem.get_attribute('src')#src属性からリンクurlを取得\n",
        "\n",
        "  #リトライしながらURLをチェック\n",
        "  for i in range(RETRY_NUM):\n",
        "    #大きい画像のURL\n",
        "    url = img_elem.get_attribute('src')\n",
        "    if EXCLUSION_URL in url:\n",
        "      print('除外対象url')\n",
        "      url=''\n",
        "      break\n",
        "    elif url == tmb_url:#サムネイルのurlと一緒なら、リトライを続ける\n",
        "      print(f'***** urlチェック:{i+1}/{RETRY_NUM}')\n",
        "    else:\n",
        "      break#ループ中断(除外対象でもサムネイルでもない、OKなurl)\n",
        "      #RETRYループ終わり\n",
        "    #URLチェックの結果、OKなリンクでなければ次のサムネイルへスキップ\n",
        "  if url == '':\n",
        "    print('***** キャンセル')#大きなループをcontinue\n",
        "    continue\n",
        "  #url先の拡張子が指定の画像拡張子でなければ次のサムネイルへスキップ\n",
        "  ext = get_exetension(url)#自作の関数で拡張子を取得\n",
        "  if ext == '':#指定の画像拡張子出ない場合\n",
        "    print(f'***** urlに拡張子が含まれていないのでキャンセル')\n",
        "    print(f'{url}')\n",
        "    continue\n",
        "\n",
        "  #ダウンロード周り:保存するファイルパスを指定する\n",
        "  filename = f'{FILE_NAME}{count}{ext}'\n",
        "  path = SAVE_DIR + '/' + filename\n",
        "  #ダウンロードを実行(自作関数を呼び出す)\n",
        "  result = download_image(url,path,RETRY_NUM)\n",
        "  if result == False:\n",
        "    print('***** キャンセル')\n",
        "    continue #次のサムネイルへスキップ\n",
        "    #ダウンロードしたURLをリストに追加\n",
        "    url_list.append(f'{filename}:{url}')\n",
        "  #最後に、ダウンロード数カウンタの更新と終了判定\n",
        "  count += 1\n",
        "  if count >= LIMIT_DL_NUM:\n",
        "    break#ダウンロードのループを終了\n",
        "#ループ終わり\n",
        "#終了時間の表示\n",
        "tm_end = time.time()#現在時刻\n",
        "print('ダウンロード', f'{tm_end - tm_thumbnails:.1f}s')\n",
        "print('-------------------------')"
      ],
      "metadata": {
        "id": "9Y_tpHrYWBdb",
        "colab": {
          "base_uri": "https://localhost:8080/"
        },
        "outputId": "15a962da-7259-4ed3-9e67-82bdb5f720ae"
      },
      "execution_count": 15,
      "outputs": [
        {
          "output_type": "stream",
          "name": "stdout",
          "text": [
            "0:犬の写真素材｜写真素材なら「写真AC」無料（フリー）ダウンロードOK\n"
          ]
        },
        {
          "output_type": "stream",
          "name": "stderr",
          "text": [
            "/usr/local/lib/python3.8/dist-packages/selenium/webdriver/remote/webelement.py:484: UserWarning: find_element_by_* commands are deprecated. Please use find_element() instead\n",
            "  warnings.warn(\"find_element_by_* commands are deprecated. Please use find_element() instead\")\n"
          ]
        },
        {
          "output_type": "stream",
          "name": "stdout",
          "text": [
            "1:犬 | フリー素材ドットコム\n",
            "2:へっくしょん（犬）の写真素材 - ぱくたそ\n",
            "3:怠惰な秋田犬の写真素材 - ぱくたそ\n",
            "4:犬 | フリー素材ドットコム\n",
            "5:犬の写真素材｜写真素材なら「写真AC」無料（フリー）ダウンロードOK\n",
            "6:画像素材なら！無料・フリー写真素材のフリーフォト\n",
            "***** urlチェック:1/3\n",
            "***** urlチェック:2/3\n",
            "***** urlチェック:3/3\n",
            "***** urlに拡張子が含まれていないのでキャンセル\n",
            "data:image/jpeg;base64,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\n",
            "6:フリー写真] 芝生を駆ける二匹の子犬でアハ体験 - GAHAG | 著作権フリー写真・イラスト素材集\n",
            "***** urlチェック:1/3\n",
            "***** urlチェック:2/3\n",
            "***** urlチェック:3/3\n",
            "***** urlに拡張子が含まれていないのでキャンセル\n",
            "data:image/jpeg;base64,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\n",
            "6:犬の写真素材｜写真素材なら「写真AC」無料（フリー）ダウンロードOK\n",
            "7:犬（戌）」をテーマにした無料写真素材10選（商用利用可） | ACワークスのブログ\n",
            "8:犬・チワワ | 無料の高画質フリー写真素材 | イメージズラボ\n",
            "9:フリー写真素材|動物|哺乳類|イヌ科|犬・イヌ|子犬・小犬|柴犬 ... | Dog blog, Shiba inu, Cute animals\n",
            "10:犬のイラスト-無料イラストフリー素材\n",
            "***** urlチェック:1/3\n",
            "***** urlチェック:2/3\n",
            "***** urlチェック:3/3\n",
            "***** urlに拡張子が含まれていないのでキャンセル\n",
            "data:image/png;base64,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\n",
            "10:犬のフリーアイコン｜可愛いフリーアイコン・イラストの無料素材サイト｜フリーペンシル\n",
            "11:フリー写真] 耳の垂れた犬 - パブリックドメインQ：著作権フリー画像素材集\n",
            "12:無料で使える 犬 フリー素材 - 使える写真ギャラリーSothei\n",
            "13:23,754+以上の無料犬画像\n",
            "14:犬 のストック写真、ロイヤリティフリーの画像、ベクター、およびビデオ | Adobe Stock\n",
            "15:走る犬 シュナウザーのフリー素材｜無料写真素材集＞dog0173-022＞ダウンロード 高解像度画像 無料写真素材のプロ・フォト\n",
            "16:犬（戌）」をテーマにした無料イラスト素材10選（商用利用可） | ACワークスのブログ\n",
            "17:犬 ハイタッチの写真素材｜写真素材なら「写真AC」無料（フリー）ダウンロードOK\n",
            "18:犬からの10のお願い | 泣ける話や感動の実話、号泣するストーリーまとめ - ラクリマ\n",
            "19:日本スピッツや白い犬の素材（動画や写真）をお探しの方へ│日本スピッツちぃ。\n",
            "20:犬 | フリー素材ドットコム\n",
            "21:フリー写真] 四匹の犬と猫 - パブリックドメインQ：著作権フリー画像素材集\n",
            "22:100以上の無料柴犬&犬画像 - Pixabay\n",
            "23:犬にも”バリアフリー”の住環境を シニア犬が過ごしやすい暮らしとは｜いぬのきもちWEB MAGAZINE\n",
            "24:犬に穀物はダメって本当？ グレインフリー神話が生まれた理由を解説します。 | ペトコト\n",
            "25:最も幸せな犬」をフリー素材で検索したら最高すぎた\n",
            "26:犬（寒くて帰りたいワン…）の写真素材 - ぱくたそ\n",
            "27:雑種犬 写真素材 [ 226180 ] 無料 - フォトライブラリー photolibrary\n",
            "28:犬の無料(フリー)イラスト | かわいい手描きの無料素材「てがきっず」保育園・小学校・介護施設にぴったりのフリー素材イラスト\n",
            "29:サンプル】アンデスポークヒレ肉・マダラ＆ベジタブル・フルーツ（アイケア・成犬用） - Runfree\n",
            "30:犬の無料イラスト一覧\n",
            "31:ドッグランで小型犬をフリースペースに入れる3つの危険性 | わんちゃんホンポ\n",
            "32:ゆんフリー写真素材集 : No. 16018 笑う犬 [中国 / 松藩]\n",
            "***** requests エラー(406 Client Error: Not Acceptable for url: http://www.tmyun.com/mid/yun_16018.jpg): 1/3\n",
            "***** requests エラー(406 Client Error: Not Acceptable for url: http://www.tmyun.com/mid/yun_16018.jpg): 2/3\n",
            "***** requests エラー(406 Client Error: Not Acceptable for url: http://www.tmyun.com/mid/yun_16018.jpg): 3/3\n",
            "33:フリーペーパー『もふもふ』とは・・・ 犬猫の代弁者になる。動物と家族に寄り添うフリーペーパー継続！（石塚 美穂 (ワントゥワンズ 代表)  2017/10/15 投稿） - クラウドファンディング READYFOR\n",
            "34:犬のバレンタインイラストのフリー素材｜イラストイメージ\n",
            "35:ブログで使える犬のフリー画像50枚を集めます 様々なシチュエーションに対応!!可笑しい!可愛い!!犬の画像 | 写真撮影・素材提供 | ココナラ\n",
            "36:かわいい犬猫写真のフリー素材（商用利用可能） - オドフラン ～いつもどこかに「なるほど」を～\n",
            "37:犬のイラスト-無料イラストフリー素材\n",
            "***** urlチェック:1/3\n",
            "***** urlチェック:2/3\n",
            "***** urlチェック:3/3\n",
            "***** urlに拡張子が含まれていないのでキャンセル\n",
            "https://encrypted-tbn0.gstatic.com/images?q=tbn:ANd9GcTGpwA6Zog1FQLeOM4lU9D0ZTK7HNys75o8hw&usqp=CAU\n",
            "37:動物,犬のフリー素材 - Web素材工房 デジタルカラーボックス\n",
            "38:フリー写真, フリー写真, CC0 写真, 動物（写真）, 哺乳類, 犬（イヌ）, ラブラドール・レトリーバー, ウインク | Dog  training, Labrador dog, Labrador retriever\n",
            "39:犬の犬種セット かわいい無料イラスト81771 | 素材Good\n",
            "40:犬のイラスト | フリーイラスト素材集｜ちょうどいいイラスト\n",
            "41:犬フリー写真：無料 風景 写真 フリー素材集/yutti photo\n",
            "42:ボロという犬の話 | 泣ける話や感動の実話、号泣するストーリーまとめ - ラクリマ\n",
            "43:無料の犬のイラストコレクション【商用利用可能・フリー素材】（2022.06.20更新） / イラストセンター\n",
            "44:犬｜無料写真素材ならフリー素材タウン\n",
            "***** urlチェック:1/3\n",
            "***** urlチェック:2/3\n",
            "***** urlチェック:3/3\n",
            "***** urlに拡張子が含まれていないのでキャンセル\n",
            "https://encrypted-tbn0.gstatic.com/images?q=tbn:ANd9GcSAdnje0Dosc0qTquHvT329sNxdXmkiGsZHdg&usqp=CAU\n",
            "44:犬の写真素材｜写真素材なら「写真AC」無料（フリー）ダウンロードOK\n",
            "45:歯を剥いて怒っている犬 写真素材 [ 3399534 ] - フォトライブラリー photolibrary\n",
            "46:犬にも”バリアフリー”の住環境を シニア犬が過ごしやすい暮らしとは｜いぬのきもちWEB MAGAZINE\n",
            "47:犬・小型犬の商用可能フリー素材 - オドフラン ～いつもどこかに「なるほど」を～\n",
            "48:無料写真] 犬のスピッツ - パブリックドメインQ：著作権フリー画像素材集\n",
            "49:犬のフリーアイコン｜可愛いフリーアイコン・イラストの無料素材サイト｜フリーペンシル\n",
            "50:25,475件の「秋田犬」の画像、写真素材、ベクター画像 | Shutterstock\n",
            "51:犬」フリーイラスト | シンプルフリーイラスト\n",
            "52:犬 | フリー素材ドットコム\n",
            "53:人面犬のイラスト | かわいいフリー素材集 いらすとや\n",
            "54:ベトナムのハノイで犬肉を食べてみた｜写真と感想つき│株式会社MORE UP BOOST\n",
            "55:23,754+以上の無料犬画像\n",
            "56:ゆんフリー写真素材集 : No. 3813 老犬の午睡 [日本 / 熊本]\n",
            "***** requests エラー(406 Client Error: Not Acceptable for url: http://www.tmyun.com/mid/yun_3813.jpg): 1/3\n",
            "***** requests エラー(406 Client Error: Not Acceptable for url: http://www.tmyun.com/mid/yun_3813.jpg): 2/3\n",
            "***** requests エラー(406 Client Error: Not Acceptable for url: http://www.tmyun.com/mid/yun_3813.jpg): 3/3\n",
            "57:芝生でくつろぐMIX犬 | 無料壁紙・商用利用可の画像素材ならfotoma（フォトマ）\n",
            "58:秋田犬 写真素材 [ 572783 ] - フォトライブラリー photolibrary\n",
            "59:無料写真素材 ペット画像・子犬画像・フリー素材\n",
            "***** urlチェック:1/3\n",
            "***** urlチェック:2/3\n",
            "***** urlチェック:3/3\n",
            "***** urlに拡張子が含まれていないのでキャンセル\n",
            "https://encrypted-tbn0.gstatic.com/images?q=tbn:ANd9GcS2MI-hxGON0t1weQhZ6HdOfI-Xl3NYW7yR3Q&usqp=CAU\n",
            "59:犬・チワワ04 | 無料の高画質フリー写真素材 | イメージズラボ\n",
            "60:良い犬の話 | 泣ける話や感動の実話、号泣するストーリーまとめ - ラクリマ\n",
            "61:ドッグランで野原を飼い主と散歩する犬[10132105252]の写真素材・イラスト素材｜アマナイメージズ\n",
            "62:警戒する小型犬（チワワ）の写真素材 - ぱくたそ\n",
            "63:かわいいいぬの無料画像リンク集 | みんなの無料イラスト・写真\n",
            "64:犬と人写真素材、ロイヤリティフリー犬と人画像|Depositphotos\n",
            "65:ビーグルの顔（犬） | 無料イラスト＆かわいいフリー素材集 ねこ画伯コハクちゃん\n",
            "66:10000以上の無料子犬&犬画像 - Pixabay\n",
            "67:楽しそうな散歩中の犬 | 写真・画像のフリー素材を無料ダウンロードするなら「エルーパフォトス」\n",
            "68:犬の散歩中に両手が自由になる 英ペットブランドHiro + Wolfの「ハンズフリーリード」 | Webマガジン「AXIS」 |  デザインのWebメディア\n",
            "69:土佐犬（とさいぬ・とさけん）のイラスト・条件付フリー素材集\n",
            "***** urlチェック:1/3\n",
            "***** urlチェック:2/3\n",
            "***** urlチェック:3/3\n",
            "***** urlに拡張子が含まれていないのでキャンセル\n",
            "https://encrypted-tbn0.gstatic.com/images?q=tbn:ANd9GcQa3ZH3v5x1whAH_WUntm2eisRxZSACyjfnbA&usqp=CAU\n",
            "69:フリーランスが犬を飼うなら”保護犬”を引き取るという選択肢！ 私たちだからできる、命の保護活動 | THE LANCER\n",
            "70:フリー画像|動物写真|哺乳類|イヌ科|犬/イヌ|ビーグル犬|フリー素材|画像素材なら！無料・フリー写真素材のフリーフォト\n",
            "***** urlチェック:1/3\n",
            "***** urlチェック:2/3\n",
            "***** urlチェック:3/3\n",
            "***** urlに拡張子が含まれていないのでキャンセル\n",
            "https://encrypted-tbn0.gstatic.com/images?q=tbn:ANd9GcQUJuT0YObplTc6NeHOaKhzJ-5B8vvXABfLlg&usqp=CAU\n",
            "70:商用可・無料の犬 の フリー イラスト｜テラ合同会社\n",
            "***** urlチェック:1/3\n",
            "***** urlチェック:2/3\n",
            "***** urlチェック:3/3\n",
            "***** urlに拡張子が含まれていないのでキャンセル\n",
            "https://encrypted-tbn0.gstatic.com/images?q=tbn:ANd9GcQBER3zavaVMZGr64ypj90pyN0m9UKxAKXQKA&usqp=CAU\n",
            "70:威嚇する茶色の犬のフリー素材・無料の写真| ピクト缶\n",
            "71:犬20種類×5】著作権フリーの高解像度イラスト素材(画像100枚) - Game Material Store - BOOTH\n",
            "72:公園の白い犬 スピッツのフリー写真素材 無料画像素材のプロ・フォト dog0127-023\n",
            "73:桜に囲まれてキョロキョロしている可愛い犬のフリー画像｜おしゃれなフリー写真素材：GIRLY DROP\n",
            "74:本当は怖い犬の牙 | 写真・画像のフリー素材を無料ダウンロードするなら「エルーパフォトス」\n",
            "***** urlチェック:1/3\n",
            "***** urlチェック:2/3\n",
            "***** urlチェック:3/3\n",
            "***** urlに拡張子が含まれていないのでキャンセル\n",
            "https://encrypted-tbn0.gstatic.com/images?q=tbn:ANd9GcRLiCQaGodo_uSVogkoZbB5TvpDw4g2P2xxHg&usqp=CAU\n",
            "74:犬のフリーアイコン｜可愛いフリーアイコン・イラストの無料素材サイト｜フリーペンシル\n",
            "75:里親募集中の保護犬がモデル フリーデザイン年賀状サイト「＃PUPPY NEW YEAR」オープン #ブレーン | AdverTimes.（アドタイ）  by 宣伝会議\n",
            "76:犬を室内フリーで飼いたい！ フリーで留守番させたい！フリー飼いができるようになるための手順とは？ - YouTube\n",
            "77:Twitterの犬のフリーヘッダー画像をそのまま使えるサイズで配信中 | Time-fun.fun\n",
            "78:日本犬」の画像 - 7,649 件の Stock 写真、ベクターおよびビデオ | Adobe Stock\n",
            "79:犬のフリー素材イラスト・画像集めてみた！\n",
            "80:犬の写真素材｜写真素材なら「写真AC」無料（フリー）ダウンロードOK\n",
            "81:無料イラスト かわいいフリー素材集: 秋田犬のイラスト\n",
            "82:まとめ】可愛い犬の無料イラスト素材集｜イラストイメージ\n",
            "83:犬｜無料写真素材ならフリー素材タウン\n",
            "***** urlチェック:1/3\n",
            "***** urlチェック:2/3\n",
            "***** urlチェック:3/3\n",
            "***** urlに拡張子が含まれていないのでキャンセル\n",
            "https://encrypted-tbn0.gstatic.com/images?q=tbn:ANd9GcTH2Xmt8f0jmBbm0NUnpGEcZYbNhuGIU63yCg&usqp=CAU\n",
            "83:犬のフリー素材・無料の写真| ピクト缶\n",
            "84:FigaroHouseオリジナル 犬イラストWebフリー素材配布コーナー : FigaroHouse | チワワ イラスト, 犬のスケッチ, 動物を描く\n",
            "85:犬イラスト／無料イラストなら「イラストAC」\n",
            "86:犬にも”バリアフリー”の住環境を シニア犬が過ごしやすい暮らしとは｜いぬのきもちWEB MAGAZINE\n",
            "87:10000以上の無料子犬&犬画像 - Pixabay\n",
            "88:犬 | フリー素材ドットコム\n",
            "ダウンロード 171.7s\n",
            "-------------------------\n"
          ]
        }
      ]
    },
    {
      "cell_type": "markdown",
      "source": [
        "##Golabo上へダウンロードしたファイルをipで固めてローカルにダウンロードする"
      ],
      "metadata": {
        "id": "dwfuf4yUg5N6"
      }
    },
    {
      "cell_type": "code",
      "source": [
        "#ここまでのトータル所要時間を出力する\n",
        "total = tm_end - tm_start\n",
        "total_str = f'トータル時間:{total:.1f}s({total/60:.2f}min)'\n",
        "count_str = f'ダウンロード数:{count}'\n",
        "print(total_str)\n",
        "print(count_str)"
      ],
      "metadata": {
        "colab": {
          "base_uri": "https://localhost:8080/"
        },
        "id": "ncsv4e0xG22z",
        "outputId": "dd7729bc-4041-42d4-919e-8596a753cb5c"
      },
      "execution_count": 16,
      "outputs": [
        {
          "output_type": "stream",
          "name": "stdout",
          "text": [
            "トータル時間:180.8s(3.01min)\n",
            "ダウンロード数:89\n"
          ]
        }
      ]
    },
    {
      "cell_type": "markdown",
      "source": [
        "##Google検索してダウンロードした画像のURLもテキストに保存してローカルPCへダウンロードする"
      ],
      "metadata": {
        "id": "8TO_IOx7PLQb"
      }
    },
    {
      "cell_type": "code",
      "source": [
        "#URLを書き込むテキストファイルの場所\n",
        "DIR_TMP = SAVE_DIR + '/url/'\n",
        "os.makedirs(DIR_TMP,exist_ok=True)\n",
        "path = SAVE_DIR + '/url/'+'_url.txt'\n",
        "with open(path,'w',encoding='utf-8') as f:\n",
        "  f.write(dt_date_str + '\\n')\n",
        "  f.write(total_str + '\\n')\n",
        "  f.write('\\n'.join(url_list))\n",
        "#open ここまで\n",
        "driver.quit()#ブラウザを閉じる"
      ],
      "metadata": {
        "id": "OdXzutajiFQR"
      },
      "execution_count": 19,
      "outputs": []
    },
    {
      "cell_type": "markdown",
      "source": [
        "##URLテキストと画像ファイルをローカルPCにダウンロード"
      ],
      "metadata": {
        "id": "ta8Zv1vpRlrN"
      }
    },
    {
      "cell_type": "code",
      "source": [
        "#ダウンロードしたフォルダをzipに圧縮する\n",
        "!zip -r /content/img_download.zip /content/img\n",
        "#圧縮したzipファイルをダウンロードする\n",
        "from google.colab import files\n",
        "files.download(\"/content/img_download.zip\")\n",
        "\n"
      ],
      "metadata": {
        "colab": {
          "base_uri": "https://localhost:8080/",
          "height": 1000
        },
        "id": "1OBkLvQQRhPS",
        "outputId": "7a5778e9-a092-41ce-d99f-66ab72ce8c61"
      },
      "execution_count": 20,
      "outputs": [
        {
          "output_type": "stream",
          "name": "stdout",
          "text": [
            "  adding: content/img/ (stored 0%)\n",
            "  adding: content/img/dog_/ (stored 0%)\n",
            "  adding: content/img/dog_/dog_78.jpg (deflated 6%)\n",
            "  adding: content/img/dog_/dog_79.jpg (deflated 14%)\n",
            "  adding: content/img/dog_/dog_51.png (deflated 2%)\n",
            "  adding: content/img/dog_/dog_15.jpg (deflated 0%)\n",
            "  adding: content/img/dog_/dog_34.png (deflated 11%)\n",
            "  adding: content/img/dog_/dog_62.jpg (deflated 3%)\n",
            "  adding: content/img/dog_/dog_3.jpg (deflated 0%)\n",
            "  adding: content/img/dog_/dog_71.jpg (deflated 1%)\n",
            "  adding: content/img/dog_/dog_42.jpg (deflated 1%)\n",
            "  adding: content/img/dog_/dog_61.jpg (deflated 17%)\n",
            "  adding: content/img/dog_/dog_27.jpg (deflated 9%)\n",
            "  adding: content/img/dog_/dog_58.jpg (deflated 3%)\n",
            "  adding: content/img/dog_/dog_30.png (deflated 1%)\n",
            "  adding: content/img/dog_/dog_65.png (deflated 4%)\n",
            "  adding: content/img/dog_/dog_25.jpg (deflated 1%)\n",
            "  adding: content/img/dog_/dog_86.jpg (deflated 0%)\n",
            "  adding: content/img/dog_/dog_38.jpg (deflated 1%)\n",
            "  adding: content/img/dog_/dog_24.jpg (deflated 1%)\n",
            "  adding: content/img/dog_/dog_73.jpg (deflated 0%)\n",
            "  adding: content/img/dog_/dog_80.jpg (deflated 0%)\n",
            "  adding: content/img/dog_/dog_7.jpg (deflated 0%)\n",
            "  adding: content/img/dog_/dog_46.jpg (deflated 0%)\n",
            "  adding: content/img/dog_/dog_9.jpg (deflated 1%)\n",
            "  adding: content/img/dog_/dog_72.jpg (deflated 0%)\n",
            "  adding: content/img/dog_/dog_82.png (deflated 1%)\n",
            "  adding: content/img/dog_/dog_88.jpg (deflated 1%)\n",
            "  adding: content/img/dog_/dog_39.png (deflated 1%)\n",
            "  adding: content/img/dog_/dog_87.jpg (deflated 0%)\n",
            "  adding: content/img/dog_/dog_54.jpg (deflated 1%)\n",
            "  adding: content/img/dog_/dog_53.png (deflated 0%)\n",
            "  adding: content/img/dog_/dog_75.jpg (deflated 2%)\n",
            "  adding: content/img/dog_/dog_10.png (deflated 0%)\n",
            "  adding: content/img/dog_/dog_41.jpg (deflated 0%)\n",
            "  adding: content/img/dog_/dog_20.jpg (deflated 2%)\n",
            "  adding: content/img/dog_/dog_66.jpg (deflated 0%)\n",
            "  adding: content/img/dog_/dog_52.jpg (deflated 1%)\n",
            "  adding: content/img/dog_/dog_57.jpg (deflated 1%)\n",
            "  adding: content/img/dog_/dog_70.jpg (deflated 1%)\n",
            "  adding: content/img/dog_/dog_48.jpg (deflated 1%)\n",
            "  adding: content/img/dog_/dog_68.png (deflated 0%)\n",
            "  adding: content/img/dog_/dog_63.jpg (deflated 0%)\n",
            "  adding: content/img/dog_/dog_49.jpg (deflated 4%)\n",
            "  adding: content/img/dog_/dog_40.png (deflated 1%)\n",
            "  adding: content/img/dog_/dog_35.jpg (deflated 1%)\n",
            "  adding: content/img/dog_/dog_16.jpg (deflated 4%)\n",
            "  adding: content/img/dog_/dog_67.jpg (deflated 20%)\n",
            "  adding: content/img/dog_/dog_76.jpg (deflated 1%)\n",
            "  adding: content/img/dog_/dog_21.jpg (deflated 1%)\n",
            "  adding: content/img/dog_/dog_59.jpg (deflated 4%)\n",
            "  adding: content/img/dog_/dog_28.png (deflated 5%)\n",
            "  adding: content/img/dog_/dog_37.png (deflated 0%)\n",
            "  adding: content/img/dog_/dog_84.jpg (deflated 1%)\n",
            "  adding: content/img/dog_/dog_8.jpg (deflated 1%)\n",
            "  adding: content/img/dog_/dog_69.jpg (deflated 0%)\n",
            "  adding: content/img/dog_/dog_74.png (deflated 0%)\n",
            "  adding: content/img/dog_/dog_60.jpg (deflated 0%)\n",
            "  adding: content/img/dog_/dog_45.jpg (deflated 2%)\n",
            "  adding: content/img/dog_/url/ (stored 0%)\n",
            "  adding: content/img/dog_/url/_url.txt (stored 0%)\n",
            "  adding: content/img/dog_/dog_17.jpg (deflated 0%)\n",
            "  adding: content/img/dog_/dog_2.jpg (deflated 0%)\n",
            "  adding: content/img/dog_/dog_23.jpg (deflated 0%)\n",
            "  adding: content/img/dog_/dog_5.jpg (deflated 0%)\n",
            "  adding: content/img/dog_/dog_13.jpg (deflated 1%)\n",
            "  adding: content/img/dog_/dog_43.jpg (deflated 6%)\n",
            "  adding: content/img/dog_/dog_29.jpg (deflated 1%)\n",
            "  adding: content/img/dog_/dog_55.jpg (deflated 0%)\n",
            "  adding: content/img/dog_/dog_19.jpg (deflated 12%)\n",
            "  adding: content/img/dog_/dog_64.jpg (deflated 0%)\n",
            "  adding: content/img/dog_/dog_44.jpg (deflated 1%)\n",
            "  adding: content/img/dog_/dog_26.jpg (deflated 1%)\n",
            "  adding: content/img/dog_/dog_77.jpg (deflated 5%)\n",
            "  adding: content/img/dog_/dog_11.jpg (deflated 1%)\n",
            "  adding: content/img/dog_/dog_14.jpg (deflated 9%)\n",
            "  adding: content/img/dog_/dog_83.jpg (deflated 1%)\n",
            "  adding: content/img/dog_/dog_33.png (deflated 0%)\n",
            "  adding: content/img/dog_/dog_47.jpg (deflated 0%)\n",
            "  adding: content/img/dog_/dog_0.jpg (deflated 0%)\n",
            "  adding: content/img/dog_/dog_12.jpg (deflated 1%)\n",
            "  adding: content/img/dog_/dog_6.jpg (deflated 0%)\n",
            "  adding: content/img/dog_/dog_50.jpg (deflated 0%)\n",
            "  adding: content/img/dog_/dog_18.jpg (deflated 0%)\n",
            "  adding: content/img/dog_/dog_31.jpg (deflated 0%)\n",
            "  adding: content/img/dog_/dog_81.png (deflated 0%)\n",
            "  adding: content/img/dog_/dog_36.jpg (deflated 0%)\n",
            "  adding: content/img/dog_/dog_85.jpg (deflated 4%)\n",
            "  adding: content/img/dog_/dog_22.jpg (deflated 1%)\n",
            "  adding: content/img/dog_/dog_1.jpg (deflated 2%)\n",
            "  adding: content/img/dog_/dog_4.jpg (deflated 1%)\n"
          ]
        },
        {
          "output_type": "display_data",
          "data": {
            "text/plain": [
              "<IPython.core.display.Javascript object>"
            ],
            "application/javascript": [
              "\n",
              "    async function download(id, filename, size) {\n",
              "      if (!google.colab.kernel.accessAllowed) {\n",
              "        return;\n",
              "      }\n",
              "      const div = document.createElement('div');\n",
              "      const label = document.createElement('label');\n",
              "      label.textContent = `Downloading \"${filename}\": `;\n",
              "      div.appendChild(label);\n",
              "      const progress = document.createElement('progress');\n",
              "      progress.max = size;\n",
              "      div.appendChild(progress);\n",
              "      document.body.appendChild(div);\n",
              "\n",
              "      const buffers = [];\n",
              "      let downloaded = 0;\n",
              "\n",
              "      const channel = await google.colab.kernel.comms.open(id);\n",
              "      // Send a message to notify the kernel that we're ready.\n",
              "      channel.send({})\n",
              "\n",
              "      for await (const message of channel.messages) {\n",
              "        // Send a message to notify the kernel that we're ready.\n",
              "        channel.send({})\n",
              "        if (message.buffers) {\n",
              "          for (const buffer of message.buffers) {\n",
              "            buffers.push(buffer);\n",
              "            downloaded += buffer.byteLength;\n",
              "            progress.value = downloaded;\n",
              "          }\n",
              "        }\n",
              "      }\n",
              "      const blob = new Blob(buffers, {type: 'application/binary'});\n",
              "      const a = document.createElement('a');\n",
              "      a.href = window.URL.createObjectURL(blob);\n",
              "      a.download = filename;\n",
              "      div.appendChild(a);\n",
              "      a.click();\n",
              "      div.remove();\n",
              "    }\n",
              "  "
            ]
          },
          "metadata": {}
        },
        {
          "output_type": "display_data",
          "data": {
            "text/plain": [
              "<IPython.core.display.Javascript object>"
            ],
            "application/javascript": [
              "download(\"download_1c236c07-89ff-4f06-8ff2-bcdcc0214470\", \"img_download.zip\", 18634589)"
            ]
          },
          "metadata": {}
        }
      ]
    },
    {
      "cell_type": "code",
      "source": [],
      "metadata": {
        "id": "116ux0BHSuh1"
      },
      "execution_count": null,
      "outputs": []
    }
  ]
}