{
  "nbformat": 4,
  "nbformat_minor": 0,
  "metadata": {
    "colab": {
      "provenance": [],
      "authorship_tag": "ABX9TyOJ8Y6osTVmNKRW3TCWyyT+",
      "include_colab_link": true
    },
    "kernelspec": {
      "name": "python3",
      "display_name": "Python 3"
    },
    "language_info": {
      "name": "python"
    }
  },
  "cells": [
    {
      "cell_type": "markdown",
      "metadata": {
        "id": "view-in-github",
        "colab_type": "text"
      },
      "source": [
        "<a href=\"https://colab.research.google.com/github/ooootaaaa/DeepLearning2022Late/blob/main/0927%5BMatplotlib%5D.ipynb\" target=\"_parent\"><img src=\"https://colab.research.google.com/assets/colab-badge.svg\" alt=\"Open In Colab\"/></a>"
      ]
    },
    {
      "cell_type": "markdown",
      "source": [
        "\n",
        "#matplotlibグラフ表示のライブラリ\n"
      ],
      "metadata": {
        "id": "hIeyL4N7pXDr"
      }
    },
    {
      "cell_type": "markdown",
      "source": [
        "##ライブラリの読み込み"
      ],
      "metadata": {
        "id": "96cBKm78q03a"
      }
    },
    {
      "cell_type": "code",
      "execution_count": 13,
      "metadata": {
        "id": "laCuue8sofHD"
      },
      "outputs": [],
      "source": [
        "#読み込み命令\n",
        "%matplotlib inline\n",
        "import matplotlib.pyplot as plt\n",
        "import numpy as np"
      ]
    },
    {
      "cell_type": "markdown",
      "source": [
        "##グラフ出力するデータの準備"
      ],
      "metadata": {
        "id": "DO2Eos7jqoXv"
      }
    },
    {
      "cell_type": "code",
      "source": [
        "t = np.arange(0.0,2.0, 0.01) #0.0から2.0まで0.01刻みでデータを生成\n",
        "#SINカーブを描くために、元データのsin値を取得して変数sに設定\n",
        "s = 1 + np.sin(2 * np.pi * t)\n",
        "\n",
        "#グラフの描画\n",
        "fig,ax = plt.subplots()\n",
        "ax.plot(t,s)\n",
        "\n",
        "#グラフaxにラベルを設定する\n",
        "ax.set(xlabel = 'time(s)',ylabel='voltage(mV)',title='About as simple as it gets folks')\n",
        "#グラフaxにグリッドをつける\n",
        "ax.grid()\n",
        "\n",
        "#pyplotで表示\n",
        "ax.plot(t,s)\n",
        "plt.show()"
      ],
      "metadata": {
        "colab": {
          "base_uri": "https://localhost:8080/",
          "height": 295
        },
        "id": "AzKgChlpqEIb",
        "outputId": "71f5c6d0-8115-412e-be9b-6223ed001d10"
      },
      "execution_count": 14,
      "outputs": [
        {
          "output_type": "display_data",
          "data": {
            "text/plain": [
              "<Figure size 432x288 with 1 Axes>"
            ],
            "image/png": "[encoded data removed]"
          },
          "metadata": {
            "needs_background": "light"
          }
        }
      ]
    },
    {
      "cell_type": "markdown",
      "source": [
        "##グラフのラベルとグリッドを描画させる"
      ],
      "metadata": {
        "id": "zy-rYlGLyG6j"
      }
    },
    {
      "cell_type": "code",
      "source": [
        "#グラフaxにラベルを設定する\n",
        "# ax.set(xlabel = 'time(s)',ylabel='voltage(mV)',title='About as simple as it gets folks')\n",
        "#グラフaxにグリッドをつける\n",
        "# ax.grid()"
      ],
      "metadata": {
        "id": "uvfM64XJrRf9"
      },
      "execution_count": 15,
      "outputs": []
    },
    {
      "cell_type": "markdown",
      "source": [
        "###できあがったグラフをpyplotで表示する"
      ],
      "metadata": {
        "id": "OhKcy-lEzI-M"
      }
    },
    {
      "cell_type": "code",
      "source": [
        "#pyplotで表示\n",
        "# ax.plot(t,s)\n",
        "# plt.show()"
      ],
      "metadata": {
        "id": "8SMDLcjWyrTJ"
      },
      "execution_count": 16,
      "outputs": []
    },
    {
      "cell_type": "code",
      "source": [],
      "metadata": {
        "id": "MHGcPloezhNC"
      },
      "execution_count": 16,
      "outputs": []
    }
  ]
}