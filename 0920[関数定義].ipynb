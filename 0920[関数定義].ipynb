{
  "nbformat": 4,
  "nbformat_minor": 0,
  "metadata": {
    "colab": {
      "provenance": [],
      "authorship_tag": "ABX9TyMNO64XYt/5PjFNCNdDK5Fu",
      "include_colab_link": true
    },
    "kernelspec": {
      "name": "python3",
      "display_name": "Python 3"
    },
    "language_info": {
      "name": "python"
    }
  },
  "cells": [
    {
      "cell_type": "markdown",
      "metadata": {
        "id": "view-in-github",
        "colab_type": "text"
      },
      "source": [
        "<a href=\"https://colab.research.google.com/github/ooootaaaa/DeepLearning2022Late/blob/main/0920%5B%E9%96%A2%E6%95%B0%E5%AE%9A%E7%BE%A9%5D.ipynb\" target=\"_parent\"><img src=\"https://colab.research.google.com/assets/colab-badge.svg\" alt=\"Open In Colab\"/></a>"
      ]
    },
    {
      "cell_type": "markdown",
      "source": [
        "#python3で関数を定義する\n",
        "関数定義\n",
        "\n"
      ],
      "metadata": {
        "id": "eOlO5wkTbeeo"
      }
    },
    {
      "cell_type": "code",
      "source": [
        "#helloという関数を定義する\n",
        "#\"hello,kansuu!\"と画面に表示する関数\n",
        "def hello():\n",
        "  print(\"hello,kansuu!\")#インデントされてる\n",
        "  #インデントされている命令文などは関数の範囲の中\n",
        "print('test message!')#インデントされていない\n",
        "#インデントされていない命令文などは範囲の外\n"
      ],
      "metadata": {
        "colab": {
          "base_uri": "https://localhost:8080/"
        },
        "id": "r2uIQ3pNbmb0",
        "outputId": "7ad962a8-3396-4e11-83fa-a5b84492520e"
      },
      "execution_count": 3,
      "outputs": [
        {
          "output_type": "stream",
          "name": "stdout",
          "text": [
            "test message!\n"
          ]
        }
      ]
    },
    {
      "cell_type": "code",
      "source": [
        "#作成した関数hello()をコールする\n",
        "hello()\n",
        "hello()"
      ],
      "metadata": {
        "colab": {
          "base_uri": "https://localhost:8080/"
        },
        "id": "35nU7S2heKoC",
        "outputId": "312b672a-6176-4ff8-b6ed-8aabfdfb3ebf"
      },
      "execution_count": 4,
      "outputs": [
        {
          "output_type": "stream",
          "name": "stdout",
          "text": [
            "hello,kansuu!\n",
            "hello,kansuu!\n"
          ]
        }
      ]
    },
    {
      "cell_type": "markdown",
      "source": [
        "#引数つきの関数を定義する"
      ],
      "metadata": {
        "id": "7RdF0CRyezLS"
      }
    },
    {
      "cell_type": "code",
      "source": [
        "#引数付きの関数hello()を定義\n",
        "def hello(who):\n",
        "  print(\"hello,\"+ who + '!')\n",
        "  #ここが関数のおわり\n",
        "\n",
        "hello('python!')"
      ],
      "metadata": {
        "colab": {
          "base_uri": "https://localhost:8080/"
        },
        "id": "X3Zc6xYxe4-a",
        "outputId": "1b375029-3d4a-48be-e79f-07a5b5ed630e"
      },
      "execution_count": 5,
      "outputs": [
        {
          "output_type": "stream",
          "name": "stdout",
          "text": [
            "hello,python!!\n"
          ]
        }
      ]
    },
    {
      "cell_type": "markdown",
      "source": [
        "#複数の引数つきの関数を定義"
      ],
      "metadata": {
        "id": "_M7jLNILgPMB"
      }
    },
    {
      "cell_type": "code",
      "source": [
        "def hello(who,aisatsu):\n",
        "  print(\"hello,\"+ who + \"さん\" + aisatsu)\n",
        "#関数おわり\n",
        "\n",
        "hello(\"田中\",\"おはよう\")\n",
        "hello(\"鈴木\",\"こんにちは\")"
      ],
      "metadata": {
        "colab": {
          "base_uri": "https://localhost:8080/"
        },
        "id": "zR7Y561dfwKn",
        "outputId": "75c10f86-c6a8-4601-dbf9-5b646fd5847e"
      },
      "execution_count": 9,
      "outputs": [
        {
          "output_type": "stream",
          "name": "stdout",
          "text": [
            "hello,田中さんおはよう\n",
            "hello,鈴木さんこんにちは\n"
          ]
        }
      ]
    },
    {
      "cell_type": "markdown",
      "source": [
        "#関数の戻り値を定義する\n",
        "戻り値１つの関数を定義"
      ],
      "metadata": {
        "id": "avKqqZ7Ih2z9"
      }
    },
    {
      "cell_type": "code",
      "source": [
        "def helloBack(who,aisatsu):\n",
        "  return who + \"さん\" +aisatsu\n",
        "#関数おわり\n",
        "\n",
        "#戻り値を変数Xに代入\n",
        "x = helloBack(\"佐藤\",\"こんばんは\")\n",
        "print(x)"
      ],
      "metadata": {
        "colab": {
          "base_uri": "https://localhost:8080/"
        },
        "id": "vUEO7WungxFX",
        "outputId": "38dccfed-38ed-4878-dad1-0b75a28bbd30"
      },
      "execution_count": 11,
      "outputs": [
        {
          "output_type": "stream",
          "name": "stdout",
          "text": [
            "佐藤さんこんばんは\n"
          ]
        }
      ]
    },
    {
      "cell_type": "markdown",
      "source": [
        "#複数の戻り値を返す関数を定義"
      ],
      "metadata": {
        "id": "FtdlBSkTjSRG"
      }
    },
    {
      "cell_type": "code",
      "source": [
        "def keisan(x,y):\n",
        "  return x,y,x+y\n",
        "  #関数おわり\n",
        "\n",
        "#関数keisanをじっこして戻り値を受けとる\n",
        "e,f,g = keisan(3,6)\n",
        "print(e,f,g)\n"
      ],
      "metadata": {
        "colab": {
          "base_uri": "https://localhost:8080/"
        },
        "id": "h98h6V1wi3JY",
        "outputId": "d47b5127-6222-497d-9983-f4a52a9cb5b7"
      },
      "execution_count": 13,
      "outputs": [
        {
          "output_type": "stream",
          "name": "stdout",
          "text": [
            "3 6 9\n"
          ]
        }
      ]
    },
    {
      "cell_type": "markdown",
      "source": [
        "#その他の文法\n",
        "##分岐(if文)"
      ],
      "metadata": {
        "id": "Xp-hmAdplnx6"
      }
    },
    {
      "cell_type": "code",
      "source": [
        "#if文の範囲もインデントで表す\n",
        "#num の値を閾値(しきいち)で分岐する\n",
        "def over (num,thres):\n",
        "  if num > thres: #numが閾値より大きいとき\n",
        "    print(str(num) + \"は\" + str(thres) + \"より大きい\")\n",
        "  else:\n",
        "    print(str(num) + \"は\" + str(thres) + \"以下です\")\n",
        "    #分岐のおわり\n",
        "#関数おわり\n",
        "over(333,100)\n",
        "over(-1,10)"
      ],
      "metadata": {
        "colab": {
          "base_uri": "https://localhost:8080/"
        },
        "id": "GRA4p7zTkZV0",
        "outputId": "1c7057bc-6d76-4fd1-b0dc-94d2dd739863"
      },
      "execution_count": 16,
      "outputs": [
        {
          "output_type": "stream",
          "name": "stdout",
          "text": [
            "333は100より大きい\n",
            "-1は10より小さい\n"
          ]
        }
      ]
    },
    {
      "cell_type": "code",
      "source": [
        "#リストに第二引数の値が含まれるか判定\n",
        "def include(list,keyword):\n",
        "  uniq = set(list) #リストを集合に変換\n",
        "  if keyword in uniq:\n",
        "    print(keyword + \"が含まれている\")\n",
        "  else:\n",
        "    print(keyword + \"が含まれていない\")\n",
        "  #分岐のおわり\n",
        "#関数のおわり\n",
        "\n",
        "#リストを引き渡して作成した関数を実行する\n",
        "list_1 = [\"アップル\",\"ペン\", \"ペン\", \"パイナップル\"]#第一引数に使うリスト\n",
        "include(list_1,\"パイナップル\")\n",
        "include(list_1, \"バナナ\")"
      ],
      "metadata": {
        "colab": {
          "base_uri": "https://localhost:8080/"
        },
        "id": "EPWQMwocll1J",
        "outputId": "1a03c49f-0d24-40d7-83ac-1f5f8e4164d9"
      },
      "execution_count": 17,
      "outputs": [
        {
          "output_type": "stream",
          "name": "stdout",
          "text": [
            "パイナップルが含まれている\n",
            "バナナが含まれていない\n"
          ]
        }
      ]
    },
    {
      "cell_type": "markdown",
      "source": [
        "##繰り返し文(while文)"
      ],
      "metadata": {
        "id": "j8KBiDjxwWkv"
      }
    },
    {
      "cell_type": "code",
      "source": [
        "#while文は条件がtrueの間繰り返す\n",
        "\n",
        "def count(max):\n",
        "  num = 0\n",
        "  while num < max: #numがmax未満の間、繰り返す\n",
        "    print(num)\n",
        "    num += 1\n",
        "  #while繰り返しおわり\n",
        "#関数終わり\n",
        "\n",
        "count(5) #作成した関数に引数を引き渡して実行"
      ],
      "metadata": {
        "colab": {
          "base_uri": "https://localhost:8080/"
        },
        "id": "QfHlOWvdv2L6",
        "outputId": "d0a024d1-45bc-4571-d2bf-82eb55743830"
      },
      "execution_count": 18,
      "outputs": [
        {
          "output_type": "stream",
          "name": "stdout",
          "text": [
            "0\n",
            "1\n",
            "2\n",
            "3\n",
            "4\n"
          ]
        }
      ]
    },
    {
      "cell_type": "markdown",
      "source": [
        "##繰り返し文(for文)\n",
        "\n",
        "変数βの集合から１つずつ取り出して変数αとして使う\n",
        "\n",
        "for 変数α in range(変数β)"
      ],
      "metadata": {
        "id": "Tw5MR4fkyi1k"
      }
    },
    {
      "cell_type": "code",
      "source": [
        "#集合(コレクション)の中から取り出して繰り返し\n",
        "def every(array):\n",
        "  for x in array:\n",
        "    print(x)\n",
        "  #for文おわり\n",
        "#関数終わり\n",
        "\n",
        "list = [1,2,3]\n",
        "every(list)\n",
        "tuple = (4,5,6)\n",
        "every(tuple)\n",
        "#辞書型もコレクション\n",
        "dict = {\"a\":7, \"b\":8,\"c\":9}\n",
        "every(dict)#キーワードの一覧表示\n",
        "values = dict.values()#値のリストを取得\n",
        "every(values)#値の一覧を表示\n",
        "#文字列も文字配列としてコレクション扱いができる\n",
        "every(\"dog\")#d o g として表示"
      ],
      "metadata": {
        "colab": {
          "base_uri": "https://localhost:8080/"
        },
        "id": "wsDoaEc2x1kV",
        "outputId": "fb23f5a9-3f1b-4b02-c333-cf30edc1d5b8"
      },
      "execution_count": 23,
      "outputs": [
        {
          "output_type": "stream",
          "name": "stdout",
          "text": [
            "1\n",
            "2\n",
            "3\n",
            "4\n",
            "5\n",
            "6\n",
            "a\n",
            "b\n",
            "c\n",
            "7\n",
            "8\n",
            "9\n",
            "d\n",
            "o\n",
            "g\n"
          ]
        }
      ]
    },
    {
      "cell_type": "code",
      "source": [
        "#カウンター変数で繰り返す\n",
        "#for n in range(数値)0～数値未満繰り返す\n",
        "\n",
        "def count(num):\n",
        "  for i in range(num) : #0～num　繰り返す\n",
        "    print(i)\n",
        "  #繰り返しのおわり\n",
        "#関数おわり\n",
        "\n",
        "count(3)"
      ],
      "metadata": {
        "colab": {
          "base_uri": "https://localhost:8080/"
        },
        "id": "NDbbQgvH0F24",
        "outputId": "d8fac034-21d0-442e-be03-4c25e8899280"
      },
      "execution_count": 24,
      "outputs": [
        {
          "output_type": "stream",
          "name": "stdout",
          "text": [
            "0\n",
            "1\n",
            "2\n"
          ]
        }
      ]
    },
    {
      "cell_type": "markdown",
      "source": [
        "##繰り返しを中断したいときは、break命令"
      ],
      "metadata": {
        "id": "4b0ykar94mxB"
      }
    },
    {
      "cell_type": "code",
      "source": [
        "def stop (array):\n",
        "  for i in array:\n",
        "    if i >= 4:\n",
        "      break\n",
        "    print(i)\n",
        "   #分岐終わり\n",
        "#関数終わり\n",
        "\n",
        "list = [1,2,3,4,5,1,2,3,4,5,1,2,3,4,5]\n",
        "stop(list)"
      ],
      "metadata": {
        "colab": {
          "base_uri": "https://localhost:8080/"
        },
        "id": "lxFucUk139U6",
        "outputId": "33ca61a1-a0cf-42bb-a55d-c09aa8285031"
      },
      "execution_count": 27,
      "outputs": [
        {
          "output_type": "stream",
          "name": "stdout",
          "text": [
            "1\n",
            "2\n",
            "3\n"
          ]
        }
      ]
    },
    {
      "cell_type": "markdown",
      "source": [
        "#繰り返しをスキップしたいときは、continue命令"
      ],
      "metadata": {
        "id": "5M6WSuBD6jke"
      }
    },
    {
      "cell_type": "code",
      "source": [
        "def skip(array):\n",
        "  for i in array:\n",
        "    if i >= 4:\n",
        "      continue\n",
        "      #分岐終わり\n",
        "    print(i)\n",
        "#関数おわり\n",
        "skip(list)\n"
      ],
      "metadata": {
        "colab": {
          "base_uri": "https://localhost:8080/"
        },
        "id": "D6rBXtVL5ek7",
        "outputId": "393494ef-708b-487b-b30c-d37f753dfa8c"
      },
      "execution_count": 31,
      "outputs": [
        {
          "output_type": "stream",
          "name": "stdout",
          "text": [
            "1\n",
            "2\n",
            "3\n",
            "1\n",
            "2\n",
            "3\n",
            "1\n",
            "2\n",
            "3\n"
          ]
        }
      ]
    },
    {
      "cell_type": "code",
      "source": [],
      "metadata": {
        "id": "7Fggy1zb6gbj"
      },
      "execution_count": null,
      "outputs": []
    }
  ]
}