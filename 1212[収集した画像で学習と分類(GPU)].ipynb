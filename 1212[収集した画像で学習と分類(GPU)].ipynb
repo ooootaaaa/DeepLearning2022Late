{
  "nbformat": 4,
  "nbformat_minor": 0,
  "metadata": {
    "colab": {
      "provenance": [],
      "authorship_tag": "ABX9TyMWEywO4Ubsn9WMQ/FQ2nmE",
      "include_colab_link": true
    },
    "kernelspec": {
      "name": "python3",
      "display_name": "Python 3"
    },
    "language_info": {
      "name": "python"
    },
    "accelerator": "GPU",
    "gpuClass": "standard"
  },
  "cells": [
    {
      "cell_type": "markdown",
      "metadata": {
        "id": "view-in-github",
        "colab_type": "text"
      },
      "source": [
        "<a href=\"https://colab.research.google.com/github/ooootaaaa/DeepLearning2022Late/blob/main/1212%5B%E5%8F%8E%E9%9B%86%E3%81%97%E3%81%9F%E7%94%BB%E5%83%8F%E3%81%A7%E5%AD%A6%E7%BF%92%E3%81%A8%E5%88%86%E9%A1%9E(GPU)%5D.ipynb\" target=\"_parent\"><img src=\"https://colab.research.google.com/assets/colab-badge.svg\" alt=\"Open In Colab\"/></a>"
      ]
    },
    {
      "cell_type": "markdown",
      "source": [
        "#収集した画像をColabにUPして学習させ、それをもとに分類させる\n"
      ],
      "metadata": {
        "id": "cxHL6P34V7vH"
      }
    },
    {
      "cell_type": "markdown",
      "source": [
        "###ファイルのフォルダを準備する"
      ],
      "metadata": {
        "id": "mUXQC9unWV63"
      }
    },
    {
      "cell_type": "code",
      "execution_count": 1,
      "metadata": {
        "id": "81TNkr-oVJHj"
      },
      "outputs": [],
      "source": [
        "import os\n",
        "os.makedirs('sample',exist_ok=True)#分類対象の画像のフォルダを作成\n",
        "os.makedirs('output/dog/sample',exist_ok=True) #犬と判定されたときの置き場所\n",
        "os.makedirs('output/cat/sample',exist_ok=True)#猫と判定された時の置き場所\n",
        "os.makedirs('img/deep_learning/dog',exist_ok=True)#犬の学習用の収集画像\n",
        "os.makedirs('img/deep_learning/cat',exist_ok=True)#猫の学習用の収集画像"
      ]
    },
    {
      "cell_type": "markdown",
      "source": [
        "##必要なライブラリをimport"
      ],
      "metadata": {
        "id": "A7QYh4gfYXSp"
      }
    },
    {
      "cell_type": "code",
      "source": [
        "import cv2\n",
        "import numpy as np\n",
        "import glob as glob\n",
        "from sklearn.model_selection import train_test_split\n",
        "from keras.utils import np_utils\n"
      ],
      "metadata": {
        "id": "qPuZw3REX2-V"
      },
      "execution_count": 2,
      "outputs": []
    },
    {
      "cell_type": "markdown",
      "source": [
        "##分類(クラス)の名前をフォルダ名(dog,cat)から引用する"
      ],
      "metadata": {
        "id": "9GuMQgWjZ0Nh"
      }
    },
    {
      "cell_type": "code",
      "source": [
        "path = \"img/deep_learning\"#dogとcatフォルダがある場所\n",
        "folders = os.listdir(path)\n",
        "#2つのパスからフォルダ名を抜き出す\n",
        "classes = [f for f in folders if os.path. isdir(os.path.join(path,f))]\n",
        "print(classes)\n",
        "n_classes = len(classes)\n",
        "print(n_classes)"
      ],
      "metadata": {
        "colab": {
          "base_uri": "https://localhost:8080/"
        },
        "id": "GQYSgYN5ZpkT",
        "outputId": "bdf59d9a-ff19-41cd-bb72-a68fe0a39ac6"
      },
      "execution_count": 3,
      "outputs": [
        {
          "output_type": "stream",
          "name": "stdout",
          "text": [
            "['dog', 'cat']\n",
            "2\n"
          ]
        }
      ]
    },
    {
      "cell_type": "markdown",
      "source": [
        "##画像を読み込みリサイズ、整形する"
      ],
      "metadata": {
        "id": "rGs97X3p_ErI"
      }
    },
    {
      "cell_type": "code",
      "source": [
        "#画像とラベルのための配列\n",
        "X = [] #画像(学習データ用の配列)\n",
        "Y = []#ラベル(正解用の配列)\n",
        "\n",
        "#画像と読み込みつつリサイする\n",
        "for label,  class_name in enumerate(classes):\n",
        "  files = glob.glob(path + \"/\" + class_name + \"/*jpg\")\n",
        "  for file in files:\n",
        "    img = cv2.imread(file)\n",
        "    img = cv2.resize(img, dsize=(224,224))\n",
        "    X.append(img)\n",
        "    Y.append(label)\n",
        "    #内部ループ終わり\n",
        "#外部ループ終わり"
      ],
      "metadata": {
        "id": "PZYtAiXSZylN"
      },
      "execution_count": 4,
      "outputs": []
    },
    {
      "cell_type": "markdown",
      "source": [
        "##0～255のビットデータ値を学習のために0～1に変換(正規化)学習精度を上げる"
      ],
      "metadata": {
        "id": "RHBkD4QaEvKe"
      }
    },
    {
      "cell_type": "code",
      "source": [
        "X = np.array(X)#配列XをNumpy配列に変換\n",
        "X = X.astype('float32')#小数型に変換\n",
        "X /= 255.0\n",
        "#ラベルもNumpyの配列に変換\n",
        "Y = np.array(Y)\n",
        "Y = np_utils.to_categorical(Y,n_classes)\n"
      ],
      "metadata": {
        "id": "nxSTP2bODknv"
      },
      "execution_count": 5,
      "outputs": []
    },
    {
      "cell_type": "markdown",
      "source": [
        "##整形したデータを学習用とテスト検証用に振り分ける"
      ],
      "metadata": {
        "id": "gEzWmix2Gc6A"
      }
    },
    {
      "cell_type": "code",
      "source": [
        "#学習用データ8割、テスト検証用に振り分ける\n",
        "X_train,X_test,Y_train,Y_test = train_test_split(X,Y,test_size=0.2)\n",
        "#学習データ8割(画像問題データ)\n",
        "print(X_train.shape)\n",
        "#テストデータ2割(画像問題データ)\n",
        "print(X_test.shape)\n",
        "#学習データ8割(正解ラベル)\n",
        "print(Y_train.shape)\n",
        "#テストデータ2割(正解ラベル)\n",
        "print(Y_test.shape)"
      ],
      "metadata": {
        "colab": {
          "base_uri": "https://localhost:8080/"
        },
        "id": "gK0Wc4JyGbgc",
        "outputId": "7eb9932c-9968-4204-9ff8-b61d047552a4"
      },
      "execution_count": 6,
      "outputs": [
        {
          "output_type": "stream",
          "name": "stdout",
          "text": [
            "(60, 224, 224, 3)\n",
            "(15, 224, 224, 3)\n",
            "(60, 2)\n",
            "(15, 2)\n"
          ]
        }
      ]
    },
    {
      "cell_type": "markdown",
      "source": [
        "##準備したデータを学習させていく"
      ],
      "metadata": {
        "id": "XLjCH1TCLVT6"
      }
    },
    {
      "cell_type": "markdown",
      "source": [
        "###学習に必要なライブラリをimport"
      ],
      "metadata": {
        "id": "59H-7ZwxLb0U"
      }
    },
    {
      "cell_type": "code",
      "source": [
        "from keras.applications.vgg16 import VGG16\n",
        "from keras.models import Sequential\n",
        "from keras.models import Model\n",
        "from keras.layers import Input, Activation,Dense,Flatten,Dropout\n",
        "from keras.optimizers import Adam"
      ],
      "metadata": {
        "id": "Uo0i4QliITWl"
      },
      "execution_count": 7,
      "outputs": []
    },
    {
      "cell_type": "markdown",
      "source": [
        "##モデルのVGG16をアレンジしていく"
      ],
      "metadata": {
        "id": "q0NdaSf_S4RF"
      }
    },
    {
      "cell_type": "code",
      "source": [
        "#VGG16 入力層を用意する(定義する)\n",
        "input_tensor = Input(shape=(224,224,3))\n",
        "#VGG16のインスタンスを作る(最後のsoftmaxの1000層を無効にして省く)\n",
        "base_model = VGG16(weights='imagenet',input_tensor=input_tensor,include_top=False)"
      ],
      "metadata": {
        "id": "wr-NMxFjMoMJ",
        "colab": {
          "base_uri": "https://localhost:8080/"
        },
        "outputId": "49815ea8-fb9e-48e6-ffc1-55dd83296331"
      },
      "execution_count": 8,
      "outputs": [
        {
          "output_type": "stream",
          "name": "stdout",
          "text": [
            "Downloading data from https://storage.googleapis.com/tensorflow/keras-applications/vgg16/vgg16_weights_tf_dim_ordering_tf_kernels_notop.h5\n",
            "58889256/58889256 [==============================] - 3s 0us/step\n"
          ]
        }
      ]
    },
    {
      "cell_type": "markdown",
      "source": [
        "##1000分類のsoftmaxを外した代わりに、２つの分類するsoftmax層を追加する"
      ],
      "metadata": {
        "id": "HbRR___pWid1"
      }
    },
    {
      "cell_type": "code",
      "source": [
        "#追加する層の作成\n",
        "top_model = Sequential()#ラッピングする層\n",
        "top_model.add(Flatten(input_shape=base_model.output_shape[1:]))\n",
        "top_model.add(Dense(n_classes,activation='softmax'))"
      ],
      "metadata": {
        "id": "zuFdZ7ZDS2g0"
      },
      "execution_count": 9,
      "outputs": []
    },
    {
      "cell_type": "markdown",
      "source": [
        "##最後のSOFTMAXを外したモデル(basemodel)と追加用の２つに分類するSFOTMAX層のモデル(top_model)をつなげる"
      ],
      "metadata": {
        "id": "zwtfT8KMaf7U"
      }
    },
    {
      "cell_type": "code",
      "source": [
        "model = Model(inputs = base_model.input, outputs=top_model(base_model.output))"
      ],
      "metadata": {
        "id": "Rh_LyJE-YQae"
      },
      "execution_count": 10,
      "outputs": []
    },
    {
      "cell_type": "markdown",
      "source": [
        "##時間短縮のために、15層までを外す"
      ],
      "metadata": {
        "id": "QaO54i90bom3"
      }
    },
    {
      "cell_type": "code",
      "source": [
        "#ループしながら15層までを無効にする\n",
        "for layer in model.layers[:15]:\n",
        "  layer.trainable = False#15層までは学習しない\n",
        "#ループ終わり\n",
        "print('# layers=',len(model.layers))#モデルの層の数を表示"
      ],
      "metadata": {
        "colab": {
          "base_uri": "https://localhost:8080/"
        },
        "id": "MypImpbXbE9Y",
        "outputId": "132296f9-ed8e-46bd-bd91-7a323e383f04"
      },
      "execution_count": 11,
      "outputs": [
        {
          "output_type": "stream",
          "name": "stdout",
          "text": [
            "# layers= 20\n"
          ]
        }
      ]
    },
    {
      "cell_type": "markdown",
      "source": [
        "##学習モデルをコンパイルする"
      ],
      "metadata": {
        "id": "aroi5ZGocnu_"
      }
    },
    {
      "cell_type": "code",
      "source": [
        "#損失はクロスエントロピー法で算出、最適化は最適化はADAM、指標は精度でみる\n",
        "model.compile(loss='categorical_crossentropy',optimizer='adam',metrics=['accuracy'])\n"
      ],
      "metadata": {
        "id": "Xhfu_nYqcl0-"
      },
      "execution_count": 12,
      "outputs": []
    },
    {
      "cell_type": "markdown",
      "source": [
        "##コンパイルしたモデルを表示"
      ],
      "metadata": {
        "id": "LQLTFWoredvG"
      }
    },
    {
      "cell_type": "code",
      "source": [
        "model.summary()"
      ],
      "metadata": {
        "colab": {
          "base_uri": "https://localhost:8080/"
        },
        "id": "-BpoEGS3edBC",
        "outputId": "d144d823-6da0-41fa-9ef7-d5f2ee546a54"
      },
      "execution_count": 13,
      "outputs": [
        {
          "output_type": "stream",
          "name": "stdout",
          "text": [
            "Model: \"model\"\n",
            "_________________________________________________________________\n",
            " Layer (type)                Output Shape              Param #   \n",
            "=================================================================\n",
            " input_1 (InputLayer)        [(None, 224, 224, 3)]     0         \n",
            "                                                                 \n",
            " block1_conv1 (Conv2D)       (None, 224, 224, 64)      1792      \n",
            "                                                                 \n",
            " block1_conv2 (Conv2D)       (None, 224, 224, 64)      36928     \n",
            "                                                                 \n",
            " block1_pool (MaxPooling2D)  (None, 112, 112, 64)      0         \n",
            "                                                                 \n",
            " block2_conv1 (Conv2D)       (None, 112, 112, 128)     73856     \n",
            "                                                                 \n",
            " block2_conv2 (Conv2D)       (None, 112, 112, 128)     147584    \n",
            "                                                                 \n",
            " block2_pool (MaxPooling2D)  (None, 56, 56, 128)       0         \n",
            "                                                                 \n",
            " block3_conv1 (Conv2D)       (None, 56, 56, 256)       295168    \n",
            "                                                                 \n",
            " block3_conv2 (Conv2D)       (None, 56, 56, 256)       590080    \n",
            "                                                                 \n",
            " block3_conv3 (Conv2D)       (None, 56, 56, 256)       590080    \n",
            "                                                                 \n",
            " block3_pool (MaxPooling2D)  (None, 28, 28, 256)       0         \n",
            "                                                                 \n",
            " block4_conv1 (Conv2D)       (None, 28, 28, 512)       1180160   \n",
            "                                                                 \n",
            " block4_conv2 (Conv2D)       (None, 28, 28, 512)       2359808   \n",
            "                                                                 \n",
            " block4_conv3 (Conv2D)       (None, 28, 28, 512)       2359808   \n",
            "                                                                 \n",
            " block4_pool (MaxPooling2D)  (None, 14, 14, 512)       0         \n",
            "                                                                 \n",
            " block5_conv1 (Conv2D)       (None, 14, 14, 512)       2359808   \n",
            "                                                                 \n",
            " block5_conv2 (Conv2D)       (None, 14, 14, 512)       2359808   \n",
            "                                                                 \n",
            " block5_conv3 (Conv2D)       (None, 14, 14, 512)       2359808   \n",
            "                                                                 \n",
            " block5_pool (MaxPooling2D)  (None, 7, 7, 512)         0         \n",
            "                                                                 \n",
            " sequential (Sequential)     (None, 2)                 50178     \n",
            "                                                                 \n",
            "=================================================================\n",
            "Total params: 14,764,866\n",
            "Trainable params: 7,129,602\n",
            "Non-trainable params: 7,635,264\n",
            "_________________________________________________________________\n"
          ]
        }
      ]
    },
    {
      "cell_type": "markdown",
      "source": [
        "##コンパイルしたモデルで収集した画像データを学習させる"
      ],
      "metadata": {
        "id": "Dads_9P8gBC1"
      }
    },
    {
      "cell_type": "code",
      "source": [
        "model.fit(X_train,Y_train,epochs=20,batch_size=16)"
      ],
      "metadata": {
        "colab": {
          "base_uri": "https://localhost:8080/"
        },
        "id": "OUISS0rSemJL",
        "outputId": "5522c388-ad37-4d85-9c15-9a859eb53876"
      },
      "execution_count": 14,
      "outputs": [
        {
          "output_type": "stream",
          "name": "stdout",
          "text": [
            "Epoch 1/20\n",
            "4/4 [==============================] - 14s 544ms/step - loss: 0.3590 - accuracy: 0.7333\n",
            "Epoch 2/20\n",
            "4/4 [==============================] - 0s 85ms/step - loss: 0.0000e+00 - accuracy: 1.0000\n",
            "Epoch 3/20\n",
            "4/4 [==============================] - 0s 85ms/step - loss: 0.0000e+00 - accuracy: 1.0000\n",
            "Epoch 4/20\n",
            "4/4 [==============================] - 0s 85ms/step - loss: 0.0000e+00 - accuracy: 1.0000\n",
            "Epoch 5/20\n",
            "4/4 [==============================] - 0s 85ms/step - loss: 0.0000e+00 - accuracy: 1.0000\n",
            "Epoch 6/20\n",
            "4/4 [==============================] - 0s 86ms/step - loss: 0.0000e+00 - accuracy: 1.0000\n",
            "Epoch 7/20\n",
            "4/4 [==============================] - 0s 85ms/step - loss: 0.0000e+00 - accuracy: 1.0000\n",
            "Epoch 8/20\n",
            "4/4 [==============================] - 0s 85ms/step - loss: 0.0000e+00 - accuracy: 1.0000\n",
            "Epoch 9/20\n",
            "4/4 [==============================] - 0s 86ms/step - loss: 0.0000e+00 - accuracy: 1.0000\n",
            "Epoch 10/20\n",
            "4/4 [==============================] - 0s 85ms/step - loss: 0.0000e+00 - accuracy: 1.0000\n",
            "Epoch 11/20\n",
            "4/4 [==============================] - 0s 85ms/step - loss: 0.0000e+00 - accuracy: 1.0000\n",
            "Epoch 12/20\n",
            "4/4 [==============================] - 0s 86ms/step - loss: 0.0000e+00 - accuracy: 1.0000\n",
            "Epoch 13/20\n",
            "4/4 [==============================] - 0s 85ms/step - loss: 0.0000e+00 - accuracy: 1.0000\n",
            "Epoch 14/20\n",
            "4/4 [==============================] - 0s 86ms/step - loss: 0.0000e+00 - accuracy: 1.0000\n",
            "Epoch 15/20\n",
            "4/4 [==============================] - 0s 85ms/step - loss: 0.0000e+00 - accuracy: 1.0000\n",
            "Epoch 16/20\n",
            "4/4 [==============================] - 0s 85ms/step - loss: 0.0000e+00 - accuracy: 1.0000\n",
            "Epoch 17/20\n",
            "4/4 [==============================] - 0s 85ms/step - loss: 0.0000e+00 - accuracy: 1.0000\n",
            "Epoch 18/20\n",
            "4/4 [==============================] - 0s 85ms/step - loss: 0.0000e+00 - accuracy: 1.0000\n",
            "Epoch 19/20\n",
            "4/4 [==============================] - 0s 86ms/step - loss: 0.0000e+00 - accuracy: 1.0000\n",
            "Epoch 20/20\n",
            "4/4 [==============================] - 0s 85ms/step - loss: 0.0000e+00 - accuracy: 1.0000\n"
          ]
        },
        {
          "output_type": "execute_result",
          "data": {
            "text/plain": [
              "<keras.callbacks.History at 0x7ffa6a199130>"
            ]
          },
          "metadata": {},
          "execution_count": 14
        }
      ]
    },
    {
      "cell_type": "markdown",
      "source": [
        "##学習の成果を指標(accuracy)で確認"
      ],
      "metadata": {
        "id": "8E0_bFzwhx2c"
      }
    },
    {
      "cell_type": "code",
      "source": [
        "score=model.evaluate(X_test,Y_test,batch_size=16)"
      ],
      "metadata": {
        "colab": {
          "base_uri": "https://localhost:8080/"
        },
        "id": "ezKnVw2ef_NJ",
        "outputId": "2ee36390-335c-4773-e6ed-74ac3ea9cdbe"
      },
      "execution_count": 15,
      "outputs": [
        {
          "output_type": "stream",
          "name": "stdout",
          "text": [
            "1/1 [==============================] - 2s 2s/step - loss: 0.0000e+00 - accuracy: 1.0000\n"
          ]
        }
      ]
    },
    {
      "cell_type": "markdown",
      "source": [
        "##作成した学習モデルとクラス分類名を保存"
      ],
      "metadata": {
        "id": "n18Ahcv0ihnD"
      }
    },
    {
      "cell_type": "code",
      "source": [
        "import pickle\n",
        "#vクラス分類の保存\n",
        "pickle.dump(classes,open('classes.sav','wb'))#オブジェクトをバイナリファイルで保存\n",
        "#学習モデルの保存\n",
        "model.save('cnn h5')"
      ],
      "metadata": {
        "colab": {
          "base_uri": "https://localhost:8080/"
        },
        "id": "bhdHNAXviEzk",
        "outputId": "0ef79ad8-6d35-4183-83d0-4558683b228c"
      },
      "execution_count": 16,
      "outputs": [
        {
          "output_type": "stream",
          "name": "stderr",
          "text": [
            "WARNING:absl:Found untraced functions such as _jit_compiled_convolution_op, _jit_compiled_convolution_op, _jit_compiled_convolution_op, _jit_compiled_convolution_op, _jit_compiled_convolution_op while saving (showing 5 of 13). These functions will not be directly callable after loading.\n"
          ]
        }
      ]
    },
    {
      "cell_type": "markdown",
      "source": [
        "##保存したクラス分類と学習モデルを読み込んで使う"
      ],
      "metadata": {
        "id": "UC56R_tVkCTG"
      }
    },
    {
      "cell_type": "code",
      "source": [
        "#ライブラリのimport\n",
        "from keras.models import load_model\n",
        "import pickle\n",
        "import cv2\n",
        "import glob"
      ],
      "metadata": {
        "id": "bKnYLS-SiSEU"
      },
      "execution_count": 17,
      "outputs": []
    },
    {
      "cell_type": "markdown",
      "source": [
        "##ファイルを読み込んでオブジェクトとしてよみがえらせる"
      ],
      "metadata": {
        "id": "ckhsDRksk9CU"
      }
    },
    {
      "cell_type": "code",
      "source": [
        "model = load_model('cnn h5')\n",
        "classes = pickle.load(open('classes.sav','rb'))"
      ],
      "metadata": {
        "id": "mAjQA4y3k05z"
      },
      "execution_count": 18,
      "outputs": []
    },
    {
      "cell_type": "markdown",
      "source": [
        "###sample画像を読み込む"
      ],
      "metadata": {
        "id": "oJ3xO5TiTuF6"
      }
    },
    {
      "cell_type": "code",
      "source": [
        "files = glob.glob('sample/*')\n",
        "print(files)"
      ],
      "metadata": {
        "id": "IZbAzY1glUGk",
        "colab": {
          "base_uri": "https://localhost:8080/"
        },
        "outputId": "1ba2e481-0637-42bf-d214-454543094a43"
      },
      "execution_count": 20,
      "outputs": [
        {
          "output_type": "stream",
          "name": "stdout",
          "text": [
            "['sample/dog_25.jpg', 'sample/cat_35.jpg', 'sample/dog_14.jpg']\n"
          ]
        }
      ]
    },
    {
      "cell_type": "markdown",
      "source": [
        "##ファイルパスから画像を読み込み、学習モデルに判定させ、該当するoutputフォルダにコピーに書き込む"
      ],
      "metadata": {
        "id": "mhtq873JVoPz"
      }
    },
    {
      "cell_type": "code",
      "source": [
        "for file in files:#ファイルの数だけループ\n",
        "  img = cv2.imread(file) #画像データを読み込む\n",
        "  #判定のためにimgを加工したimg2を作る\n",
        "  img2 = cv2.resize(img,dsize=(224,224))#(224,224)にリサイズ\n",
        "  img2 = img2.astype('float32')\n",
        "  img2 = img2/255.0 #0.0～255.0だったデータを0.0～1.0に変換\n",
        "  img2 = img2[None,...]#1次元配列に変換\n",
        "  #正規化したデータを判定\n",
        "  result = model.predict(img2)\n",
        "  print(result)#画面に生で出力\n",
        "  #確率が高いクラスを取得\n",
        "  pred = result.argmax()\n",
        "  print(pred,str(classes[pred]))\n",
        "  #判定したクラス分類のフォルダのほうに、画像データを書き込む\n",
        "  cv2.imwrite('output/'+str(classes[pred]) + '/' + file, img)"
      ],
      "metadata": {
        "colab": {
          "base_uri": "https://localhost:8080/"
        },
        "id": "7WjZQEWvVoBN",
        "outputId": "07e81af3-9603-4cc2-a832-0ff5de064220"
      },
      "execution_count": 23,
      "outputs": [
        {
          "output_type": "stream",
          "name": "stdout",
          "text": [
            "1/1 [==============================] - 0s 18ms/step\n",
            "[[0. 1.]]\n",
            "1 cat\n",
            "1/1 [==============================] - 0s 15ms/step\n",
            "[[0. 1.]]\n",
            "1 cat\n",
            "1/1 [==============================] - 0s 17ms/step\n",
            "[[0. 1.]]\n",
            "1 cat\n"
          ]
        }
      ]
    },
    {
      "cell_type": "code",
      "source": [],
      "metadata": {
        "id": "Mfa6883TVLM1"
      },
      "execution_count": null,
      "outputs": []
    }
  ]
}