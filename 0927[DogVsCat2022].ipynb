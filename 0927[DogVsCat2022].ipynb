{
  "nbformat": 4,
  "nbformat_minor": 0,
  "metadata": {
    "colab": {
      "provenance": [],
      "authorship_tag": "ABX9TyPG/j0jQMKyj3jJSuKTRux1",
      "include_colab_link": true
    },
    "kernelspec": {
      "name": "python3",
      "display_name": "Python 3"
    },
    "language_info": {
      "name": "python"
    }
  },
  "cells": [
    {
      "cell_type": "markdown",
      "metadata": {
        "id": "view-in-github",
        "colab_type": "text"
      },
      "source": [
        "<a href=\"https://colab.research.google.com/github/ooootaaaa/DeepLearning2022Late/blob/main/0927%5BDogVsCat2022%5D.ipynb\" target=\"_parent\"><img src=\"https://colab.research.google.com/assets/colab-badge.svg\" alt=\"Open In Colab\"/></a>"
      ]
    },
    {
      "cell_type": "markdown",
      "source": [
        "#Kerasを使用したディープラーニングをやってみる\n",
        "##画像認識を行う"
      ],
      "metadata": {
        "id": "BMPSy8jP5H0_"
      }
    },
    {
      "cell_type": "markdown",
      "source": [
        "###ライブラリの読み込み"
      ],
      "metadata": {
        "id": "8QszpY_a5fwG"
      }
    },
    {
      "cell_type": "code",
      "execution_count": 1,
      "metadata": {
        "id": "PytGwEcH3Ou3"
      },
      "outputs": [],
      "source": [
        "%matplotlib inline\n",
        "from keras.applications.vgg16 import VGG16, preprocess_input, decode_predictions\n",
        "from keras.preprocessing import image\n",
        "from PIL import Image\n",
        "import matplotlib.pyplot as plt\n",
        "import numpy as np\n",
        "import sys"
      ]
    },
    {
      "cell_type": "markdown",
      "source": [
        "###学習済みモデルの読み込み"
      ],
      "metadata": {
        "id": "Ezcmc4QL77pu"
      }
    },
    {
      "cell_type": "code",
      "source": [
        "model = VGG16(weights = 'imagenet')"
      ],
      "metadata": {
        "id": "JMB4WRRU6M5R"
      },
      "execution_count": 2,
      "outputs": []
    },
    {
      "cell_type": "markdown",
      "source": [
        "###画像判定のための関数"
      ],
      "metadata": {
        "id": "EIQErwY_83HY"
      }
    },
    {
      "cell_type": "code",
      "source": [
        "from numpy.core.multiarray import result_type\n",
        "def predict(filename, featuresize):\n",
        "  img = image.load_img(filename, target_size=(224,224))\n",
        "  x = image.img_to_array(img)\n",
        "  x = np.expand_dims(x,axis=0)\n",
        "  #学習モデルで判定を実行\n",
        "  preds = model.predict(preprocess_input(x))\n",
        "  results = decode_predictions(preds,top=featuresize)[0]\n",
        "  return results\n",
        "  #関数終わり"
      ],
      "metadata": {
        "id": "Jy18AE3n76dI"
      },
      "execution_count": 3,
      "outputs": []
    },
    {
      "cell_type": "markdown",
      "source": [
        "###画像表示のための関数\n"
      ],
      "metadata": {
        "id": "Qvd_PkLR_msN"
      }
    },
    {
      "cell_type": "code",
      "source": [
        "def showimg(filename, title, i):\n",
        "  im = Image.open(filename)#画像ファイルを開く\n",
        "  im_list = np.array(im)#画像ビットでーたをndarrayにする\n",
        "  plt.subplot(2,5,i)\n",
        "  plt.title(title)\n",
        "  plt.axis(\"off\")\n",
        "  plt.imshow(im_list)\n",
        "  #関数終わり"
      ],
      "metadata": {
        "id": "DCirK_N8_Js-"
      },
      "execution_count": 4,
      "outputs": []
    },
    {
      "cell_type": "markdown",
      "source": [
        "##Kaggeにある画像データを利用する\n",
        "https://www.kaggle.com/\n",
        "<br>犬猫判定用の画像データ</br>\n",
        "https://www.kaggle.com/c/dogs-vs-cats/data"
      ],
      "metadata": {
        "id": "bB7hNylWBnKa"
      }
    },
    {
      "cell_type": "markdown",
      "source": [
        "##指定されたURLからファイルをダウンロードする"
      ],
      "metadata": {
        "id": "EZ3PfkbauWqP"
      }
    },
    {
      "cell_type": "code",
      "source": [
        "# wgetでwebからファイルをダウンロードする\n",
        "# GoogleColabでコマンドを実行するときは、先頭に!マークを必ずつけること\n",
        "#小さいファイルをGoogleドライブからDLする時は、以下のようにURLをつけるだけでOK！\n",
        "\n",
        "!wget --load-cookies /tmp/cookies.txt \"https://drive.google.com/uc?export=download&confirm=$(wget --quiet --save-cookies /tmp/cookies.txt --keep-session-cookies --no-check-certificate 'https://drive.google.com/uc?export=download&id=1WQ9KZ-St4BqUWkqYJZYBIXQ8tT92DW_2' -O- | sed -rn 's/.*confirm=([0-9A-Za-z_]+).*/\\1\\n/p')&id=1WQ9KZ-St4BqUWkqYJZYBIXQ8tT92DW_2\" -O train.zip && rm -rf /tmp/cookies.txt\n",
        "!wget --load-cookies /tmp/cookies.txt \"https://drive.google.com/uc?export=download&confirm=$(wget --quiet --save-cookies /tmp/cookies.txt --keep-session-cookies --no-check-certificate 'https://drive.google.com/uc?export=download&id=1WQ9KZ-St4BqUWkqYJZYBIXQ8tT92DW_2' -O- | sed -rn 's/.*confirm=([0-9A-Za-z_]+).*/\\1\\n/p')&id=1WQ9KZ-St4BqUWkqYJZYBIXQ8tT92DW_2\" -O test.zip && rm -rf /tmp/cookies.txt\n",
        "\n"
      ],
      "metadata": {
        "id": "_ctFTPvABFqt",
        "colab": {
          "base_uri": "https://localhost:8080/"
        },
        "outputId": "359ae58a-155c-4036-828b-856dcd34326c"
      },
      "execution_count": 5,
      "outputs": [
        {
          "output_type": "stream",
          "name": "stdout",
          "text": [
            "--2022-10-04 00:48:42--  https://drive.google.com/uc?export=download&confirm=t&id=1WQ9KZ-St4BqUWkqYJZYBIXQ8tT92DW_2\n",
            "Resolving drive.google.com (drive.google.com)... 74.125.23.113, 74.125.23.100, 74.125.23.138, ...\n",
            "Connecting to drive.google.com (drive.google.com)|74.125.23.113|:443... connected.\n",
            "HTTP request sent, awaiting response... 303 See Other\n",
            "Location: https://doc-0k-1s-docs.googleusercontent.com/docs/securesc/ha0ro937gcuc7l7deffksulhg5h7mbp1/cc2q1rntvvqnddgkab6toff15ce2eps7/1664844450000/14334177730080324288/*/1WQ9KZ-St4BqUWkqYJZYBIXQ8tT92DW_2?e=download&uuid=010fac30-11dd-4c27-81e3-b9f9f03e78e5 [following]\n",
            "Warning: wildcards not supported in HTTP.\n",
            "--2022-10-04 00:48:42--  https://doc-0k-1s-docs.googleusercontent.com/docs/securesc/ha0ro937gcuc7l7deffksulhg5h7mbp1/cc2q1rntvvqnddgkab6toff15ce2eps7/1664844450000/14334177730080324288/*/1WQ9KZ-St4BqUWkqYJZYBIXQ8tT92DW_2?e=download&uuid=010fac30-11dd-4c27-81e3-b9f9f03e78e5\n",
            "Resolving doc-0k-1s-docs.googleusercontent.com (doc-0k-1s-docs.googleusercontent.com)... 142.250.157.132, 2404:6800:4008:c13::84\n",
            "Connecting to doc-0k-1s-docs.googleusercontent.com (doc-0k-1s-docs.googleusercontent.com)|142.250.157.132|:443... connected.\n",
            "HTTP request sent, awaiting response... 200 OK\n",
            "Length: 569872234 (543M) [application/x-zip-compressed]\n",
            "Saving to: ‘train.zip’\n",
            "\n",
            "train.zip           100%[===================>] 543.47M   217MB/s    in 2.5s    \n",
            "\n",
            "2022-10-04 00:48:45 (217 MB/s) - ‘train.zip’ saved [569872234/569872234]\n",
            "\n",
            "--2022-10-04 00:48:46--  https://drive.google.com/uc?export=download&confirm=t&id=1WQ9KZ-St4BqUWkqYJZYBIXQ8tT92DW_2\n",
            "Resolving drive.google.com (drive.google.com)... 74.125.23.113, 74.125.23.100, 74.125.23.138, ...\n",
            "Connecting to drive.google.com (drive.google.com)|74.125.23.113|:443... connected.\n",
            "HTTP request sent, awaiting response... 303 See Other\n",
            "Location: https://doc-0k-1s-docs.googleusercontent.com/docs/securesc/ha0ro937gcuc7l7deffksulhg5h7mbp1/6v0fd1hpm0h6o42ie22f23mrp2oc027k/1664844525000/14334177730080324288/*/1WQ9KZ-St4BqUWkqYJZYBIXQ8tT92DW_2?e=download&uuid=31edb063-482b-45c0-bb01-0842c5771b47 [following]\n",
            "Warning: wildcards not supported in HTTP.\n",
            "--2022-10-04 00:48:46--  https://doc-0k-1s-docs.googleusercontent.com/docs/securesc/ha0ro937gcuc7l7deffksulhg5h7mbp1/6v0fd1hpm0h6o42ie22f23mrp2oc027k/1664844525000/14334177730080324288/*/1WQ9KZ-St4BqUWkqYJZYBIXQ8tT92DW_2?e=download&uuid=31edb063-482b-45c0-bb01-0842c5771b47\n",
            "Resolving doc-0k-1s-docs.googleusercontent.com (doc-0k-1s-docs.googleusercontent.com)... 142.250.157.132, 2404:6800:4008:c13::84\n",
            "Connecting to doc-0k-1s-docs.googleusercontent.com (doc-0k-1s-docs.googleusercontent.com)|142.250.157.132|:443... connected.\n",
            "HTTP request sent, awaiting response... 200 OK\n",
            "Length: 569872234 (543M) [application/x-zip-compressed]\n",
            "Saving to: ‘test.zip’\n",
            "\n",
            "test.zip            100%[===================>] 543.47M   139MB/s    in 3.7s    \n",
            "\n",
            "2022-10-04 00:48:50 (147 MB/s) - ‘test.zip’ saved [569872234/569872234]\n",
            "\n"
          ]
        }
      ]
    },
    {
      "cell_type": "markdown",
      "source": [
        "##Colabに自分のGoogleアカウントのドライブをマウント"
      ],
      "metadata": {
        "id": "S3giccb8yr93"
      }
    },
    {
      "cell_type": "code",
      "source": [
        "#googleドライブを操作するモジュールをimport\n",
        "from google.colab import drive\n",
        "#googleドライブをマウント\n",
        "drive.mount('/content/drive')"
      ],
      "metadata": {
        "colab": {
          "base_uri": "https://localhost:8080/"
        },
        "id": "2pk-aDnmyrss",
        "outputId": "a75c3114-704e-451f-dded-f904a9439d11"
      },
      "execution_count": 6,
      "outputs": [
        {
          "output_type": "stream",
          "name": "stdout",
          "text": [
            "Drive already mounted at /content/drive; to attempt to forcibly remount, call drive.mount(\"/content/drive\", force_remount=True).\n"
          ]
        }
      ]
    },
    {
      "cell_type": "markdown",
      "source": [
        "##DLしてきたファイルをマウントしたディレクトリにコピーする\n"
      ],
      "metadata": {
        "id": "pKrcyYAK1C9k"
      }
    },
    {
      "cell_type": "code",
      "source": [
        "#　コピーファイルを置くディレクトリを作る\n",
        "import os \n",
        "dir_path = \"/content/dirive/My Drive/2022LATE\"\n",
        "#すでにディレクトリがあってもエラに使用\n",
        "os.makedirs(dir_path,exist_ok = True)\n",
        "!pwd #今いるディレクトリを表示\n",
        "#ファイルをコピー\n",
        "!cp train.zip \"/content/drive/My Drive/2022LATE\"\n",
        "#test.zip はいったん使わないのでコピーしない"
      ],
      "metadata": {
        "colab": {
          "base_uri": "https://localhost:8080/"
        },
        "id": "MVHpLT5Rux5j",
        "outputId": "dd9136cc-d22f-415a-dbe0-446b6cbd6b6a"
      },
      "execution_count": 7,
      "outputs": [
        {
          "output_type": "stream",
          "name": "stdout",
          "text": [
            "/content\n"
          ]
        }
      ]
    },
    {
      "cell_type": "markdown",
      "source": [
        "#Google ドライブからColabへファイルをコピー"
      ],
      "metadata": {
        "id": "7L6Aoev038VL"
      }
    },
    {
      "cell_type": "code",
      "source": [
        "!cp \"/content/drive/My Drive/2022LATE/train.zip\""
      ],
      "metadata": {
        "colab": {
          "base_uri": "https://localhost:8080/"
        },
        "id": "8wrV6UC-1p9q",
        "outputId": "69100158-0e30-423d-d0fd-8090672d46d7"
      },
      "execution_count": 8,
      "outputs": [
        {
          "output_type": "stream",
          "name": "stdout",
          "text": [
            "cp: missing destination file operand after '/content/drive/My Drive/2022LATE/train.zip'\n",
            "Try 'cp --help' for more information.\n"
          ]
        }
      ]
    },
    {
      "cell_type": "markdown",
      "source": [
        "##zipファイルを解凍する"
      ],
      "metadata": {
        "id": "85Km2YmG4tj2"
      }
    },
    {
      "cell_type": "code",
      "source": [
        "#unzipコマンドで解凍\n",
        "!unzip -o -q \"train.zip\"\n",
        "print(\"zip解凍完了\")"
      ],
      "metadata": {
        "colab": {
          "base_uri": "https://localhost:8080/"
        },
        "id": "ZtIlYWdx4YdR",
        "outputId": "80012ed0-7d85-46ac-ad5d-a6581152acbd"
      },
      "execution_count": 9,
      "outputs": [
        {
          "output_type": "stream",
          "name": "stdout",
          "text": [
            "zip解凍完了\n"
          ]
        }
      ]
    },
    {
      "cell_type": "markdown",
      "source": [
        "##解凍した画像を使って画像判定させる"
      ],
      "metadata": {
        "id": "D3B8fZGP57-o"
      }
    },
    {
      "cell_type": "code",
      "source": [
        "#画像を指定する変数\n",
        "# filename = \"train/cat.100.jpg\"\n",
        "filename = \"kin.png\"\n",
        "\n",
        "plt.figure(figsize=(20,10))\n",
        "for i in range(1):\n",
        "  showimg (filename, \"What's this??\", i+1)\n",
        "#ループ終わり\n",
        "plt.show()\n",
        "\n",
        "#表示した画像を判定\n",
        "results = predict(filename, 10)\n",
        "for result in results:\n",
        "  print(result)"
      ],
      "metadata": {
        "colab": {
          "base_uri": "https://localhost:8080/",
          "height": 450
        },
        "id": "8Vlm8Iuw6CkJ",
        "outputId": "aaf335f2-c85b-453b-d5b7-2f5f383c226b"
      },
      "execution_count": 11,
      "outputs": [
        {
          "output_type": "display_data",
          "data": {
            "text/plain": [
              "<Figure size 1440x720 with 1 Axes>"
            ],
            "image/png": "[encoded data removed]"
          },
          "metadata": {
            "needs_background": "light"
          }
        },
        {
          "output_type": "stream",
          "name": "stdout",
          "text": [
            "('n03888605', 'parallel_bars', 0.528502)\n",
            "('n03535780', 'horizontal_bar', 0.3825556)\n",
            "('n02777292', 'balance_beam', 0.029171305)\n",
            "('n03255030', 'dumbbell', 0.008938877)\n",
            "('n02790996', 'barbell', 0.006298535)\n",
            "('n03942813', 'ping-pong_ball', 0.003910068)\n",
            "('n03832673', 'notebook', 0.0030498945)\n",
            "('n04409515', 'tennis_ball', 0.0026656175)\n",
            "('n04540053', 'volleyball', 0.0019229518)\n",
            "('n03594734', 'jean', 0.0014506393)\n"
          ]
        }
      ]
    },
    {
      "cell_type": "code",
      "source": [],
      "metadata": {
        "id": "qpcYqrQU7BS9"
      },
      "execution_count": 10,
      "outputs": []
    }
  ]
}