{
  "nbformat": 4,
  "nbformat_minor": 0,
  "metadata": {
    "colab": {
      "provenance": [],
      "authorship_tag": "ABX9TyMrDMl5LIoRMzeTxjGkJQgS",
      "include_colab_link": true
    },
    "kernelspec": {
      "name": "python3",
      "display_name": "Python 3"
    },
    "language_info": {
      "name": "python"
    }
  },
  "cells": [
    {
      "cell_type": "markdown",
      "metadata": {
        "id": "view-in-github",
        "colab_type": "text"
      },
      "source": [
        "<a href=\"https://colab.research.google.com/github/ooootaaaa/DeepLearning2022Late/blob/main/Zairyou.ipynb\" target=\"_parent\"><img src=\"https://colab.research.google.com/assets/colab-badge.svg\" alt=\"Open In Colab\"/></a>"
      ]
    },
    {
      "cell_type": "code",
      "execution_count": 4,
      "metadata": {
        "colab": {
          "base_uri": "https://localhost:8080/",
          "height": 292
        },
        "id": "5W8HpKcf9H7_",
        "outputId": "656c2265-485c-44ac-9edb-c1fd091987c3"
      },
      "outputs": [
        {
          "output_type": "stream",
          "name": "stdout",
          "text": [
            "入力してください：人参\n",
            "人参\n",
            "[]\n"
          ]
        },
        {
          "output_type": "error",
          "ename": "IndexError",
          "evalue": "ignored",
          "traceback": [
            "\u001b[0;31m---------------------------------------------------------------------------\u001b[0m",
            "\u001b[0;31mIndexError\u001b[0m                                Traceback (most recent call last)",
            "\u001b[0;32m<ipython-input-4-511786ab2d38>\u001b[0m in \u001b[0;36m<module>\u001b[0;34m\u001b[0m\n\u001b[1;32m     33\u001b[0m \u001b[0mprint\u001b[0m\u001b[0;34m(\u001b[0m\u001b[0mdf_keyword\u001b[0m\u001b[0;34m[\u001b[0m\u001b[0;34m'categoryId'\u001b[0m\u001b[0;34m]\u001b[0m\u001b[0;34m.\u001b[0m\u001b[0mvalues\u001b[0m\u001b[0;34m)\u001b[0m\u001b[0;34m\u001b[0m\u001b[0;34m\u001b[0m\u001b[0m\n\u001b[1;32m     34\u001b[0m \u001b[0;34m\u001b[0m\u001b[0m\n\u001b[0;32m---> 35\u001b[0;31m \u001b[0murl\u001b[0m \u001b[0;34m=\u001b[0m\u001b[0;34m'https://app.rakuten.co.jp/services/api/Recipe/CategoryRanking/20170426?applicationId=1037594375519609143&categoryId='\u001b[0m\u001b[0;34m+\u001b[0m\u001b[0mdf_keyword\u001b[0m\u001b[0;34m[\u001b[0m\u001b[0;34m'categoryId'\u001b[0m\u001b[0;34m]\u001b[0m\u001b[0;34m.\u001b[0m\u001b[0mvalues\u001b[0m\u001b[0;34m[\u001b[0m\u001b[0;36m0\u001b[0m\u001b[0;34m]\u001b[0m\u001b[0;34m\u001b[0m\u001b[0;34m\u001b[0m\u001b[0m\n\u001b[0m\u001b[1;32m     36\u001b[0m \u001b[0mprint\u001b[0m\u001b[0;34m(\u001b[0m\u001b[0murl\u001b[0m\u001b[0;34m)\u001b[0m\u001b[0;34m\u001b[0m\u001b[0;34m\u001b[0m\u001b[0m\n\u001b[1;32m     37\u001b[0m \u001b[0;34m\u001b[0m\u001b[0m\n",
            "\u001b[0;31mIndexError\u001b[0m: index 0 is out of bounds for axis 0 with size 0"
          ]
        }
      ],
      "source": [
        "import requests\n",
        "import json\n",
        "import time\n",
        "import pandas as pd\n",
        "from pprint import pprint\n",
        "\n",
        "# 1. 楽天レシピのレシピカテゴリ一覧を取得する\n",
        "\n",
        "res = requests.get('https://app.rakuten.co.jp/services/api/Recipe/CategoryList/20170426?applicationId=1037594375519609143')\n",
        "\n",
        "json_data = json.loads(res.text)\n",
        "\n",
        "parent_dict = {} # mediumカテゴリの親カテゴリの辞書\n",
        "\n",
        "df = pd.DataFrame(columns=['category1','category2','category3','categoryId','categoryName'])\n",
        "\n",
        "for category in json_data['result']['large']:\n",
        "    df = df.append({'category1':category['categoryId'],'category2':\"\",'category3':\"\",'categoryId':category['categoryId'],'categoryName':category['categoryName']}, ignore_index=True)\n",
        "\n",
        "for category in json_data['result']['medium']:\n",
        "    df = df.append({'category1':category['parentCategoryId'],'category2':category['categoryId'],'category3':\"\",'categoryId':str(category['parentCategoryId'])+\"-\"+str(category['categoryId']),'categoryName':category['categoryName']}, ignore_index=True)\n",
        "    parent_dict[str(category['categoryId'])] = category['parentCategoryId']\n",
        "\n",
        "for category in json_data['result']['small']:\n",
        "    df = df.append({'category1':parent_dict[category['parentCategoryId']],'category2':category['parentCategoryId'],'category3':category['categoryId'],'categoryId':parent_dict[category['parentCategoryId']]+\"-\"+str(category['parentCategoryId'])+\"-\"+str(category['categoryId']),'categoryName':category['categoryName']}, ignore_index=True)\n",
        "\n",
        "\n",
        "#ユーザー入力\n",
        "user_input = input(\"入力してください：\")\n",
        "print(f'{user_input}')\n",
        "\n",
        "df_keyword = df.query(f'categoryName==(\"{user_input}\")', engine='python')\n",
        "print(df_keyword['categoryId'].values)\n",
        "\n",
        "url ='https://app.rakuten.co.jp/services/api/Recipe/CategoryRanking/20170426?applicationId=1037594375519609143&categoryId='+df_keyword['categoryId'].values[0]\n",
        "print(url)\n",
        "\n",
        "api_data = requests.get(url).json()\n",
        "\n",
        "for menu in api_data['result']:\n",
        "      menu_title = menu['recipeTitle']\n",
        "      menu_url = menu['recipeUrl'] \n",
        "      menu_image = menu['recipeMaterial']\n",
        "\n",
        "      menu_description = menu['recipeDescription']\n",
        "\n",
        "      print('【' + menu_title + '】')\n",
        "      print(menu_url)\n",
        "      print(menu_image)\n",
        "      print(menu_description)\n",
        "\n",
        "print()"
      ]
    },
    {
      "cell_type": "code",
      "source": [
        "import requests\n",
        "import json\n",
        "import time\n",
        "import pandas as pd\n",
        "from pprint import pprint\n",
        "\n",
        "# 1. 楽天レシピのレシピカテゴリ一覧を取得する\n",
        "\n",
        "res = requests.get('https://app.rakuten.co.jp/services/api/Recipe/CategoryList/20170426?applicationId=1037594375519609143')\n",
        "\n",
        "json_data = json.loads(res.text)\n",
        "\n",
        "parent_dict = {} # mediumカテゴリの親カテゴリの辞書\n",
        "\n",
        "df = pd.DataFrame(columns=['category1','category2','category3','categoryId','categoryName'])\n",
        "\n",
        "for category in json_data['result']['large']:\n",
        "    df = df.append({'category1':category['categoryId'],'category2':\"\",'category3':\"\",'categoryId':category['categoryId'],'categoryName':category['categoryName']}, ignore_index=True)\n",
        "\n",
        "for category in json_data['result']['medium']:\n",
        "    df = df.append({'category1':category['parentCategoryId'],'category2':category['categoryId'],'category3':\"\",'categoryId':str(category['parentCategoryId'])+\"-\"+str(category['categoryId']),'categoryName':category['categoryName']}, ignore_index=True)\n",
        "    parent_dict[str(category['categoryId'])] = category['parentCategoryId']\n",
        "\n",
        "for category in json_data['result']['small']:\n",
        "    df = df.append({'category1':parent_dict[category['parentCategoryId']],'category2':category['parentCategoryId'],'category3':category['categoryId'],'categoryId':parent_dict[category['parentCategoryId']]+\"-\"+str(category['parentCategoryId'])+\"-\"+str(category['categoryId']),'categoryName':category['categoryName']}, ignore_index=True)\n",
        "\n",
        "\n",
        "#ユーザー入力\n",
        "user_input = input(\"入力してください：\")\n",
        "print(f'{user_input}')\n",
        "\n",
        "df_keyword = df.query(f'categoryName==(\"{user_input}\")', engine='python')\n",
        "print(df_keyword['categoryId'].values)\n",
        "\n",
        "try:\n",
        "  url ='https://app.rakuten.co.jp/services/api/Recipe/CategoryRanking/20170426?applicationId=1037594375519609143&categoryId='+df_keyword['categoryId'].values[0]\n",
        "  print(url)\n",
        "\n",
        "except IndexError:\n",
        "  print('見つかりませんでした')\n",
        "\n",
        "else:\n",
        "  api_data = requests.get(url).json()\n",
        "\n",
        "  for menu in api_data['result']:\n",
        "        menu_title = menu['recipeTitle']\n",
        "        menu_url = menu['recipeUrl'] \n",
        "        menu_image = menu['recipeMaterial']\n",
        "\n",
        "        menu_description = menu['recipeDescription']\n",
        "\n",
        "        print('【' + menu_title + '】')\n",
        "        print(menu_url)\n",
        "        print(menu_image)\n",
        "        print(menu_description)\n",
        "\n",
        "  print()"
      ],
      "metadata": {
        "id": "z60mAZ1I9skw",
        "colab": {
          "base_uri": "https://localhost:8080/"
        },
        "outputId": "5c5f0cad-afda-4689-a1b6-67509735a8b6"
      },
      "execution_count": 9,
      "outputs": [
        {
          "output_type": "stream",
          "name": "stdout",
          "text": [
            "入力してください：うどん\n",
            "うどん\n",
            "['16-152']\n",
            "https://app.rakuten.co.jp/services/api/Recipe/CategoryRanking/20170426?applicationId=1037594375519609143&categoryId=16-152\n",
            "【風邪の時はコレ！簡単フワフワあんかけ卵とじうどん】\n",
            "https://recipe.rakuten.co.jp/recipe/1590002761/\n",
            "['冷凍うどん又はゆでうどん', '水', '3倍濃縮麺つゆ', '卵', '長ネギ', '片栗粉（大さじ1の水で溶く）']\n",
            "家族が風邪をひいた時にリクエストされるうどんです！5分で簡単、手軽に作れます☆体も温まるし消化にも良し！寒いときの1人ランチにも♪\n",
            "【ダシがとってもおいしい☆肉うどん】\n",
            "https://recipe.rakuten.co.jp/recipe/1330000244/\n",
            "['うどん(冷凍うどん)', '牛肉', '★醤油', '★砂糖', '☆みりん', '☆ダシの素', '☆水', 'ネギ', '☆醤油']\n",
            "ダシがとっても美味しいです！\n",
            "【すき焼き風うどん～あったかいんだからぁ♪】\n",
            "https://recipe.rakuten.co.jp/recipe/1910006499/\n",
            "['冷凍うどん（茹でうどんでも）', '牛切り落とし（薄切りでも）', '長葱', '豆腐', '卵', '水', '＠麺つゆ', '＠醤油', '＠砂糖', '＠酒']\n",
            "家にある材料で～特別なうどん♪あなたにあげる♪あったかいんだからぁ♪と、お夜食にも＾－＾\n",
            "【寒い冬はお鍋で温まろ！基本の猪鍋(ぼたん鍋)！】\n",
            "https://recipe.rakuten.co.jp/recipe/1390034204/\n",
            "['猪肉(または豚肉・鹿肉)', '豆腐(ソフト木綿・鍋用)・焼き豆腐等', '油揚げ', '白菜', '菊菜（水菜でもOK）', 'もやし', 'エノキ・椎茸・しめじ等キノコ類', '長葱', 'ゴボウ、又はヤーコン等', '↑ヤーコンは灰汁が少なくシャリシャリ食感', '人参', '大根', 'しらたき、マロニー等', '〆には、うどん・ラーメン等(茹でたもの)', '生卵・・・生卵に浸けて食べる場合', '↑私はこれが好き！', 'おろし生姜（チューブでもOK）', '※入れる材料は味噌に合うものならOK', '粉山椒(食べる際の薬味に！)', '☆スープの基本配合', '・水', '・日本酒', '・みりん', '・赤だし(赤味噌)', '・合わせ味噌(白味噌でもOK)', '↑私は赤味噌のみで、粉山椒たっぷりが好き', '・砂糖', '・胡麻ペースト・煎り胡麻等', '・昆布又は顆粒昆布だし']\n",
            "冬の味覚のヘルシーな猪鍋！実は猪鍋って、そんなに味付けにこだわる必要は無くて、簡単に出来てお薦め！また、お鍋の中でも味噌味のお鍋は、特に体が温まりますよ！\n",
            "\n"
          ]
        }
      ]
    },
    {
      "cell_type": "code",
      "source": [],
      "metadata": {
        "id": "WySjODm6HINX"
      },
      "execution_count": null,
      "outputs": []
    }
  ]
}