{
  "nbformat": 4,
  "nbformat_minor": 0,
  "metadata": {
    "colab": {
      "provenance": [],
      "authorship_tag": "ABX9TyO9128ive0jEKaDd9O80Zjo",
      "include_colab_link": true
    },
    "kernelspec": {
      "name": "python3",
      "display_name": "Python 3"
    },
    "language_info": {
      "name": "python"
    }
  },
  "cells": [
    {
      "cell_type": "markdown",
      "metadata": {
        "id": "view-in-github",
        "colab_type": "text"
      },
      "source": [
        "<a href=\"https://colab.research.google.com/github/ooootaaaa/DeepLearning2022Late/blob/main/0913_2.ipynb\" target=\"_parent\"><img src=\"https://colab.research.google.com/assets/colab-badge.svg\" alt=\"Open In Colab\"/></a>"
      ]
    },
    {
      "cell_type": "code",
      "source": [],
      "metadata": {
        "id": "6lfDoRi1zMgo"
      },
      "execution_count": null,
      "outputs": []
    },
    {
      "cell_type": "markdown",
      "source": [],
      "metadata": {
        "id": "PRkMDreZzDyo"
      }
    },
    {
      "cell_type": "markdown",
      "source": [
        "#辞書型(dictionary)\n",
        "キーと値のペアで管理する\n"
      ],
      "metadata": {
        "id": "Z-sBL_TJzFXd"
      }
    },
    {
      "cell_type": "markdown",
      "source": [
        "##辞書の定義文"
      ],
      "metadata": {
        "id": "AR_T3mh3zaA8"
      }
    },
    {
      "cell_type": "code",
      "source": [
        "  dict = {'アップル': 1, 'ペン':2, 'パイナップル':3}\n",
        "  print(dict)\n",
        "  print(dict['ペン'])"
      ],
      "metadata": {
        "colab": {
          "base_uri": "https://localhost:8080/"
        },
        "id": "nbkwQp9ezeh3",
        "outputId": "c67828cf-4a89-45d8-ac25-964de632d813"
      },
      "execution_count": 1,
      "outputs": [
        {
          "output_type": "stream",
          "name": "stdout",
          "text": [
            "{'アップル': 1, 'ペン': 2, 'パイナップル': 3}\n",
            "2\n"
          ]
        }
      ]
    },
    {
      "cell_type": "markdown",
      "source": [],
      "metadata": {
        "id": "gOYc4C0o1xE8"
      }
    },
    {
      "cell_type": "markdown",
      "source": [
        "##辞書型のキーワード一覧、値一覧を取得する"
      ],
      "metadata": {
        "id": "Mcj3Syqq14pD"
      }
    },
    {
      "cell_type": "code",
      "execution_count": 2,
      "metadata": {
        "colab": {
          "base_uri": "https://localhost:8080/"
        },
        "id": "oJQqQjVmytlP",
        "outputId": "121e147c-d7e1-4e7f-f797-3de5577e5ee3"
      },
      "outputs": [
        {
          "output_type": "stream",
          "name": "stdout",
          "text": [
            "{'アップル': 1, 'ペン': 2, 'パイナップル': 3}\n",
            "dict_keys(['アップル', 'ペン', 'パイナップル'])\n",
            "dict_values([1, 2, 3])\n"
          ]
        }
      ],
      "source": [
        "print(dict)\n",
        "print(dict.keys())\n",
        "print(dict.values())"
      ]
    },
    {
      "cell_type": "markdown",
      "source": [
        "##辞書型の追加・削除・更新"
      ],
      "metadata": {
        "id": "SpriXJzt2QNZ"
      }
    },
    {
      "cell_type": "code",
      "source": [
        "print(dict)\n",
        "dict['バナナ'] = 5\n",
        "print(dict)\n",
        "dict['バナナ'] = 100\n",
        "print(dict)\n",
        "dict.pop('バナナ')\n",
        "print(dict)"
      ],
      "metadata": {
        "colab": {
          "base_uri": "https://localhost:8080/"
        },
        "id": "N1uWjxeh2IOW",
        "outputId": "a730dd8b-0c28-417d-dfcf-ffc94a57531f"
      },
      "execution_count": 3,
      "outputs": [
        {
          "output_type": "stream",
          "name": "stdout",
          "text": [
            "{'アップル': 1, 'ペン': 2, 'パイナップル': 3}\n",
            "{'アップル': 1, 'ペン': 2, 'パイナップル': 3, 'バナナ': 5}\n",
            "{'アップル': 1, 'ペン': 2, 'パイナップル': 3, 'バナナ': 100}\n",
            "{'アップル': 1, 'ペン': 2, 'パイナップル': 3}\n"
          ]
        }
      ]
    },
    {
      "cell_type": "markdown",
      "source": [
        "#文字列の成形\n",
        "##文字列の連結と繰り返し"
      ],
      "metadata": {
        "id": "8mvsWsCz4YKz"
      }
    },
    {
      "cell_type": "code",
      "source": [
        "apple = 'アップル'\n",
        "pen = 'ペン'\n",
        "print(apple + pen)\n",
        "piko  =['ペン' ,'パイナップル', 'アップル' , 'ペン']\n",
        "print(',' .join(piko))\n",
        "pon = 'ポン'\n",
        "print(pon*3)"
      ],
      "metadata": {
        "colab": {
          "base_uri": "https://localhost:8080/"
        },
        "id": "2oqb45LV2Zsu",
        "outputId": "4e646a0c-58b2-47cb-bd10-6b7508eda0c4"
      },
      "execution_count": 4,
      "outputs": [
        {
          "output_type": "stream",
          "name": "stdout",
          "text": [
            "アップルペン\n",
            "ペン,パイナップル,アップル,ペン\n",
            "ポンポンポン\n"
          ]
        }
      ]
    },
    {
      "cell_type": "markdown",
      "source": [
        "## 【重要】文字列の成形(フォーマット)\n"
      ],
      "metadata": {
        "id": "eMU34tQd65_l"
      }
    },
    {
      "cell_type": "code",
      "source": [
        "print('{}{} :{}円')\n",
        "print('{}{} :{}円'.format('アップル', 'ペン', 100))\n",
        "print('{1}{2} :{0}円'.format(100,'アップル', 'ペン'))"
      ],
      "metadata": {
        "colab": {
          "base_uri": "https://localhost:8080/"
        },
        "id": "GFCTGEb45P80",
        "outputId": "7cebd2cd-ceee-4599-ebe1-7a3fff9225ec"
      },
      "execution_count": 6,
      "outputs": [
        {
          "output_type": "stream",
          "name": "stdout",
          "text": [
            "{}{} :{}円\n",
            "アップルペン :100円\n",
            "アップルペン :100円\n"
          ]
        }
      ]
    },
    {
      "cell_type": "code",
      "source": [],
      "metadata": {
        "id": "str5W1458CRa"
      },
      "execution_count": 5,
      "outputs": []
    },
    {
      "cell_type": "markdown",
      "source": [
        "#コレクション演算\n",
        "リスト・タプル、つまり順番がある集合のことをシーケンスという。\n",
        "順番がない集合を集合型(セット)という。\n",
        "上記２種類をまとめてコレクションという。\n",
        "コレクションは共通の演算が使える。\n",
        "len(長さ・量を取得)、max(最大値を取得)、min(最小値を取得)など"
      ],
      "metadata": {
        "id": "7i5A9wuqW2N0"
      }
    },
    {
      "cell_type": "code",
      "source": [
        "from IPython.lib.display import ScribdDocument\n",
        "list = [1,1,2,3,4,5] #６つの要素\n",
        "tuple = (10,9,7,7,8,8,9)#７つの要素\n",
        "set = {1,-2,3,-4,5,-6,7,-8} #８つの要素\n",
        "#リストの長さ、最大値、最小値\n",
        "print('リスト:',len(list),max(list),min(list))\n",
        "#タプルの長さ、最大値、最小値\n",
        "print('タプル:',len(tuple),max(tuple),min(tuple))\n",
        "#セットの長さ、最大値、最小値\n",
        "print('セット:',len(set),max(set),min(set))"
      ],
      "metadata": {
        "colab": {
          "base_uri": "https://localhost:8080/"
        },
        "id": "ILxXgkLYXyiv",
        "outputId": "f60ba445-8a5f-4229-8822-454dcff5a8ba"
      },
      "execution_count": 12,
      "outputs": [
        {
          "output_type": "stream",
          "name": "stdout",
          "text": [
            "リスト: 6 5 1\n",
            "タプル: 7 10 7\n",
            "セット: 8 7 -8\n"
          ]
        }
      ]
    },
    {
      "cell_type": "code",
      "source": [],
      "metadata": {
        "id": "h7sskCwNYDx9"
      },
      "execution_count": null,
      "outputs": []
    }
  ]
}