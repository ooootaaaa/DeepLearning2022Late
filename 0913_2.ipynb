{
  "nbformat": 4,
  "nbformat_minor": 0,
  "metadata": {
    "colab": {
      "provenance": [],
      "authorship_tag": "ABX9TyPtov6oTnjgaHcoMCPqAy+0",
      "include_colab_link": true
    },
    "kernelspec": {
      "name": "python3",
      "display_name": "Python 3"
    },
    "language_info": {
      "name": "python"
    }
  },
  "cells": [
    {
      "cell_type": "markdown",
      "metadata": {
        "id": "view-in-github",
        "colab_type": "text"
      },
      "source": [
        "<a href=\"https://colab.research.google.com/github/ooootaaaa/DeepLearning2022Late/blob/main/0913_2.ipynb\" target=\"_parent\"><img src=\"https://colab.research.google.com/assets/colab-badge.svg\" alt=\"Open In Colab\"/></a>"
      ]
    },
    {
      "cell_type": "code",
      "source": [],
      "metadata": {
        "id": "6lfDoRi1zMgo"
      },
      "execution_count": null,
      "outputs": []
    },
    {
      "cell_type": "markdown",
      "source": [],
      "metadata": {
        "id": "PRkMDreZzDyo"
      }
    },
    {
      "cell_type": "markdown",
      "source": [
        "#辞書型(dictionary)\n",
        "キーと値のペアで管理する\n"
      ],
      "metadata": {
        "id": "Z-sBL_TJzFXd"
      }
    },
    {
      "cell_type": "markdown",
      "source": [
        "##辞書の定義文"
      ],
      "metadata": {
        "id": "AR_T3mh3zaA8"
      }
    },
    {
      "cell_type": "code",
      "source": [
        "  dict = {'アップル': 1, 'ペン':2, 'パイナップル':3}\n",
        "  print(dict)\n",
        "  print(dict['ペン'])"
      ],
      "metadata": {
        "colab": {
          "base_uri": "https://localhost:8080/"
        },
        "id": "nbkwQp9ezeh3",
        "outputId": "fa46af0c-c67e-46fb-dd6a-018f13b169e9"
      },
      "execution_count": 1,
      "outputs": [
        {
          "output_type": "stream",
          "name": "stdout",
          "text": [
            "{'アップル': 1, 'ペン': 2, 'パイナップル': 3}\n",
            "2\n"
          ]
        }
      ]
    },
    {
      "cell_type": "markdown",
      "source": [],
      "metadata": {
        "id": "gOYc4C0o1xE8"
      }
    },
    {
      "cell_type": "markdown",
      "source": [
        "##辞書型のキーワード一覧、値一覧を取得する"
      ],
      "metadata": {
        "id": "Mcj3Syqq14pD"
      }
    },
    {
      "cell_type": "code",
      "execution_count": 2,
      "metadata": {
        "colab": {
          "base_uri": "https://localhost:8080/"
        },
        "id": "oJQqQjVmytlP",
        "outputId": "e252f639-481e-412a-b194-15519ff2dea8"
      },
      "outputs": [
        {
          "output_type": "stream",
          "name": "stdout",
          "text": [
            "{'アップル': 1, 'ペン': 2, 'パイナップル': 3}\n",
            "dict_keys(['アップル', 'ペン', 'パイナップル'])\n",
            "dict_values([1, 2, 3])\n"
          ]
        }
      ],
      "source": [
        "print(dict)\n",
        "print(dict.keys())\n",
        "print(dict.values())"
      ]
    },
    {
      "cell_type": "markdown",
      "source": [
        "##辞書型の追加・削除・更新"
      ],
      "metadata": {
        "id": "SpriXJzt2QNZ"
      }
    },
    {
      "cell_type": "code",
      "source": [
        "print(dict)\n",
        "dict['バナナ'] = 5\n",
        "print(dict)\n",
        "dict['バナナ'] = 100\n",
        "print(dict)\n",
        "dict.pop('バナナ')\n",
        "print(dict)"
      ],
      "metadata": {
        "colab": {
          "base_uri": "https://localhost:8080/"
        },
        "id": "N1uWjxeh2IOW",
        "outputId": "470c9129-aaea-4e73-873b-81d8375597ee"
      },
      "execution_count": 4,
      "outputs": [
        {
          "output_type": "stream",
          "name": "stdout",
          "text": [
            "{'アップル': 1, 'ペン': 2, 'パイナップル': 3, 'バナナ': 100}\n",
            "{'アップル': 1, 'ペン': 2, 'パイナップル': 3, 'バナナ': 5}\n",
            "{'アップル': 1, 'ペン': 2, 'パイナップル': 3, 'バナナ': 100}\n",
            "{'アップル': 1, 'ペン': 2, 'パイナップル': 3}\n"
          ]
        }
      ]
    },
    {
      "cell_type": "markdown",
      "source": [
        "#文字列の成形\n",
        "##文字列の連結と繰り返し"
      ],
      "metadata": {
        "id": "8mvsWsCz4YKz"
      }
    },
    {
      "cell_type": "code",
      "source": [
        "apple = 'アップル'\n",
        "pen = 'ペン'\n",
        "print(apple + pen)\n",
        "piko  =['ペン' ,'パイナップル', 'アップル' , 'ペン']\n",
        "print(',' .join(piko))\n",
        "pon = 'ポン'\n",
        "print(pon*3)"
      ],
      "metadata": {
        "colab": {
          "base_uri": "https://localhost:8080/"
        },
        "id": "2oqb45LV2Zsu",
        "outputId": "6943a90f-a63e-4bb3-a352-5fe40f82681e"
      },
      "execution_count": 9,
      "outputs": [
        {
          "output_type": "stream",
          "name": "stdout",
          "text": [
            "アップルペン\n",
            "ペン,パイナップル,アップル,ペン\n",
            "ポンポンポン\n"
          ]
        }
      ]
    },
    {
      "cell_type": "markdown",
      "source": [
        "## 【重要】文字列の成形(フォーマット)\n"
      ],
      "metadata": {
        "id": "eMU34tQd65_l"
      }
    },
    {
      "cell_type": "code",
      "source": [
        "print('{}{} :{}円')\n",
        "print('{}{} :{}円'.format('アップル', 'ペン', 100))\n",
        "print('{1}{0} :{2}円'.format('アップル', 'ペン', 100))"
      ],
      "metadata": {
        "colab": {
          "base_uri": "https://localhost:8080/"
        },
        "id": "GFCTGEb45P80",
        "outputId": "c5361e32-96a3-4b4b-9d42-3deb1f00fbba"
      },
      "execution_count": 12,
      "outputs": [
        {
          "output_type": "stream",
          "name": "stdout",
          "text": [
            "{}{} :{}円\n",
            "アップルペン :100円\n",
            "ペンアップル :100円\n"
          ]
        }
      ]
    },
    {
      "cell_type": "code",
      "source": [],
      "metadata": {
        "id": "str5W1458CRa"
      },
      "execution_count": null,
      "outputs": []
    }
  ]
}