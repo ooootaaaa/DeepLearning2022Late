{
  "nbformat": 4,
  "nbformat_minor": 0,
  "metadata": {
    "colab": {
      "provenance": [],
      "authorship_tag": "ABX9TyPJmBB94w7EYk+LFJS+O2wc",
      "include_colab_link": true
    },
    "kernelspec": {
      "name": "python3",
      "display_name": "Python 3"
    },
    "language_info": {
      "name": "python"
    }
  },
  "cells": [
    {
      "cell_type": "markdown",
      "metadata": {
        "id": "view-in-github",
        "colab_type": "text"
      },
      "source": [
        "<a href=\"https://colab.research.google.com/github/ooootaaaa/DeepLearning2022Late/blob/main/1004%5BMNISTExample2022%5D.ipynb\" target=\"_parent\"><img src=\"https://colab.research.google.com/assets/colab-badge.svg\" alt=\"Open In Colab\"/></a>"
      ]
    },
    {
      "cell_type": "markdown",
      "source": [
        "# MNISTデータセットを使って手書き数字の画像判定を実装する"
      ],
      "metadata": {
        "id": "DVTS4BAHABuR"
      }
    },
    {
      "cell_type": "markdown",
      "source": [
        "###ライブラリをimport"
      ],
      "metadata": {
        "id": "N_0j1AY6APhS"
      }
    },
    {
      "cell_type": "code",
      "execution_count": null,
      "metadata": {
        "id": "iAis9xnk_YKV"
      },
      "outputs": [],
      "source": [
        "# import keras\n",
        "# #学習用ライブラリ\n",
        "# from keras.models import Sequential #学習モデル Sequentialモデル\n",
        "# from keras.layers.core import Dropout, Activation\n",
        "# from keras.optimizers import RMSprop\n",
        "# from keras.callbacks import EarlyStopping, CSVLogger\n",
        "# #MNISTデータセットを読み込む\n",
        "# from keras.detasets import mnist\n",
        "\n",
        "from tensorflow import keras\n",
        "#学習用ライブラリ\n",
        "#MNISTデータセットを読み込む\n",
        "from tensorflow.keras.datasets import mnist\n",
        "#学習モデル Sequentialモデル\n",
        "from tensorflow.keras.models import Sequential\n",
        "#ニューロンの各層\n",
        "from tensorflow.keras.layers import Dense, Dropout, Activation\n",
        "from tensorflow.keras.optimizers import RMSprop\n",
        "from keras.callbacks import EarlyStopping, CSVLogger\n",
        "\n",
        "#表示用にpyplotを読み込む\n",
        "%matplotlib inline\n",
        "import matplotlib.pyplot as plt\n"
      ]
    },
    {
      "cell_type": "markdown",
      "source": [
        "###ハイパーパラメータ(人間が決めるパラメータ)の定義"
      ],
      "metadata": {
        "id": "5IQeQXbAjEBC"
      }
    },
    {
      "cell_type": "code",
      "source": [
        "#バッチサイズ(元のデータを何件ごとまとめて処理するか)\n",
        "batch_size = 128\n",
        "#クラス数(結果をいくつに分類するか)\n",
        "num_classes  =10\n",
        "#エポックサイズ(学習の回数：順伝播逆伝播の繰り返し数)\n",
        "epochs = 20"
      ],
      "metadata": {
        "id": "rKK2chAbDXpK"
      },
      "execution_count": null,
      "outputs": []
    },
    {
      "cell_type": "markdown",
      "source": [
        "###MNISTデータセットのデータを読み込む"
      ],
      "metadata": {
        "id": "irM-xNxullWK"
      }
    },
    {
      "cell_type": "code",
      "source": [
        "#MINSTデータを読み込む\n",
        "# x_**は画像データ、y_***は答え(その画像が数字の何なのか)\n",
        "#**_trainは学習用データ、**_testは検証用データ\n",
        "(x_train, y_train),(x_test,y_test)=mnist.load_data();"
      ],
      "metadata": {
        "id": "oS5NraFtlp42",
        "colab": {
          "base_uri": "https://localhost:8080/"
        },
        "outputId": "ed952be4-03b4-439b-f9bf-53203fdcbd1d"
      },
      "execution_count": null,
      "outputs": [
        {
          "output_type": "stream",
          "name": "stdout",
          "text": [
            "Downloading data from https://storage.googleapis.com/tensorflow/tf-keras-datasets/mnist.npz\n",
            "11490434/11490434 [==============================] - 0s 0us/step\n"
          ]
        }
      ]
    },
    {
      "cell_type": "markdown",
      "source": [
        "####MNISTデータをいくつか表示"
      ],
      "metadata": {
        "id": "6eIqA-tdnnbo"
      }
    },
    {
      "cell_type": "code",
      "source": [
        "#ループして、X_trainに入ったMNISTの画像データを試しに表示\n",
        "for i in range(10):\n",
        "  #pyplotで表示していく\n",
        "  plt.subplot(2,5,i+1) #2行5列で、i+1番目の画像をプロット\n",
        "  plt.title(\"M_%d\" % i) #「M_0」のような形式でタイトルを表示\n",
        "  plt.axis(\"off\")#軸線をオフ\n",
        "  plt.imshow(x_train[i].reshape(28,28),cmap=None)\n",
        "  #ループ終わり\n",
        "plt.show()\n"
      ],
      "metadata": {
        "colab": {
          "base_uri": "https://localhost:8080/",
          "height": 223
        },
        "id": "hAHDCasLmVv3",
        "outputId": "65cda27b-4858-42cf-aa79-86686ea22927"
      },
      "execution_count": null,
      "outputs": [
        {
          "output_type": "display_data",
          "data": {
            "text/plain": [
              "<Figure size 432x288 with 10 Axes>"
            ],
            "image/png": "[encoded data removed]"
          },
          "metadata": {
            "needs_background": "light"
          }
        }
      ]
    },
    {
      "cell_type": "markdown",
      "source": [],
      "metadata": {
        "id": "elQ_Fneh3Aju"
      }
    },
    {
      "cell_type": "markdown",
      "source": [
        "##データに前処理(画像サイズを正規化)\n",
        "データを1文字分1行(１レコード)の形にする"
      ],
      "metadata": {
        "id": "Jc1jCg48nmds"
      }
    },
    {
      "cell_type": "code",
      "source": [
        "\n",
        "#28*28の画像を1行にすると、784ピクセルになる\n",
        "#横に784個、0~255までのRGB色数値が並ぶようにする\n",
        "#x_trainは60,000字(60,000行)分*784列の２次元配列に変換することになる\n",
        "x_train = x_train.reshape(60000,784).astype('float32')\n",
        "#x_testは10,000字(10,000行)分**784列の２次元配列に変換することになる\n",
        "x_test = x_test.reshape(10000,784).astype('float32')\n",
        "#画像ドットの色情報(RGB 0～255)を0～1の小数値の範囲に変換する\n",
        "x_train /= 255 #x_trainのひとつひとつを、255で割った値で上書き\n",
        "x_test /= 255 \n",
        "#答えデータをnum_classes数(10)に分類\n",
        "y_train = keras.utils.to_categorical(y_train, num_classes)#学習用\n",
        "y_test = keras.utils.to_categorical(y_test,num_classes)#検証用\n"
      ],
      "metadata": {
        "id": "vlct7JUNryf-"
      },
      "execution_count": null,
      "outputs": []
    },
    {
      "cell_type": "markdown",
      "source": [
        "###変換したデータの形を表示して確認"
      ],
      "metadata": {
        "id": "wvj2m-ZW3UGy"
      }
    },
    {
      "cell_type": "code",
      "source": [
        "#学習 xデータ\n",
        "print(x_train.shape)#60,000行(60,000文字レコード)784列\n",
        "print(x_test.shape)#10,000行(10,000文字レコード)784列\n",
        "print(y_train.shape)#60,000行(60,000文字レコード)、(num_class:0～9の分類)\n",
        "print(y_test.shape)#10,000行(10,000文字レコード)、(num_class:0～9の分類)"
      ],
      "metadata": {
        "colab": {
          "base_uri": "https://localhost:8080/"
        },
        "id": "QbEkXPRIwHBf",
        "outputId": "0747736a-1e48-4cbd-fb03-a7390ad7b9e0"
      },
      "execution_count": null,
      "outputs": [
        {
          "output_type": "stream",
          "name": "stdout",
          "text": [
            "(60000, 784)\n",
            "(10000, 784)\n",
            "(60000, 10)\n",
            "(10000, 10)\n"
          ]
        }
      ]
    },
    {
      "cell_type": "markdown",
      "source": [
        "###学習モデルを組み立てる\n",
        "生成した学習モデルのインスタンスに層を追加していく"
      ],
      "metadata": {
        "id": "0MSKA4Wy79e3"
      }
    },
    {
      "cell_type": "code",
      "source": [
        "#学習モデル\n",
        "model  =Sequential()\n"
      ],
      "metadata": {
        "id": "bkOMqfbQ4dr-"
      },
      "execution_count": null,
      "outputs": []
    },
    {
      "cell_type": "code",
      "source": [
        "#ニューラル層を作っていく\n",
        "#784次元のデータが、任意の数だけ入力され、512次元の形で出力される\n",
        "model.add(Dense(512,input_shape=(784,)))\n",
        "#活性化関数をrelu関数に指定\n",
        "model.add(Activation('relu'))\n",
        "#Dropout(データを間引いて過学習を防ぐ)\n",
        "model.add(Dropout(0.2))#20%の結果値を0にリセット\n"
      ],
      "metadata": {
        "id": "gjQrM2Jl89db"
      },
      "execution_count": null,
      "outputs": []
    },
    {
      "cell_type": "markdown",
      "source": [
        "###2層目を追加する"
      ],
      "metadata": {
        "id": "jKGGZa_5A3wf"
      }
    },
    {
      "cell_type": "code",
      "source": [
        "#ニューロン２層目の追加\n",
        "model.add(Dense(512))#512の次元で出力される\n",
        "#活性化関数をrelu関数に指定\n",
        "model.add(Activation('relu'))\n",
        "#Dropout(データを間引いて過学習を防ぐ)\n",
        "model.add(Dropout(0.2))#20%の結果値を0にリセット"
      ],
      "metadata": {
        "id": "_b5F9nwGA3EA"
      },
      "execution_count": null,
      "outputs": []
    },
    {
      "cell_type": "markdown",
      "source": [
        "###学習モデルに３層目(最後の層)を追加する"
      ],
      "metadata": {
        "id": "mstKwsy2ELxt"
      }
    },
    {
      "cell_type": "code",
      "source": [
        "#ニューロンの３層目(出力先)の追加\n",
        "model.add(Dense(num_classes))#最後は10個(num_calsses)に分類\n",
        "#最後だけ活性化関数はsoftmaxを指定する\n",
        "#(複数の出力値の合計が「1.0」(= 100%)になるような値を返してくれるから)\n",
        "model.add(Activation('softmax'))\n"
      ],
      "metadata": {
        "id": "6zr1NiifC1lI"
      },
      "execution_count": null,
      "outputs": []
    },
    {
      "cell_type": "markdown",
      "source": [
        "###組み立てた学習モデルの要約(サマリ・概要)を表示"
      ],
      "metadata": {
        "id": "S9_b1S8HGkoC"
      }
    },
    {
      "cell_type": "code",
      "source": [
        "#学習モデルのサマリ\n",
        "model.summary()"
      ],
      "metadata": {
        "colab": {
          "base_uri": "https://localhost:8080/"
        },
        "id": "f94Sq-DGGTeW",
        "outputId": "2cb1b659-c135-45d3-b1c6-eb381cad38b1"
      },
      "execution_count": null,
      "outputs": [
        {
          "output_type": "stream",
          "name": "stdout",
          "text": [
            "Model: \"sequential\"\n",
            "_________________________________________________________________\n",
            " Layer (type)                Output Shape              Param #   \n",
            "=================================================================\n",
            " dense (Dense)               (None, 512)               401920    \n",
            "                                                                 \n",
            " activation (Activation)     (None, 512)               0         \n",
            "                                                                 \n",
            " dropout (Dropout)           (None, 512)               0         \n",
            "                                                                 \n",
            " dense_1 (Dense)             (None, 512)               262656    \n",
            "                                                                 \n",
            " activation_1 (Activation)   (None, 512)               0         \n",
            "                                                                 \n",
            " dropout_1 (Dropout)         (None, 512)               0         \n",
            "                                                                 \n",
            " dense_2 (Dense)             (None, 10)                5130      \n",
            "                                                                 \n",
            " activation_2 (Activation)   (None, 10)                0         \n",
            "                                                                 \n",
            "=================================================================\n",
            "Total params: 669,706\n",
            "Trainable params: 669,706\n",
            "Non-trainable params: 0\n",
            "_________________________________________________________________\n"
          ]
        }
      ]
    },
    {
      "cell_type": "markdown",
      "source": [
        "###学習モデルが動く形になるようにコンパイルする。"
      ],
      "metadata": {
        "id": "ctd6QLOmz_Ce"
      }
    },
    {
      "cell_type": "code",
      "source": [
        "model.compile(\n",
        "    loss = 'categorical_crossentropy',#損失の基準(交差エントロピー誤差)\n",
        "    optimizer = RMSprop(),\n",
        "    metrics=['accuracy']#accuracy=精度\n",
        ")"
      ],
      "metadata": {
        "id": "N61UcOh-G1eE"
      },
      "execution_count": null,
      "outputs": []
    },
    {
      "cell_type": "markdown",
      "source": [
        "##学習モデルに学習させる"
      ],
      "metadata": {
        "id": "5zmMvI3N2cyY"
      }
    },
    {
      "cell_type": "code",
      "source": [
        "#コールバック処理の準備\n",
        "#学習が進んで損失がそれ以上下がらなければ早期終了する\n",
        "#patience=2は、2回学習分だけ終了まで様子を見る\n",
        "es = EarlyStopping(monitor='val_loss', patience=2)\n",
        "#ログ出力\n",
        "csv_logger = CSVLogger('training.log')\n",
        "\n",
        "#学習モデルに学習させる\n",
        "#(正解データにフィットするように重みを調整する)\n",
        "hist = model.fit(\n",
        "    x_train,#学習用画像データ:問題\n",
        "    y_train,#学習用数値データ:正解\n",
        "    batch_size = batch_size,#バッチサイズ(batch_size=20)\n",
        "    epochs = epochs, #エポック数(学習回数)(epochs=20)\n",
        "    verbose = 1,#進行状況を表示\n",
        "    validation_split = 0.1,#validationデータ(検証用データ、チェックデータ)の割合(10%:この分は学習に使わず、検証データに使う)\n",
        "    callbacks = [es,csv_logger]#コールバック処理\n",
        ")\n",
        "#"
      ],
      "metadata": {
        "colab": {
          "base_uri": "https://localhost:8080/"
        },
        "id": "Iz95XgYi1xeS",
        "outputId": "45464192-a27b-41a5-9d1d-e511aff54c6e"
      },
      "execution_count": null,
      "outputs": [
        {
          "output_type": "stream",
          "name": "stdout",
          "text": [
            "Epoch 1/20\n",
            "422/422 [==============================] - 10s 20ms/step - loss: 0.2628 - accuracy: 0.9196 - val_loss: 0.1123 - val_accuracy: 0.9665\n",
            "Epoch 2/20\n",
            "422/422 [==============================] - 8s 19ms/step - loss: 0.1094 - accuracy: 0.9667 - val_loss: 0.0914 - val_accuracy: 0.9740\n",
            "Epoch 3/20\n",
            "422/422 [==============================] - 8s 19ms/step - loss: 0.0773 - accuracy: 0.9763 - val_loss: 0.0790 - val_accuracy: 0.9805\n",
            "Epoch 4/20\n",
            "422/422 [==============================] - 8s 19ms/step - loss: 0.0641 - accuracy: 0.9811 - val_loss: 0.0714 - val_accuracy: 0.9800\n",
            "Epoch 5/20\n",
            "422/422 [==============================] - 9s 20ms/step - loss: 0.0514 - accuracy: 0.9845 - val_loss: 0.0736 - val_accuracy: 0.9802\n",
            "Epoch 6/20\n",
            "422/422 [==============================] - 8s 19ms/step - loss: 0.0426 - accuracy: 0.9870 - val_loss: 0.0746 - val_accuracy: 0.9840\n"
          ]
        }
      ]
    },
    {
      "cell_type": "markdown",
      "source": [
        "##学習済みのモデルを使って、学習結果をテスト検証する"
      ],
      "metadata": {
        "id": "Ur5e3r5m_bR-"
      }
    },
    {
      "cell_type": "code",
      "source": [
        "#evaluateメソッドで検証する\n",
        "score = model.evaluate(x_test,y_test,verbose=0)#検証結果を変数に代入\n",
        "print('test loss:',score[0])#損失(誤り率)を表示\n",
        "print('test acc:',score[1])#精度(正解率)を表示\n"
      ],
      "metadata": {
        "colab": {
          "base_uri": "https://localhost:8080/"
        },
        "id": "7Wsk82_F9t4i",
        "outputId": "3aa42a9d-cd92-4da7-80ea-e875aca30b6d"
      },
      "execution_count": null,
      "outputs": [
        {
          "output_type": "stream",
          "name": "stdout",
          "text": [
            "test loss: 0.08031473308801651\n",
            "test acc: 0.9815999865531921\n"
          ]
        }
      ]
    },
    {
      "cell_type": "markdown",
      "source": [
        "##学習履歴をグラフ表示する\n"
      ],
      "metadata": {
        "id": "g0IC0OuMBBqY"
      }
    },
    {
      "cell_type": "code",
      "source": [
        "loss = hist.history['loss']\n",
        "val_loss = hist.history['val_loss']\n",
        "\n",
        "epochs = len(loss)\n",
        "plt.plot(range(epochs),loss, marker='.',label='loss(training_data)')\n",
        "plt.plot(range(epochs),val_loss, marker='.',label='val_loss(evalution_data)')\n",
        "plt.legend(loc='best')\n",
        "plt.grid()\n",
        "plt.xlabel('epoch')\n",
        "plt.ylabel('loss')\n",
        "#最後に表示\n",
        "plt.show()"
      ],
      "metadata": {
        "colab": {
          "base_uri": "https://localhost:8080/",
          "height": 279
        },
        "id": "GyVTYnJ1Aksg",
        "outputId": "a5cb1dc6-b1a8-4c93-daaf-9896c5696c81"
      },
      "execution_count": null,
      "outputs": [
        {
          "output_type": "display_data",
          "data": {
            "text/plain": [
              "<Figure size 432x288 with 1 Axes>"
            ],
            "image/png": "[encoded data removed]"
          },
          "metadata": {
            "needs_background": "light"
          }
        }
      ]
    },
    {
      "cell_type": "code",
      "source": [],
      "metadata": {
        "id": "zI8Ek161CdpH"
      },
      "execution_count": null,
      "outputs": []
    }
  ]
}