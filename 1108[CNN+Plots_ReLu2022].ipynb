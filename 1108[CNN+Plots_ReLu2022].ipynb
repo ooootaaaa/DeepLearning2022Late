{
  "nbformat": 4,
  "nbformat_minor": 0,
  "metadata": {
    "colab": {
      "provenance": [],
      "authorship_tag": "ABX9TyNMRFonAdPfD6jgp2n/7/UE",
      "include_colab_link": true
    },
    "kernelspec": {
      "name": "python3",
      "display_name": "Python 3"
    },
    "language_info": {
      "name": "python"
    }
  },
  "cells": [
    {
      "cell_type": "markdown",
      "metadata": {
        "id": "view-in-github",
        "colab_type": "text"
      },
      "source": [
        "<a href=\"https://colab.research.google.com/github/ooootaaaa/DeepLearning2022Late/blob/main/1108%5BCNN%2BPlots_ReLu2022%5D.ipynb\" target=\"_parent\"><img src=\"https://colab.research.google.com/assets/colab-badge.svg\" alt=\"Open In Colab\"/></a>"
      ]
    },
    {
      "cell_type": "markdown",
      "source": [
        "#畳み込み層(Conv2D)の活性化関数(activation)を指定する"
      ],
      "metadata": {
        "id": "XpjD8Pii3Tcu"
      }
    },
    {
      "cell_type": "markdown",
      "source": [
        "###学習モデルのライブラリをimport"
      ],
      "metadata": {
        "id": "2QPvcFJZ3cD1"
      }
    },
    {
      "cell_type": "code",
      "execution_count": 1,
      "metadata": {
        "id": "8W9mN0zu2tTC"
      },
      "outputs": [],
      "source": [
        "from keras.models import Sequential,Model\n",
        "from keras.layers import Conv2D"
      ]
    },
    {
      "cell_type": "markdown",
      "source": [
        "###SVG画像表示ライブラリのimport"
      ],
      "metadata": {
        "id": "1j1zt-da4Ie1"
      }
    },
    {
      "cell_type": "code",
      "source": [
        "from IPython.display import SVG\n",
        "from keras.utils.vis_utils import model_to_dot\n"
      ],
      "metadata": {
        "id": "U_35Mabj4HKl"
      },
      "execution_count": 2,
      "outputs": []
    },
    {
      "cell_type": "markdown",
      "source": [
        "###学習モデルの生成"
      ],
      "metadata": {
        "id": "hu-sH-ia41sc"
      }
    },
    {
      "cell_type": "code",
      "source": [
        "model= Sequential()"
      ],
      "metadata": {
        "id": "n5nk79P24SKX"
      },
      "execution_count": 3,
      "outputs": []
    },
    {
      "cell_type": "markdown",
      "source": [
        "###畳み込み層(Conv2D)を追加\n",
        "活性化関数(Activation)をReLu関数(ランプ関数)で指定"
      ],
      "metadata": {
        "id": "lxbx3_P246uC"
      }
    },
    {
      "cell_type": "code",
      "source": [
        "model.add(Conv2D(\n",
        "    filters = 3, #3パターンのフィルター\n",
        "    kernel_size = (3,3),#受容野(カーネル)の大きさ縦3、横3\n",
        "    input_shape=(6,6,1),#入力画像の1個のサイズ縦6、横6\n",
        "    activation = 'relu',#活性化関数(Activation)をrelu関数で指定\n",
        "    name=('Conv2D_1')\n",
        "))"
      ],
      "metadata": {
        "id": "UZNrTj10459r"
      },
      "execution_count": 4,
      "outputs": []
    },
    {
      "cell_type": "markdown",
      "source": [
        "###SVG画像で組み立てた学習モデルを表示"
      ],
      "metadata": {
        "id": "L7tQb_av7UAp"
      }
    },
    {
      "cell_type": "code",
      "source": [
        "SVG(model_to_dot(model,\n",
        "                 show_shapes=True,\n",
        "                 dpi=None).create(prog='dot',format='svg'))"
      ],
      "metadata": {
        "colab": {
          "base_uri": "https://localhost:8080/",
          "height": 206
        },
        "id": "oIICNZ5V6Z3y",
        "outputId": "a1cc8d47-9277-44d2-d230-c1156abd1ec7"
      },
      "execution_count": 5,
      "outputs": [
        {
          "output_type": "execute_result",
          "data": {
            "text/plain": [
              "<IPython.core.display.SVG object>"
            ],
            "image/svg+xml": "<svg height=\"138pt\" viewBox=\"0.00 0.00 368.00 138.00\" width=\"368pt\" xmlns=\"http://www.w3.org/2000/svg\" xmlns:xlink=\"http://www.w3.org/1999/xlink\">\n<g class=\"graph\" id=\"graph0\" transform=\"scale(1 1) rotate(0) translate(4 134)\">\n<title>G</title>\n<polygon fill=\"#ffffff\" points=\"-4,4 -4,-134 364,-134 364,4 -4,4\" stroke=\"transparent\"/>\n<!-- dpi -->\n<g class=\"node\" id=\"node1\">\n<title>dpi</title>\n<ellipse cx=\"27\" cy=\"-106.5\" fill=\"none\" rx=\"27\" ry=\"18\" stroke=\"#000000\"/>\n<text fill=\"#000000\" font-family=\"Times,serif\" font-size=\"14.00\" text-anchor=\"middle\" x=\"27\" y=\"-102.8\">dpi</text>\n</g>\n<!-- 140197963291216 -->\n<g class=\"node\" id=\"node2\">\n<title>140197963291216</title>\n<polygon fill=\"none\" points=\"72,-83.5 72,-129.5 360,-129.5 360,-83.5 72,-83.5\" stroke=\"#000000\"/>\n<text fill=\"#000000\" font-family=\"Times,serif\" font-size=\"14.00\" text-anchor=\"middle\" x=\"131.5\" y=\"-114.3\">Conv2D_1_input</text>\n<polyline fill=\"none\" points=\"72,-106.5 191,-106.5 \" stroke=\"#000000\"/>\n<text fill=\"#000000\" font-family=\"Times,serif\" font-size=\"14.00\" text-anchor=\"middle\" x=\"131.5\" y=\"-91.3\">InputLayer</text>\n<polyline fill=\"none\" points=\"191,-83.5 191,-129.5 \" stroke=\"#000000\"/>\n<text fill=\"#000000\" font-family=\"Times,serif\" font-size=\"14.00\" text-anchor=\"middle\" x=\"220\" y=\"-114.3\">input:</text>\n<polyline fill=\"none\" points=\"191,-106.5 249,-106.5 \" stroke=\"#000000\"/>\n<text fill=\"#000000\" font-family=\"Times,serif\" font-size=\"14.00\" text-anchor=\"middle\" x=\"220\" y=\"-91.3\">output:</text>\n<polyline fill=\"none\" points=\"249,-83.5 249,-129.5 \" stroke=\"#000000\"/>\n<text fill=\"#000000\" font-family=\"Times,serif\" font-size=\"14.00\" text-anchor=\"middle\" x=\"304.5\" y=\"-114.3\">[(None, 6, 6, 1)]</text>\n<polyline fill=\"none\" points=\"249,-106.5 360,-106.5 \" stroke=\"#000000\"/>\n<text fill=\"#000000\" font-family=\"Times,serif\" font-size=\"14.00\" text-anchor=\"middle\" x=\"304.5\" y=\"-91.3\">[(None, 6, 6, 1)]</text>\n</g>\n<!-- 140197963291664 -->\n<g class=\"node\" id=\"node3\">\n<title>140197963291664</title>\n<polygon fill=\"none\" points=\"95,-.5 95,-46.5 337,-46.5 337,-.5 95,-.5\" stroke=\"#000000\"/>\n<text fill=\"#000000\" font-family=\"Times,serif\" font-size=\"14.00\" text-anchor=\"middle\" x=\"136\" y=\"-31.3\">Conv2D_1</text>\n<polyline fill=\"none\" points=\"95,-23.5 177,-23.5 \" stroke=\"#000000\"/>\n<text fill=\"#000000\" font-family=\"Times,serif\" font-size=\"14.00\" text-anchor=\"middle\" x=\"136\" y=\"-8.3\">Conv2D</text>\n<polyline fill=\"none\" points=\"177,-.5 177,-46.5 \" stroke=\"#000000\"/>\n<text fill=\"#000000\" font-family=\"Times,serif\" font-size=\"14.00\" text-anchor=\"middle\" x=\"206\" y=\"-31.3\">input:</text>\n<polyline fill=\"none\" points=\"177,-23.5 235,-23.5 \" stroke=\"#000000\"/>\n<text fill=\"#000000\" font-family=\"Times,serif\" font-size=\"14.00\" text-anchor=\"middle\" x=\"206\" y=\"-8.3\">output:</text>\n<polyline fill=\"none\" points=\"235,-.5 235,-46.5 \" stroke=\"#000000\"/>\n<text fill=\"#000000\" font-family=\"Times,serif\" font-size=\"14.00\" text-anchor=\"middle\" x=\"286\" y=\"-31.3\">(None, 6, 6, 1)</text>\n<polyline fill=\"none\" points=\"235,-23.5 337,-23.5 \" stroke=\"#000000\"/>\n<text fill=\"#000000\" font-family=\"Times,serif\" font-size=\"14.00\" text-anchor=\"middle\" x=\"286\" y=\"-8.3\">(None, 4, 4, 3)</text>\n</g>\n<!-- 140197963291216&#45;&gt;140197963291664 -->\n<g class=\"edge\" id=\"edge1\">\n<title>140197963291216-&gt;140197963291664</title>\n<path d=\"M216,-83.3799C216,-75.1745 216,-65.7679 216,-56.8786\" fill=\"none\" stroke=\"#000000\"/>\n<polygon fill=\"#000000\" points=\"219.5001,-56.784 216,-46.784 212.5001,-56.784 219.5001,-56.784\" stroke=\"#000000\"/>\n</g>\n</g>\n</svg>"
          },
          "metadata": {},
          "execution_count": 5
        }
      ]
    },
    {
      "cell_type": "code",
      "source": [],
      "metadata": {
        "id": "kShMdlH375Hz"
      },
      "execution_count": null,
      "outputs": []
    }
  ]
}