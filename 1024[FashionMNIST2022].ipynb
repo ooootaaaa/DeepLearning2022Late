{
  "nbformat": 4,
  "nbformat_minor": 0,
  "metadata": {
    "colab": {
      "provenance": [],
      "authorship_tag": "ABX9TyOI5Mum2gfXVfWPjSYikZ/1",
      "include_colab_link": true
    },
    "kernelspec": {
      "name": "python3",
      "display_name": "Python 3"
    },
    "language_info": {
      "name": "python"
    }
  },
  "cells": [
    {
      "cell_type": "markdown",
      "metadata": {
        "id": "view-in-github",
        "colab_type": "text"
      },
      "source": [
        "<a href=\"https://colab.research.google.com/github/ooootaaaa/DeepLearning2022Late/blob/main/1024%5BFashionMNIST2022%5D.ipynb\" target=\"_parent\"><img src=\"https://colab.research.google.com/assets/colab-badge.svg\" alt=\"Open In Colab\"/></a>"
      ]
    },
    {
      "cell_type": "markdown",
      "source": [
        "#ファッション画像(MNISTデータ)の画像認識"
      ],
      "metadata": {
        "id": "p-GqqPqR2vxS"
      }
    },
    {
      "cell_type": "markdown",
      "source": [
        "##データの読み込み"
      ],
      "metadata": {
        "id": "cYKxLEfA3F_b"
      }
    },
    {
      "cell_type": "code",
      "execution_count": 17,
      "metadata": {
        "id": "IeH3ctU82POC"
      },
      "outputs": [],
      "source": [
        "from __future__ import absolute_import, division, print_function, unicode_literals\n",
        "#KerasとTensorFlowを読み込む\n",
        "import tensorflow as tf\n",
        "from tensorflow import keras"
      ]
    },
    {
      "cell_type": "markdown",
      "source": [
        "##ファッションMNIST\n",
        "\n",
        "https://github.com/zalandoresearch/fashion-mnist"
      ],
      "metadata": {
        "id": "byDtI1EN5BMf"
      }
    },
    {
      "cell_type": "code",
      "source": [
        " fashion_mnist = keras.datasets.fashion_mnist\n",
        " #データ読み込み\n",
        " (train_images, train_labels),(test_images,test_labels) = fashion_mnist.load_data()"
      ],
      "metadata": {
        "id": "CMMXMSp_32hn"
      },
      "execution_count": 18,
      "outputs": []
    },
    {
      "cell_type": "markdown",
      "source": [
        "###分類用の変数を定義する\n",
        "\n",
        "* 0    T-shirt/top\n",
        "* 1    Trouser\n",
        "* 2    Pullover\n",
        "* 3    Dress\n",
        "* 4    Coat\n",
        "* 5    Sandal\n",
        "* 6    Shirt\n",
        "* 7    Sneaker\n",
        "* 8    Bag\n",
        "* 9    Ankle boot\n"
      ],
      "metadata": {
        "id": "qsd58HIu7e_L"
      }
    },
    {
      "cell_type": "code",
      "source": [
        "class_names = ['T-shirt/top','Trouser','Pullover','Dress','Coat','Sandal','Shirt','Sneaker',' Bag','Ankle boot']\n",
        "print(class_names[3])#リストの中身を確認"
      ],
      "metadata": {
        "colab": {
          "base_uri": "https://localhost:8080/"
        },
        "id": "V6nuLQb466Dv",
        "outputId": "dc5ecdf5-5a34-48b6-acff-f969127c0958"
      },
      "execution_count": 19,
      "outputs": [
        {
          "output_type": "stream",
          "name": "stdout",
          "text": [
            "Dress\n"
          ]
        }
      ]
    },
    {
      "cell_type": "markdown",
      "source": [
        "###読み込んだデータの確認"
      ],
      "metadata": {
        "id": "O5d7fs8I-enz"
      }
    },
    {
      "cell_type": "code",
      "source": [
        "#train_images, test_imagesの形を確認\n",
        "print(train_images.shape) #学習用画像のデータ\n",
        "print(test_images.shape) #テスト検証用画像のデータ\n",
        "print(train_labels.shape) #学習用答えデータ(ラベル)の形\n",
        "print(train_labels)"
      ],
      "metadata": {
        "colab": {
          "base_uri": "https://localhost:8080/"
        },
        "id": "uRzxsFyk-dG9",
        "outputId": "c90bfe11-526e-4011-a430-d1ac45441f9b"
      },
      "execution_count": 20,
      "outputs": [
        {
          "output_type": "stream",
          "name": "stdout",
          "text": [
            "(60000, 28, 28)\n",
            "(10000, 28, 28)\n",
            "(60000,)\n",
            "[9 0 0 ... 3 0 5]\n"
          ]
        }
      ]
    },
    {
      "cell_type": "markdown",
      "source": [
        "###画像データを表示"
      ],
      "metadata": {
        "id": "Ov7ZvvxvAXlY"
      }
    },
    {
      "cell_type": "code",
      "source": [
        "#学習画像の先頭を確認\n",
        "#matplotlibのpyplotを読み込む\n",
        "import matplotlib.pyplot as plt\n",
        "#numpyを読み込む\n",
        "import numpy as np\n",
        "\n",
        "plt.figure()\n",
        "plt.imshow(train_images[8])#9番のアンクルブーツ\n",
        "plt.colorbar()\n",
        "plt.grid(False)\n",
        "plt.show() #表示"
      ],
      "metadata": {
        "colab": {
          "base_uri": "https://localhost:8080/",
          "height": 265
        },
        "id": "9bUO40wN_ABR",
        "outputId": "757fc0be-7879-4481-cc10-755a3aafb300"
      },
      "execution_count": 21,
      "outputs": [
        {
          "output_type": "display_data",
          "data": {
            "text/plain": [
              "<Figure size 432x288 with 2 Axes>"
            ],
            "image/png": "[encoded data removed]"
          },
          "metadata": {
            "needs_background": "light"
          }
        }
      ]
    },
    {
      "cell_type": "markdown",
      "source": [
        "###データを256段階に整形"
      ],
      "metadata": {
        "id": "udqJWme6De6i"
      }
    },
    {
      "cell_type": "code",
      "source": [
        "train_images = train_images /255.0\n",
        "test_images = test_images / 255.0"
      ],
      "metadata": {
        "id": "oCR0IGFFBVyx"
      },
      "execution_count": 22,
      "outputs": []
    },
    {
      "cell_type": "code",
      "source": [
        "#整形後のデータを表示\n",
        "plt.figure(figsize = (10,10))\n",
        "for i in range(25):\n",
        "  plt.subplot(5,5,i+1)\n",
        "  plt.xticks([])\n",
        "  plt.yticks([])\n",
        "  plt.grid(False)\n",
        "  plt.imshow(train_images[i],cmap=plt.cm.binary)\n",
        "  plt.xlabel(class_names[train_labels[i]])\n",
        "#ループ終わり\n",
        "plt.show()"
      ],
      "metadata": {
        "colab": {
          "base_uri": "https://localhost:8080/",
          "height": 589
        },
        "id": "GfAyY0mdDcN4",
        "outputId": "e0dbe3e8-bcd3-466f-f059-ee2b36a5d093"
      },
      "execution_count": 23,
      "outputs": [
        {
          "output_type": "display_data",
          "data": {
            "text/plain": [
              "<Figure size 720x720 with 25 Axes>"
            ],
            "image/png": "[encoded data removed]"
          },
          "metadata": {}
        }
      ]
    },
    {
      "cell_type": "markdown",
      "source": [
        "###学習モデルを組み立てる"
      ],
      "metadata": {
        "id": "VCk97tXtoS3Y"
      }
    },
    {
      "cell_type": "markdown",
      "source": [
        "###層(レイヤー)を追加設定していく"
      ],
      "metadata": {
        "id": "UesAb_jJoXUw"
      }
    },
    {
      "cell_type": "code",
      "source": [
        "from tensorflow.python.ops.array_ops import inplace_update_eager_fallback\n",
        "#kerasの学習モデルに層を設定\n",
        "model = tf.keras.Sequential()\n",
        "#入力データを整形(28*28が1画像の１次元データに整形)\n",
        "model.add(tf.keras.layers.\n",
        "          Flatten(input_shape=(28,28)))\n",
        "#パーセプトロンの層追加(Dence)\n",
        "model.add(tf.keras.layers.Dense(128,activation='relu'))\n",
        "#２つ目の層を追加(Dense)\n",
        "model.add(tf.keras.layers.Dense(10))"
      ],
      "metadata": {
        "id": "MzbZXptMFUjM"
      },
      "execution_count": 24,
      "outputs": []
    },
    {
      "cell_type": "markdown",
      "source": [
        "###学習モデルをコンパイル"
      ],
      "metadata": {
        "id": "Tz-MglBEsiR6"
      }
    },
    {
      "cell_type": "code",
      "source": [
        "#学習モデルをコンパイル\n",
        "#オプティマイザー=adam(損失をみて学習パラメータを更新する方法)\n",
        "#損失関数＝クロスエントロピー(正解率の計算方法)\n",
        "#指標 accuracy(正解率) 学習状況の監視の基準\n",
        "model.compile(optimizer='adam',\n",
        "              loss=tf.keras.losses.SparseCategoricalCrossentropy(from_logits=True),\n",
        "              metrics=['accuracy'])"
      ],
      "metadata": {
        "id": "rLVDDTCppi8V"
      },
      "execution_count": 25,
      "outputs": []
    },
    {
      "cell_type": "markdown",
      "source": [
        "#出来上がった学習モデルでサンプルデータを学習する"
      ],
      "metadata": {
        "id": "CmveApLtvN1D"
      }
    },
    {
      "cell_type": "code",
      "source": [
        "#学習する\n",
        "model.fit(train_images, train_labels, epochs=10)"
      ],
      "metadata": {
        "colab": {
          "base_uri": "https://localhost:8080/"
        },
        "id": "kSTqRpKwtXLK",
        "outputId": "824a26ae-1019-40ed-de87-5d2bf1bc436e"
      },
      "execution_count": 26,
      "outputs": [
        {
          "output_type": "stream",
          "name": "stdout",
          "text": [
            "Epoch 1/10\n",
            "1875/1875 [==============================] - 5s 3ms/step - loss: 0.4963 - accuracy: 0.8245\n",
            "Epoch 2/10\n",
            "1875/1875 [==============================] - 5s 3ms/step - loss: 0.3733 - accuracy: 0.8651\n",
            "Epoch 3/10\n",
            "1875/1875 [==============================] - 5s 3ms/step - loss: 0.3356 - accuracy: 0.8781\n",
            "Epoch 4/10\n",
            "1875/1875 [==============================] - 5s 2ms/step - loss: 0.3094 - accuracy: 0.8874\n",
            "Epoch 5/10\n",
            "1875/1875 [==============================] - 5s 2ms/step - loss: 0.2946 - accuracy: 0.8916\n",
            "Epoch 6/10\n",
            "1875/1875 [==============================] - 5s 3ms/step - loss: 0.2814 - accuracy: 0.8960\n",
            "Epoch 7/10\n",
            "1875/1875 [==============================] - 5s 2ms/step - loss: 0.2679 - accuracy: 0.9003\n",
            "Epoch 8/10\n",
            "1875/1875 [==============================] - 5s 2ms/step - loss: 0.2582 - accuracy: 0.9033\n",
            "Epoch 9/10\n",
            "1875/1875 [==============================] - 5s 3ms/step - loss: 0.2476 - accuracy: 0.9077\n",
            "Epoch 10/10\n",
            "1875/1875 [==============================] - 5s 2ms/step - loss: 0.2377 - accuracy: 0.9115\n"
          ]
        },
        {
          "output_type": "execute_result",
          "data": {
            "text/plain": [
              "<keras.callbacks.History at 0x7f9f41850410>"
            ]
          },
          "metadata": {},
          "execution_count": 26
        }
      ]
    },
    {
      "cell_type": "markdown",
      "source": [
        "###学習したモデルを評価検証する"
      ],
      "metadata": {
        "id": "E0s4CWHLxiny"
      }
    },
    {
      "cell_type": "code",
      "source": [
        "#学習していないデータ(test_images&tes_labels)で学習度合いを評価検証する\n",
        "test_loss,test_acc = model.evaluate(test_images, test_labels,verbose=2)\n",
        "#評価結果の戻り値のうち、精度を表示する\n",
        "print('精度 accuracy：',test_acc)"
      ],
      "metadata": {
        "colab": {
          "base_uri": "https://localhost:8080/"
        },
        "id": "RZf7hhJgwE_S",
        "outputId": "0d0ccbfd-a5f0-4d5b-9e0c-ec8de8fe016b"
      },
      "execution_count": 27,
      "outputs": [
        {
          "output_type": "stream",
          "name": "stdout",
          "text": [
            "313/313 - 1s - loss: 0.3446 - accuracy: 0.8819 - 788ms/epoch - 3ms/step\n",
            "精度 accuracy： 0.8819000124931335\n"
          ]
        }
      ]
    },
    {
      "cell_type": "markdown",
      "source": [
        "###学習モデルで予測させる"
      ],
      "metadata": {
        "id": "h7fLlhEGzY6d"
      }
    },
    {
      "cell_type": "code",
      "source": [
        "#学習モデルで予測させる\n",
        "probability_model = tf.keras.Sequential([model,tf.keras.layers.Softmax()])\n",
        "#予測モデルの予測結果を受け取る\n",
        "predictions = probability_model.predict(test_images)"
      ],
      "metadata": {
        "colab": {
          "base_uri": "https://localhost:8080/"
        },
        "id": "iyqzuwfsy6RC",
        "outputId": "b079932c-a0ef-4924-f42f-d48c4105d7f8"
      },
      "execution_count": 28,
      "outputs": [
        {
          "output_type": "stream",
          "name": "stdout",
          "text": [
            "313/313 [==============================] - 1s 2ms/step\n"
          ]
        }
      ]
    },
    {
      "cell_type": "markdown",
      "source": [
        "###予測結果を確認"
      ],
      "metadata": {
        "id": "8eyV2yxD1CvI"
      }
    },
    {
      "cell_type": "code",
      "source": [
        "#予測結果の形を確認\n",
        "print(predictions.shape)\n",
        "#先頭行を確認\n",
        "print(predictions[0])\n",
        "#一番高い確率を確認\n",
        "print(np.argmax(predictions[0]))\n",
        "print(predictions[0][9])\n",
        "#testの先頭データは何か確認(予測が正解したか？)\n",
        "print(test_labels[0])\n",
        "print(class_names[test_labels[0]])"
      ],
      "metadata": {
        "colab": {
          "base_uri": "https://localhost:8080/"
        },
        "id": "azk1kj-Z1AXB",
        "outputId": "4095fdd5-7500-4284-bd20-6113a224f221"
      },
      "execution_count": 37,
      "outputs": [
        {
          "output_type": "stream",
          "name": "stdout",
          "text": [
            "(10000, 10)\n",
            "[4.7116716e-10 1.0362904e-11 6.3598640e-11 1.4621190e-09 2.3790714e-10\n",
            " 2.7029417e-04 8.4903604e-09 5.4572448e-03 4.5525090e-09 9.9427241e-01]\n",
            "9\n",
            "0.9942724\n",
            "9\n",
            "Ankle boot\n"
          ]
        }
      ]
    },
    {
      "cell_type": "markdown",
      "source": [
        "###個別の予測結果をグラフィカルに表示するための関数を準備する"
      ],
      "metadata": {
        "id": "dSwsWH4g-jnR"
      }
    },
    {
      "cell_type": "markdown",
      "source": [
        "###画像と結果の値を表示する関数"
      ],
      "metadata": {
        "id": "Li-qzgdB-6W7"
      }
    },
    {
      "cell_type": "code",
      "source": [
        "def plot_image(i,predictions_array, true_label, img):\n",
        "  true_label, img =true_label[i] ,img[i]\n",
        "  #pyplotの設定\n",
        "  plt.grid(False)#グリッドなし\n",
        "  plt.xticks([])#x刻みなし\n",
        "  plt.yticks([])#y刻みなし\n",
        "  plt.imshow(img,cmap=plt.cm.binary)#画像(img)を白黒表示で設定\n",
        "  #予測結果の文字列表示部分\n",
        "  #予測の配列のうち、一番高い確率といわれているものを抜き出して代入\n",
        "  predicted_label = np.argmax(predictions_array)\n",
        "  #予測が正解ラベルと同じかどうかを判定\n",
        "  if predicted_label == true_label:\n",
        "    color = 'blue'#予測が正解の時は青色で表示\n",
        "  else:\n",
        "    color = 'red'#予測が不正解の時は赤色で表示\n",
        "  #if文終わり\n",
        "\n",
        "  #plotに横タイトルを設定\n",
        "  #予測商品名、予測確立、正解商品名の順に表示\n",
        "    plt.xlabels(\"{} {:2.0f}% ({})\".format(\n",
        "      class_names[predicted_label],\n",
        "      100*np.max(predictions_array),\n",
        "      class_names[true_label]),color=color\n",
        "    )\n",
        "#関数終わり"
      ],
      "metadata": {
        "id": "qa4Oqcjn1Kpk"
      },
      "execution_count": 57,
      "outputs": []
    },
    {
      "cell_type": "markdown",
      "source": [
        "###予測と正解の値を棒グラフで表示する関数"
      ],
      "metadata": {
        "id": "psOc_ZENHLWG"
      }
    },
    {
      "cell_type": "code",
      "source": [
        "def plt_value_array(i,predictions_array,true_label):\n",
        "  true_label = true_label[i]\n",
        "   #pyplotの設定\n",
        "  plt.grid(False)#グリッドなし\n",
        "  plt.xticks(range(10))#x刻み　0～9\n",
        "  plt.yticks()#y刻みなし\n",
        "  #棒を設定　棒を10刻みでpredictions_arrayの数分、グレー表示\n",
        "  thisplot = plt.bar(range(10),predictions_array, color='#777777')\n",
        "  plt.ylim([0,1])\n",
        "  #正解、不正解野棒をグレーから色を変える\n",
        "  predicted_label = np.argmax(predictions_array)\n",
        "  #予測の棒は赤に変える\n",
        "  thisplot[predicted_label].set_color('red')\n",
        "  #正解の棒は青に変える(赤い予測も青に変わる)\n",
        "  thisplot[true_label].set_color('blue')\n",
        "  #関数終わり"
      ],
      "metadata": {
        "id": "HN-l2Ewu_qBD"
      },
      "execution_count": 62,
      "outputs": []
    },
    {
      "cell_type": "markdown",
      "source": [
        "###作成した関数を使って予測と正解をグラフィカル表示する"
      ],
      "metadata": {
        "id": "qVl355qHMoea"
      }
    },
    {
      "cell_type": "code",
      "source": [
        "#0番目の画像を確認\n",
        "i=0\n",
        "#plotを設定\n",
        "plt.figure(figsize=(6,3))\n",
        "plt.subplot(1,2,1)\n",
        "#画像とタイトルを関数表示\n",
        "#i=0, predictons[0]=1万件分の予測の0番目=10個の確立の配列\n",
        "#test_labels=1万件の正解配列、test_images=1万件分の評価画像データ\n",
        "plot_image(i,predictions[i],test_labels,test_images)\n",
        "plt.subplot(1,2,2)#隣にサブプロット\n",
        "#予測結果を関数で棒グラフ表示\n",
        "plt_value_array(i,predictions[i],test_labels)\n",
        "plt.show() #最後に表示"
      ],
      "metadata": {
        "colab": {
          "base_uri": "https://localhost:8080/",
          "height": 215
        },
        "id": "tZYkftrv-4SR",
        "outputId": "13128d85-06c1-42d4-acd2-25c8d8cb3052"
      },
      "execution_count": 63,
      "outputs": [
        {
          "output_type": "display_data",
          "data": {
            "text/plain": [
              "<Figure size 432x216 with 2 Axes>"
            ],
            "image/png": "[encoded data removed]"
          },
          "metadata": {
            "needs_background": "light"
          }
        }
      ]
    },
    {
      "cell_type": "code",
      "source": [],
      "metadata": {
        "id": "BO28SZj0OnXT"
      },
      "execution_count": null,
      "outputs": []
    }
  ]
}