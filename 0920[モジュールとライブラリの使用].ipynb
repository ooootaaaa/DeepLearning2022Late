{
  "nbformat": 4,
  "nbformat_minor": 0,
  "metadata": {
    "colab": {
      "provenance": [],
      "authorship_tag": "ABX9TyPgtvszGwjJJTq0otHf/sWA",
      "include_colab_link": true
    },
    "kernelspec": {
      "name": "python3",
      "display_name": "Python 3"
    },
    "language_info": {
      "name": "python"
    }
  },
  "cells": [
    {
      "cell_type": "markdown",
      "metadata": {
        "id": "view-in-github",
        "colab_type": "text"
      },
      "source": [
        "<a href=\"https://colab.research.google.com/github/ooootaaaa/DeepLearning2022Late/blob/main/0920%5B%E3%83%A2%E3%82%B8%E3%83%A5%E3%83%BC%E3%83%AB%E3%81%A8%E3%83%A9%E3%82%A4%E3%83%96%E3%83%A9%E3%83%AA%E3%81%AE%E4%BD%BF%E7%94%A8%5D.ipynb\" target=\"_parent\"><img src=\"https://colab.research.google.com/assets/colab-badge.svg\" alt=\"Open In Colab\"/></a>"
      ]
    },
    {
      "cell_type": "markdown",
      "source": [
        "#モジュールを使う\n",
        "##import文でモジュールを読み込んで使う\n",
        "例) math"
      ],
      "metadata": {
        "id": "ewTurp8e85tv"
      }
    },
    {
      "cell_type": "code",
      "source": [
        "#mathモジュールを読み込む\n",
        "import math\n",
        "print(math.pi)#mathの中に定義してある円周率を表示\n",
        "print(math.pow(5,2))#5の2乗\n",
        "print(math.sqrt(9))#9の平方根"
      ],
      "metadata": {
        "colab": {
          "base_uri": "https://localhost:8080/"
        },
        "id": "YBQRcdGQ9TEa",
        "outputId": "219ab6a0-e6e1-41ae-a1a1-6b1950cdef93"
      },
      "execution_count": 1,
      "outputs": [
        {
          "output_type": "stream",
          "name": "stdout",
          "text": [
            "3.141592653589793\n",
            "25.0\n",
            "3.0\n"
          ]
        }
      ]
    },
    {
      "cell_type": "markdown",
      "source": [
        "## Numpy -- 数値計算用の便利なライブラリ\n",
        "\n",
        "https://numpy.org/\n"
      ],
      "metadata": {
        "id": "fbrA9ax4_TQm"
      }
    },
    {
      "cell_type": "code",
      "source": [
        "#numpy を import\n",
        "import numpy as np"
      ],
      "metadata": {
        "id": "VZMtEMeJ9UlR"
      },
      "execution_count": 2,
      "outputs": []
    },
    {
      "cell_type": "markdown",
      "source": [
        "### numpy配列をつくる(ndarray)\n"
      ],
      "metadata": {
        "id": "DNfTMm5RojK4"
      }
    },
    {
      "cell_type": "code",
      "source": [
        "#リストを引き渡してndarrayを作る\n",
        "a = np.array([5,7,3,1,4,3])\n",
        "print(a)"
      ],
      "metadata": {
        "id": "6PcLyzA1_4Cc",
        "colab": {
          "base_uri": "https://localhost:8080/"
        },
        "outputId": "0cc9c945-9b36-4cad-a7b1-d51e43f6b74d"
      },
      "execution_count": 3,
      "outputs": [
        {
          "output_type": "stream",
          "name": "stdout",
          "text": [
            "[5 7 3 1 4 3]\n"
          ]
        }
      ]
    },
    {
      "cell_type": "markdown",
      "source": [
        "##Numpyで配列の操作をしてみる\n",
        "配列を構成しなおす"
      ],
      "metadata": {
        "id": "hOlwnf8LqHhv"
      }
    },
    {
      "cell_type": "code",
      "source": [
        "#現在、aは1行1次元配列\n",
        "print(a)\n",
        "#aを3行2列の2次元配列に構成しなおす\n",
        "b = a.reshape([3,2])#新しい配列の構成を引数で指定する\n",
        "print(b)"
      ],
      "metadata": {
        "colab": {
          "base_uri": "https://localhost:8080/"
        },
        "id": "j3gWqld0pegy",
        "outputId": "a4a0f7f6-84fb-4e6e-91dd-38e40ce4c511"
      },
      "execution_count": 4,
      "outputs": [
        {
          "output_type": "stream",
          "name": "stdout",
          "text": [
            "[5 7 3 1 4 3]\n",
            "[[5 7]\n",
            " [3 1]\n",
            " [4 3]]\n"
          ]
        }
      ]
    },
    {
      "cell_type": "markdown",
      "source": [
        "###Numpy配列の中身を初期化しいて作る"
      ],
      "metadata": {
        "id": "VvENAXN0sFgs"
      }
    },
    {
      "cell_type": "code",
      "source": [
        "#3行4列の0が入った2次元配列を作る\n",
        "c = np.zeros((3,4))\n",
        "print(c)\n",
        "#ランダムな値が入った配列を作る\n",
        "np.random.seed(0)\n",
        "r = np.random.rand(3,4)\n",
        "print(r)"
      ],
      "metadata": {
        "colab": {
          "base_uri": "https://localhost:8080/"
        },
        "id": "2dSqxzj3qpJP",
        "outputId": "6bde57aa-5709-4ac5-ff22-8e1d0330290b"
      },
      "execution_count": 5,
      "outputs": [
        {
          "output_type": "stream",
          "name": "stdout",
          "text": [
            "[[0. 0. 0. 0.]\n",
            " [0. 0. 0. 0.]\n",
            " [0. 0. 0. 0.]]\n",
            "[[0.5488135  0.71518937 0.60276338 0.54488318]\n",
            " [0.4236548  0.64589411 0.43758721 0.891773  ]\n",
            " [0.96366276 0.38344152 0.79172504 0.52889492]]\n"
          ]
        }
      ]
    },
    {
      "cell_type": "markdown",
      "source": [
        "##Numpyのスライスのやり方\n",
        "###基本\n",
        "スライスの指定の仕方[start:stop:step]で指定する"
      ],
      "metadata": {
        "id": "wICMFx_zuhqA"
      }
    },
    {
      "cell_type": "code",
      "source": [
        "#リストのスライス\n",
        "l = list(range(10))#0～9までの10個の要素のリスト\n",
        "print(l)\n",
        "print(l[4:8])#[4:8]でスライス\n",
        "print(l[::])#stepを-1でスライス"
      ],
      "metadata": {
        "colab": {
          "base_uri": "https://localhost:8080/"
        },
        "id": "yfA9DycXsqIT",
        "outputId": "20decc4c-db15-4532-9e90-470a3a57603f"
      },
      "execution_count": 6,
      "outputs": [
        {
          "output_type": "stream",
          "name": "stdout",
          "text": [
            "[0, 1, 2, 3, 4, 5, 6, 7, 8, 9]\n",
            "[4, 5, 6, 7]\n",
            "[0, 1, 2, 3, 4, 5, 6, 7, 8, 9]\n"
          ]
        }
      ]
    },
    {
      "cell_type": "markdown",
      "source": [
        "###1次元のNumpy配列(ndarray)におけるスライス"
      ],
      "metadata": {
        "id": "Y5p6HNX_xCjq"
      }
    },
    {
      "cell_type": "code",
      "source": [
        "#範囲を指定してndarrayを作る\n",
        "a = np.arange(10)#0～9の10個の要素のndarray\n",
        "print(a)\n",
        "print(a[2:8])\n",
        "print(a[2:8:2])#step2で2個飛ばし\n",
        "print(a[2:8:3])"
      ],
      "metadata": {
        "colab": {
          "base_uri": "https://localhost:8080/"
        },
        "id": "D3BfSosKwHOH",
        "outputId": "be7aca0f-2625-4f93-8dc2-32a1ca101c07"
      },
      "execution_count": 7,
      "outputs": [
        {
          "output_type": "stream",
          "name": "stdout",
          "text": [
            "[0 1 2 3 4 5 6 7 8 9]\n",
            "[2 3 4 5 6 7]\n",
            "[2 4 6]\n",
            "[2 5]\n"
          ]
        }
      ]
    },
    {
      "cell_type": "markdown",
      "source": [
        "###1次元配列のndarrayのスライスに代入"
      ],
      "metadata": {
        "id": "e314Bi6mzZDG"
      }
    },
    {
      "cell_type": "code",
      "source": [
        "print(a)\n",
        "a[3:6]=100#指定した範囲に特定の値を代入\n",
        "print(a)\n",
        "a[3:6] = [100,200,300]#指定した範囲にリストの値を代入\n",
        "print(a)\n",
        "#a[3:6] = [100,200,300,400] #3つの範囲に4つの要素で上書きはできない\n",
        "a = np.arange(10)\n",
        "print(a)\n",
        "a[2:8:2] = 100#start2stop8にstep2で上書き\n",
        "print(a)"
      ],
      "metadata": {
        "colab": {
          "base_uri": "https://localhost:8080/"
        },
        "id": "vSvN_XmRxb3z",
        "outputId": "131c9b34-cbf5-401a-a2b1-b61cf7431c8b"
      },
      "execution_count": 8,
      "outputs": [
        {
          "output_type": "stream",
          "name": "stdout",
          "text": [
            "[0 1 2 3 4 5 6 7 8 9]\n",
            "[  0   1   2 100 100 100   6   7   8   9]\n",
            "[  0   1   2 100 200 300   6   7   8   9]\n",
            "[0 1 2 3 4 5 6 7 8 9]\n",
            "[  0   1 100   3 100   5 100   7   8   9]\n"
          ]
        }
      ]
    },
    {
      "cell_type": "markdown",
      "source": [
        "###多次元配列のndarrayのスライス"
      ],
      "metadata": {
        "id": "C6AVIOlJ2mxD"
      }
    },
    {
      "cell_type": "code",
      "source": [
        "#3行4列の2次元配列を作る\n",
        "a = np.arange(12).reshape((3,4))\n",
        "print(a)\n",
        "#2行目から終わりまでの行  =[1: ]\n",
        "#2列名から4列目手前までの列 = [1:3]\n",
        "print(a[1:, 1:3])\n",
        "b = np.arange(20).reshape(5,4)\n",
        "print(b)\n",
        "#9,10 13,14 17,18 の3行2列だけ抜き出す\n",
        "print(b[2:, 1:3])\n",
        "c = b[2:, 1:3]\n",
        "# スライスした部分が何行何列なのか\n",
        "print(c.shape)"
      ],
      "metadata": {
        "colab": {
          "base_uri": "https://localhost:8080/"
        },
        "id": "m7_MDkkYz8Ez",
        "outputId": "dfa3e7a4-6414-4349-cc05-977eda8ae134"
      },
      "execution_count": 10,
      "outputs": [
        {
          "output_type": "stream",
          "name": "stdout",
          "text": [
            "[[ 0  1  2  3]\n",
            " [ 4  5  6  7]\n",
            " [ 8  9 10 11]]\n",
            "[[ 5  6]\n",
            " [ 9 10]]\n",
            "[[ 0  1  2  3]\n",
            " [ 4  5  6  7]\n",
            " [ 8  9 10 11]\n",
            " [12 13 14 15]\n",
            " [16 17 18 19]]\n",
            "[[ 9 10]\n",
            " [13 14]\n",
            " [17 18]]\n",
            "(3, 2)\n"
          ]
        }
      ]
    },
    {
      "cell_type": "markdown",
      "source": [
        "###多次元のndarrayへのスライスでの代入"
      ],
      "metadata": {
        "id": "DmU8ll2wlnfP"
      }
    },
    {
      "cell_type": "markdown",
      "source": [],
      "metadata": {
        "id": "v6es3GsLlnUe"
      }
    },
    {
      "cell_type": "code",
      "source": [
        "# 要素数12の3行4列の2次元配列を作る\n",
        "a = np.arange(12).reshape(3,4)\n",
        "print(a)\n",
        "# 5,6,9,10の部分をスライス\n",
        "print(a[1:, 1:3])\n",
        "a[1:, 1:3] = 100\n",
        "print(a)\n",
        "a = np.arange(12).reshape(3,4)\n",
        "# 多次元での上書きにリストを使う\n",
        "a[1:, 1:3] = [100, 200]\n",
        "print(a)\n",
        "# 多次元の上書きに2次元のリストを使う\n",
        "a[1:,1:3] = [[100, 200], [300, 400]]\n",
        "print(a)"
      ],
      "metadata": {
        "id": "CgjiQmas3C_k",
        "colab": {
          "base_uri": "https://localhost:8080/"
        },
        "outputId": "89843cba-45e5-4058-bd7a-96581c8495aa"
      },
      "execution_count": 11,
      "outputs": [
        {
          "output_type": "stream",
          "name": "stdout",
          "text": [
            "[[ 0  1  2  3]\n",
            " [ 4  5  6  7]\n",
            " [ 8  9 10 11]]\n",
            "[[ 5  6]\n",
            " [ 9 10]]\n",
            "[[  0   1   2   3]\n",
            " [  4 100 100   7]\n",
            " [  8 100 100  11]]\n",
            "[[  0   1   2   3]\n",
            " [  4 100 200   7]\n",
            " [  8 100 200  11]]\n",
            "[[  0   1   2   3]\n",
            " [  4 100 200   7]\n",
            " [  8 300 400  11]]\n"
          ]
        }
      ]
    },
    {
      "cell_type": "markdown",
      "source": [
        "###多次元のnddarrayへのstepを使ったスライスでの代入"
      ],
      "metadata": {
        "id": "EpKAMKUUl0LW"
      }
    },
    {
      "cell_type": "code",
      "source": [
        "# 要素数12 3行4列のndarrayを作って変数aに代入\n",
        "a = np.arange(12).reshape((3,4))\n",
        "print(a)\n",
        "# スライスにstepを使ってみる 4,6,8,10を抜き出す\n",
        "print(a[1:, ::2])\n",
        "#0,3,4,7 抜き出す\n",
        "print(a[:2:, : :3])\n",
        "a[1: , ::2] = 100\n",
        "print(a)\n",
        "#4,6,8,10だったところを100で上書き\n",
        "a[1: , ::2] = [100,200]\n",
        "print(a)\n",
        "#4,6,8,10だったところを多次元リストで上書き\n",
        "a[ 1: , ::2] = [[100,200], [300,400]]\n",
        "print(a)"
      ],
      "metadata": {
        "colab": {
          "base_uri": "https://localhost:8080/"
        },
        "id": "rhBVjgvvlwic",
        "outputId": "31574d3c-f0ad-4948-e416-15c0edf0d098"
      },
      "execution_count": 12,
      "outputs": [
        {
          "output_type": "stream",
          "name": "stdout",
          "text": [
            "[[ 0  1  2  3]\n",
            " [ 4  5  6  7]\n",
            " [ 8  9 10 11]]\n",
            "[[ 4  6]\n",
            " [ 8 10]]\n",
            "[[0 3]\n",
            " [4 7]]\n",
            "[[  0   1   2   3]\n",
            " [100   5 100   7]\n",
            " [100   9 100  11]]\n",
            "[[  0   1   2   3]\n",
            " [100   5 200   7]\n",
            " [100   9 200  11]]\n",
            "[[  0   1   2   3]\n",
            " [100   5 200   7]\n",
            " [300   9 400  11]]\n"
          ]
        }
      ]
    },
    {
      "cell_type": "code",
      "source": [],
      "metadata": {
        "id": "frNwB7XEmz-7"
      },
      "execution_count": null,
      "outputs": []
    }
  ]
}